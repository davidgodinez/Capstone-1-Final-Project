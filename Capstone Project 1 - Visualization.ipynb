{
 "cells": [
  {
   "cell_type": "code",
   "execution_count": 1,
   "metadata": {},
   "outputs": [],
   "source": [
    "import numpy as np\n",
    "import pandas as pd"
   ]
  },
  {
   "cell_type": "code",
   "execution_count": 2,
   "metadata": {},
   "outputs": [],
   "source": [
    "import matplotlib.pyplot as plt\n",
    "import seaborn as sns"
   ]
  },
  {
   "cell_type": "code",
   "execution_count": 3,
   "metadata": {},
   "outputs": [],
   "source": [
    "sns.set()"
   ]
  },
  {
   "cell_type": "code",
   "execution_count": 4,
   "metadata": {},
   "outputs": [],
   "source": [
    "%matplotlib inline"
   ]
  },
  {
   "cell_type": "code",
   "execution_count": 5,
   "metadata": {},
   "outputs": [],
   "source": [
    "df = pd.read_excel('default of credit card clients (1).xls')"
   ]
  },
  {
   "cell_type": "code",
   "execution_count": 6,
   "metadata": {},
   "outputs": [
    {
     "data": {
      "text/html": [
       "<div>\n",
       "<style scoped>\n",
       "    .dataframe tbody tr th:only-of-type {\n",
       "        vertical-align: middle;\n",
       "    }\n",
       "\n",
       "    .dataframe tbody tr th {\n",
       "        vertical-align: top;\n",
       "    }\n",
       "\n",
       "    .dataframe thead th {\n",
       "        text-align: right;\n",
       "    }\n",
       "</style>\n",
       "<table border=\"1\" class=\"dataframe\">\n",
       "  <thead>\n",
       "    <tr style=\"text-align: right;\">\n",
       "      <th></th>\n",
       "      <th>ID</th>\n",
       "      <th>LIMIT_BAL</th>\n",
       "      <th>SEX</th>\n",
       "      <th>EDUCATION</th>\n",
       "      <th>MARRIAGE</th>\n",
       "      <th>AGE</th>\n",
       "      <th>PAY_0</th>\n",
       "      <th>PAY_2</th>\n",
       "      <th>PAY_3</th>\n",
       "      <th>PAY_4</th>\n",
       "      <th>...</th>\n",
       "      <th>BILL_AMT4</th>\n",
       "      <th>BILL_AMT5</th>\n",
       "      <th>BILL_AMT6</th>\n",
       "      <th>PAY_AMT1</th>\n",
       "      <th>PAY_AMT2</th>\n",
       "      <th>PAY_AMT3</th>\n",
       "      <th>PAY_AMT4</th>\n",
       "      <th>PAY_AMT5</th>\n",
       "      <th>PAY_AMT6</th>\n",
       "      <th>default payment next month</th>\n",
       "    </tr>\n",
       "  </thead>\n",
       "  <tbody>\n",
       "    <tr>\n",
       "      <th>0</th>\n",
       "      <td>1</td>\n",
       "      <td>20000</td>\n",
       "      <td>2</td>\n",
       "      <td>2</td>\n",
       "      <td>1</td>\n",
       "      <td>24</td>\n",
       "      <td>2</td>\n",
       "      <td>2</td>\n",
       "      <td>-1</td>\n",
       "      <td>-1</td>\n",
       "      <td>...</td>\n",
       "      <td>0</td>\n",
       "      <td>0</td>\n",
       "      <td>0</td>\n",
       "      <td>0</td>\n",
       "      <td>689</td>\n",
       "      <td>0</td>\n",
       "      <td>0</td>\n",
       "      <td>0</td>\n",
       "      <td>0</td>\n",
       "      <td>1</td>\n",
       "    </tr>\n",
       "    <tr>\n",
       "      <th>1</th>\n",
       "      <td>2</td>\n",
       "      <td>120000</td>\n",
       "      <td>2</td>\n",
       "      <td>2</td>\n",
       "      <td>2</td>\n",
       "      <td>26</td>\n",
       "      <td>-1</td>\n",
       "      <td>2</td>\n",
       "      <td>0</td>\n",
       "      <td>0</td>\n",
       "      <td>...</td>\n",
       "      <td>3272</td>\n",
       "      <td>3455</td>\n",
       "      <td>3261</td>\n",
       "      <td>0</td>\n",
       "      <td>1000</td>\n",
       "      <td>1000</td>\n",
       "      <td>1000</td>\n",
       "      <td>0</td>\n",
       "      <td>2000</td>\n",
       "      <td>1</td>\n",
       "    </tr>\n",
       "    <tr>\n",
       "      <th>2</th>\n",
       "      <td>3</td>\n",
       "      <td>90000</td>\n",
       "      <td>2</td>\n",
       "      <td>2</td>\n",
       "      <td>2</td>\n",
       "      <td>34</td>\n",
       "      <td>0</td>\n",
       "      <td>0</td>\n",
       "      <td>0</td>\n",
       "      <td>0</td>\n",
       "      <td>...</td>\n",
       "      <td>14331</td>\n",
       "      <td>14948</td>\n",
       "      <td>15549</td>\n",
       "      <td>1518</td>\n",
       "      <td>1500</td>\n",
       "      <td>1000</td>\n",
       "      <td>1000</td>\n",
       "      <td>1000</td>\n",
       "      <td>5000</td>\n",
       "      <td>0</td>\n",
       "    </tr>\n",
       "    <tr>\n",
       "      <th>3</th>\n",
       "      <td>4</td>\n",
       "      <td>50000</td>\n",
       "      <td>2</td>\n",
       "      <td>2</td>\n",
       "      <td>1</td>\n",
       "      <td>37</td>\n",
       "      <td>0</td>\n",
       "      <td>0</td>\n",
       "      <td>0</td>\n",
       "      <td>0</td>\n",
       "      <td>...</td>\n",
       "      <td>28314</td>\n",
       "      <td>28959</td>\n",
       "      <td>29547</td>\n",
       "      <td>2000</td>\n",
       "      <td>2019</td>\n",
       "      <td>1200</td>\n",
       "      <td>1100</td>\n",
       "      <td>1069</td>\n",
       "      <td>1000</td>\n",
       "      <td>0</td>\n",
       "    </tr>\n",
       "    <tr>\n",
       "      <th>4</th>\n",
       "      <td>5</td>\n",
       "      <td>50000</td>\n",
       "      <td>1</td>\n",
       "      <td>2</td>\n",
       "      <td>1</td>\n",
       "      <td>57</td>\n",
       "      <td>-1</td>\n",
       "      <td>0</td>\n",
       "      <td>-1</td>\n",
       "      <td>0</td>\n",
       "      <td>...</td>\n",
       "      <td>20940</td>\n",
       "      <td>19146</td>\n",
       "      <td>19131</td>\n",
       "      <td>2000</td>\n",
       "      <td>36681</td>\n",
       "      <td>10000</td>\n",
       "      <td>9000</td>\n",
       "      <td>689</td>\n",
       "      <td>679</td>\n",
       "      <td>0</td>\n",
       "    </tr>\n",
       "  </tbody>\n",
       "</table>\n",
       "<p>5 rows × 25 columns</p>\n",
       "</div>"
      ],
      "text/plain": [
       "   ID  LIMIT_BAL  SEX  EDUCATION  MARRIAGE  AGE  PAY_0  PAY_2  PAY_3  PAY_4  \\\n",
       "0   1      20000    2          2         1   24      2      2     -1     -1   \n",
       "1   2     120000    2          2         2   26     -1      2      0      0   \n",
       "2   3      90000    2          2         2   34      0      0      0      0   \n",
       "3   4      50000    2          2         1   37      0      0      0      0   \n",
       "4   5      50000    1          2         1   57     -1      0     -1      0   \n",
       "\n",
       "   ...  BILL_AMT4  BILL_AMT5  BILL_AMT6  PAY_AMT1  PAY_AMT2  PAY_AMT3  \\\n",
       "0  ...          0          0          0         0       689         0   \n",
       "1  ...       3272       3455       3261         0      1000      1000   \n",
       "2  ...      14331      14948      15549      1518      1500      1000   \n",
       "3  ...      28314      28959      29547      2000      2019      1200   \n",
       "4  ...      20940      19146      19131      2000     36681     10000   \n",
       "\n",
       "   PAY_AMT4  PAY_AMT5  PAY_AMT6  default payment next month  \n",
       "0         0         0         0                           1  \n",
       "1      1000         0      2000                           1  \n",
       "2      1000      1000      5000                           0  \n",
       "3      1100      1069      1000                           0  \n",
       "4      9000       689       679                           0  \n",
       "\n",
       "[5 rows x 25 columns]"
      ]
     },
     "execution_count": 6,
     "metadata": {},
     "output_type": "execute_result"
    }
   ],
   "source": [
    "df.head()"
   ]
  },
  {
   "cell_type": "code",
   "execution_count": 7,
   "metadata": {},
   "outputs": [
    {
     "data": {
      "text/plain": [
       "2    15964\n",
       "1    13659\n",
       "3      323\n",
       "0       54\n",
       "Name: MARRIAGE, dtype: int64"
      ]
     },
     "execution_count": 7,
     "metadata": {},
     "output_type": "execute_result"
    }
   ],
   "source": [
    "df.MARRIAGE.value_counts()"
   ]
  },
  {
   "cell_type": "code",
   "execution_count": 22,
   "metadata": {},
   "outputs": [
    {
     "name": "stdout",
     "output_type": "stream",
     "text": [
      "2    18112\n",
      "1    11888\n",
      "Name: SEX, dtype: int64\n",
      "2    14030\n",
      "1    10585\n",
      "3     4917\n",
      "5      280\n",
      "4      123\n",
      "6       51\n",
      "0       14\n",
      "Name: EDUCATION, dtype: int64\n"
     ]
    }
   ],
   "source": [
    "print(df.SEX.value_counts())\n",
    "print(df.EDUCATION.value_counts())"
   ]
  },
  {
   "cell_type": "code",
   "execution_count": null,
   "metadata": {},
   "outputs": [],
   "source": []
  },
  {
   "cell_type": "code",
   "execution_count": null,
   "metadata": {},
   "outputs": [],
   "source": []
  },
  {
   "cell_type": "code",
   "execution_count": 23,
   "metadata": {},
   "outputs": [
    {
     "data": {
      "text/html": [
       "<div>\n",
       "<style scoped>\n",
       "    .dataframe tbody tr th:only-of-type {\n",
       "        vertical-align: middle;\n",
       "    }\n",
       "\n",
       "    .dataframe tbody tr th {\n",
       "        vertical-align: top;\n",
       "    }\n",
       "\n",
       "    .dataframe thead th {\n",
       "        text-align: right;\n",
       "    }\n",
       "</style>\n",
       "<table border=\"1\" class=\"dataframe\">\n",
       "  <thead>\n",
       "    <tr style=\"text-align: right;\">\n",
       "      <th></th>\n",
       "      <th>LIMIT_BAL</th>\n",
       "      <th>SEX</th>\n",
       "      <th>EDUCATION</th>\n",
       "      <th>MARRIAGE</th>\n",
       "      <th>AGE</th>\n",
       "      <th>PAY_0</th>\n",
       "      <th>PAY_2</th>\n",
       "      <th>PAY_3</th>\n",
       "      <th>PAY_4</th>\n",
       "      <th>PAY_5</th>\n",
       "      <th>...</th>\n",
       "      <th>BILL_AMT4</th>\n",
       "      <th>BILL_AMT5</th>\n",
       "      <th>BILL_AMT6</th>\n",
       "      <th>PAY_AMT1</th>\n",
       "      <th>PAY_AMT2</th>\n",
       "      <th>PAY_AMT3</th>\n",
       "      <th>PAY_AMT4</th>\n",
       "      <th>PAY_AMT5</th>\n",
       "      <th>PAY_AMT6</th>\n",
       "      <th>default payment next month</th>\n",
       "    </tr>\n",
       "  </thead>\n",
       "  <tbody>\n",
       "    <tr>\n",
       "      <th>0</th>\n",
       "      <td>20000</td>\n",
       "      <td>2</td>\n",
       "      <td>2</td>\n",
       "      <td>1</td>\n",
       "      <td>24</td>\n",
       "      <td>2</td>\n",
       "      <td>2</td>\n",
       "      <td>-1</td>\n",
       "      <td>-1</td>\n",
       "      <td>-2</td>\n",
       "      <td>...</td>\n",
       "      <td>0</td>\n",
       "      <td>0</td>\n",
       "      <td>0</td>\n",
       "      <td>0</td>\n",
       "      <td>689</td>\n",
       "      <td>0</td>\n",
       "      <td>0</td>\n",
       "      <td>0</td>\n",
       "      <td>0</td>\n",
       "      <td>1</td>\n",
       "    </tr>\n",
       "    <tr>\n",
       "      <th>1</th>\n",
       "      <td>120000</td>\n",
       "      <td>2</td>\n",
       "      <td>2</td>\n",
       "      <td>2</td>\n",
       "      <td>26</td>\n",
       "      <td>-1</td>\n",
       "      <td>2</td>\n",
       "      <td>0</td>\n",
       "      <td>0</td>\n",
       "      <td>0</td>\n",
       "      <td>...</td>\n",
       "      <td>3272</td>\n",
       "      <td>3455</td>\n",
       "      <td>3261</td>\n",
       "      <td>0</td>\n",
       "      <td>1000</td>\n",
       "      <td>1000</td>\n",
       "      <td>1000</td>\n",
       "      <td>0</td>\n",
       "      <td>2000</td>\n",
       "      <td>1</td>\n",
       "    </tr>\n",
       "    <tr>\n",
       "      <th>2</th>\n",
       "      <td>90000</td>\n",
       "      <td>2</td>\n",
       "      <td>2</td>\n",
       "      <td>2</td>\n",
       "      <td>34</td>\n",
       "      <td>0</td>\n",
       "      <td>0</td>\n",
       "      <td>0</td>\n",
       "      <td>0</td>\n",
       "      <td>0</td>\n",
       "      <td>...</td>\n",
       "      <td>14331</td>\n",
       "      <td>14948</td>\n",
       "      <td>15549</td>\n",
       "      <td>1518</td>\n",
       "      <td>1500</td>\n",
       "      <td>1000</td>\n",
       "      <td>1000</td>\n",
       "      <td>1000</td>\n",
       "      <td>5000</td>\n",
       "      <td>0</td>\n",
       "    </tr>\n",
       "    <tr>\n",
       "      <th>3</th>\n",
       "      <td>50000</td>\n",
       "      <td>2</td>\n",
       "      <td>2</td>\n",
       "      <td>1</td>\n",
       "      <td>37</td>\n",
       "      <td>0</td>\n",
       "      <td>0</td>\n",
       "      <td>0</td>\n",
       "      <td>0</td>\n",
       "      <td>0</td>\n",
       "      <td>...</td>\n",
       "      <td>28314</td>\n",
       "      <td>28959</td>\n",
       "      <td>29547</td>\n",
       "      <td>2000</td>\n",
       "      <td>2019</td>\n",
       "      <td>1200</td>\n",
       "      <td>1100</td>\n",
       "      <td>1069</td>\n",
       "      <td>1000</td>\n",
       "      <td>0</td>\n",
       "    </tr>\n",
       "    <tr>\n",
       "      <th>4</th>\n",
       "      <td>50000</td>\n",
       "      <td>1</td>\n",
       "      <td>2</td>\n",
       "      <td>1</td>\n",
       "      <td>57</td>\n",
       "      <td>-1</td>\n",
       "      <td>0</td>\n",
       "      <td>-1</td>\n",
       "      <td>0</td>\n",
       "      <td>0</td>\n",
       "      <td>...</td>\n",
       "      <td>20940</td>\n",
       "      <td>19146</td>\n",
       "      <td>19131</td>\n",
       "      <td>2000</td>\n",
       "      <td>36681</td>\n",
       "      <td>10000</td>\n",
       "      <td>9000</td>\n",
       "      <td>689</td>\n",
       "      <td>679</td>\n",
       "      <td>0</td>\n",
       "    </tr>\n",
       "    <tr>\n",
       "      <th>...</th>\n",
       "      <td>...</td>\n",
       "      <td>...</td>\n",
       "      <td>...</td>\n",
       "      <td>...</td>\n",
       "      <td>...</td>\n",
       "      <td>...</td>\n",
       "      <td>...</td>\n",
       "      <td>...</td>\n",
       "      <td>...</td>\n",
       "      <td>...</td>\n",
       "      <td>...</td>\n",
       "      <td>...</td>\n",
       "      <td>...</td>\n",
       "      <td>...</td>\n",
       "      <td>...</td>\n",
       "      <td>...</td>\n",
       "      <td>...</td>\n",
       "      <td>...</td>\n",
       "      <td>...</td>\n",
       "      <td>...</td>\n",
       "      <td>...</td>\n",
       "    </tr>\n",
       "    <tr>\n",
       "      <th>29995</th>\n",
       "      <td>220000</td>\n",
       "      <td>1</td>\n",
       "      <td>3</td>\n",
       "      <td>1</td>\n",
       "      <td>39</td>\n",
       "      <td>0</td>\n",
       "      <td>0</td>\n",
       "      <td>0</td>\n",
       "      <td>0</td>\n",
       "      <td>0</td>\n",
       "      <td>...</td>\n",
       "      <td>88004</td>\n",
       "      <td>31237</td>\n",
       "      <td>15980</td>\n",
       "      <td>8500</td>\n",
       "      <td>20000</td>\n",
       "      <td>5003</td>\n",
       "      <td>3047</td>\n",
       "      <td>5000</td>\n",
       "      <td>1000</td>\n",
       "      <td>0</td>\n",
       "    </tr>\n",
       "    <tr>\n",
       "      <th>29996</th>\n",
       "      <td>150000</td>\n",
       "      <td>1</td>\n",
       "      <td>3</td>\n",
       "      <td>2</td>\n",
       "      <td>43</td>\n",
       "      <td>-1</td>\n",
       "      <td>-1</td>\n",
       "      <td>-1</td>\n",
       "      <td>-1</td>\n",
       "      <td>0</td>\n",
       "      <td>...</td>\n",
       "      <td>8979</td>\n",
       "      <td>5190</td>\n",
       "      <td>0</td>\n",
       "      <td>1837</td>\n",
       "      <td>3526</td>\n",
       "      <td>8998</td>\n",
       "      <td>129</td>\n",
       "      <td>0</td>\n",
       "      <td>0</td>\n",
       "      <td>0</td>\n",
       "    </tr>\n",
       "    <tr>\n",
       "      <th>29997</th>\n",
       "      <td>30000</td>\n",
       "      <td>1</td>\n",
       "      <td>2</td>\n",
       "      <td>2</td>\n",
       "      <td>37</td>\n",
       "      <td>4</td>\n",
       "      <td>3</td>\n",
       "      <td>2</td>\n",
       "      <td>-1</td>\n",
       "      <td>0</td>\n",
       "      <td>...</td>\n",
       "      <td>20878</td>\n",
       "      <td>20582</td>\n",
       "      <td>19357</td>\n",
       "      <td>0</td>\n",
       "      <td>0</td>\n",
       "      <td>22000</td>\n",
       "      <td>4200</td>\n",
       "      <td>2000</td>\n",
       "      <td>3100</td>\n",
       "      <td>1</td>\n",
       "    </tr>\n",
       "    <tr>\n",
       "      <th>29998</th>\n",
       "      <td>80000</td>\n",
       "      <td>1</td>\n",
       "      <td>3</td>\n",
       "      <td>1</td>\n",
       "      <td>41</td>\n",
       "      <td>1</td>\n",
       "      <td>-1</td>\n",
       "      <td>0</td>\n",
       "      <td>0</td>\n",
       "      <td>0</td>\n",
       "      <td>...</td>\n",
       "      <td>52774</td>\n",
       "      <td>11855</td>\n",
       "      <td>48944</td>\n",
       "      <td>85900</td>\n",
       "      <td>3409</td>\n",
       "      <td>1178</td>\n",
       "      <td>1926</td>\n",
       "      <td>52964</td>\n",
       "      <td>1804</td>\n",
       "      <td>1</td>\n",
       "    </tr>\n",
       "    <tr>\n",
       "      <th>29999</th>\n",
       "      <td>50000</td>\n",
       "      <td>1</td>\n",
       "      <td>2</td>\n",
       "      <td>1</td>\n",
       "      <td>46</td>\n",
       "      <td>0</td>\n",
       "      <td>0</td>\n",
       "      <td>0</td>\n",
       "      <td>0</td>\n",
       "      <td>0</td>\n",
       "      <td>...</td>\n",
       "      <td>36535</td>\n",
       "      <td>32428</td>\n",
       "      <td>15313</td>\n",
       "      <td>2078</td>\n",
       "      <td>1800</td>\n",
       "      <td>1430</td>\n",
       "      <td>1000</td>\n",
       "      <td>1000</td>\n",
       "      <td>1000</td>\n",
       "      <td>1</td>\n",
       "    </tr>\n",
       "  </tbody>\n",
       "</table>\n",
       "<p>30000 rows × 24 columns</p>\n",
       "</div>"
      ],
      "text/plain": [
       "       LIMIT_BAL  SEX  EDUCATION  MARRIAGE  AGE  PAY_0  PAY_2  PAY_3  PAY_4  \\\n",
       "0          20000    2          2         1   24      2      2     -1     -1   \n",
       "1         120000    2          2         2   26     -1      2      0      0   \n",
       "2          90000    2          2         2   34      0      0      0      0   \n",
       "3          50000    2          2         1   37      0      0      0      0   \n",
       "4          50000    1          2         1   57     -1      0     -1      0   \n",
       "...          ...  ...        ...       ...  ...    ...    ...    ...    ...   \n",
       "29995     220000    1          3         1   39      0      0      0      0   \n",
       "29996     150000    1          3         2   43     -1     -1     -1     -1   \n",
       "29997      30000    1          2         2   37      4      3      2     -1   \n",
       "29998      80000    1          3         1   41      1     -1      0      0   \n",
       "29999      50000    1          2         1   46      0      0      0      0   \n",
       "\n",
       "       PAY_5  ...  BILL_AMT4  BILL_AMT5  BILL_AMT6  PAY_AMT1  PAY_AMT2  \\\n",
       "0         -2  ...          0          0          0         0       689   \n",
       "1          0  ...       3272       3455       3261         0      1000   \n",
       "2          0  ...      14331      14948      15549      1518      1500   \n",
       "3          0  ...      28314      28959      29547      2000      2019   \n",
       "4          0  ...      20940      19146      19131      2000     36681   \n",
       "...      ...  ...        ...        ...        ...       ...       ...   \n",
       "29995      0  ...      88004      31237      15980      8500     20000   \n",
       "29996      0  ...       8979       5190          0      1837      3526   \n",
       "29997      0  ...      20878      20582      19357         0         0   \n",
       "29998      0  ...      52774      11855      48944     85900      3409   \n",
       "29999      0  ...      36535      32428      15313      2078      1800   \n",
       "\n",
       "       PAY_AMT3  PAY_AMT4  PAY_AMT5  PAY_AMT6  default payment next month  \n",
       "0             0         0         0         0                           1  \n",
       "1          1000      1000         0      2000                           1  \n",
       "2          1000      1000      1000      5000                           0  \n",
       "3          1200      1100      1069      1000                           0  \n",
       "4         10000      9000       689       679                           0  \n",
       "...         ...       ...       ...       ...                         ...  \n",
       "29995      5003      3047      5000      1000                           0  \n",
       "29996      8998       129         0         0                           0  \n",
       "29997     22000      4200      2000      3100                           1  \n",
       "29998      1178      1926     52964      1804                           1  \n",
       "29999      1430      1000      1000      1000                           1  \n",
       "\n",
       "[30000 rows x 24 columns]"
      ]
     },
     "execution_count": 23,
     "metadata": {},
     "output_type": "execute_result"
    }
   ],
   "source": [
    "df.drop('ID',axis = 1)"
   ]
  },
  {
   "cell_type": "code",
   "execution_count": null,
   "metadata": {},
   "outputs": [],
   "source": []
  },
  {
   "cell_type": "code",
   "execution_count": 24,
   "metadata": {},
   "outputs": [],
   "source": [
    "new = df.SEX.value_counts()"
   ]
  },
  {
   "cell_type": "code",
   "execution_count": 25,
   "metadata": {},
   "outputs": [
    {
     "name": "stdout",
     "output_type": "stream",
     "text": [
      "2    18112\n",
      "1    11888\n",
      "Name: SEX, dtype: int64\n"
     ]
    }
   ],
   "source": [
    "print(new)"
   ]
  },
  {
   "cell_type": "code",
   "execution_count": 26,
   "metadata": {},
   "outputs": [
    {
     "data": {
      "text/plain": [
       "2    14030\n",
       "1    10585\n",
       "3     4917\n",
       "5      280\n",
       "4      123\n",
       "6       51\n",
       "0       14\n",
       "Name: EDUCATION, dtype: int64"
      ]
     },
     "execution_count": 26,
     "metadata": {},
     "output_type": "execute_result"
    }
   ],
   "source": [
    "df.EDUCATION.value_counts()"
   ]
  },
  {
   "cell_type": "code",
   "execution_count": 27,
   "metadata": {},
   "outputs": [],
   "source": [
    "new = df.AGE.value_counts(sort = True)\n",
    "#plt.xticks(rotation = 45)"
   ]
  },
  {
   "cell_type": "code",
   "execution_count": 28,
   "metadata": {},
   "outputs": [
    {
     "ename": "ValueError",
     "evalue": "x and y must be the same size",
     "output_type": "error",
     "traceback": [
      "\u001b[0;31m---------------------------------------------------------------------------\u001b[0m",
      "\u001b[0;31mValueError\u001b[0m                                Traceback (most recent call last)",
      "\u001b[0;32m<ipython-input-28-35f5a4d34f2f>\u001b[0m in \u001b[0;36m<module>\u001b[0;34m\u001b[0m\n\u001b[0;32m----> 1\u001b[0;31m \u001b[0mplt\u001b[0m\u001b[0;34m.\u001b[0m\u001b[0mscatter\u001b[0m\u001b[0;34m(\u001b[0m\u001b[0mdf\u001b[0m\u001b[0;34m.\u001b[0m\u001b[0mAGE\u001b[0m\u001b[0;34m,\u001b[0m \u001b[0mdf\u001b[0m\u001b[0;34m.\u001b[0m\u001b[0mAGE\u001b[0m\u001b[0;34m.\u001b[0m\u001b[0mvalue_counts\u001b[0m\u001b[0;34m(\u001b[0m\u001b[0;34m)\u001b[0m\u001b[0;34m)\u001b[0m\u001b[0;34m\u001b[0m\u001b[0;34m\u001b[0m\u001b[0m\n\u001b[0m",
      "\u001b[0;32m~/anaconda3/lib/python3.7/site-packages/matplotlib/pyplot.py\u001b[0m in \u001b[0;36mscatter\u001b[0;34m(x, y, s, c, marker, cmap, norm, vmin, vmax, alpha, linewidths, verts, edgecolors, plotnonfinite, data, **kwargs)\u001b[0m\n\u001b[1;32m   2839\u001b[0m         \u001b[0mverts\u001b[0m\u001b[0;34m=\u001b[0m\u001b[0mverts\u001b[0m\u001b[0;34m,\u001b[0m \u001b[0medgecolors\u001b[0m\u001b[0;34m=\u001b[0m\u001b[0medgecolors\u001b[0m\u001b[0;34m,\u001b[0m\u001b[0;34m\u001b[0m\u001b[0;34m\u001b[0m\u001b[0m\n\u001b[1;32m   2840\u001b[0m         plotnonfinite=plotnonfinite, **({\"data\": data} if data is not\n\u001b[0;32m-> 2841\u001b[0;31m         None else {}), **kwargs)\n\u001b[0m\u001b[1;32m   2842\u001b[0m     \u001b[0msci\u001b[0m\u001b[0;34m(\u001b[0m\u001b[0m__ret\u001b[0m\u001b[0;34m)\u001b[0m\u001b[0;34m\u001b[0m\u001b[0;34m\u001b[0m\u001b[0m\n\u001b[1;32m   2843\u001b[0m     \u001b[0;32mreturn\u001b[0m \u001b[0m__ret\u001b[0m\u001b[0;34m\u001b[0m\u001b[0;34m\u001b[0m\u001b[0m\n",
      "\u001b[0;32m~/anaconda3/lib/python3.7/site-packages/matplotlib/__init__.py\u001b[0m in \u001b[0;36minner\u001b[0;34m(ax, data, *args, **kwargs)\u001b[0m\n\u001b[1;32m   1587\u001b[0m     \u001b[0;32mdef\u001b[0m \u001b[0minner\u001b[0m\u001b[0;34m(\u001b[0m\u001b[0max\u001b[0m\u001b[0;34m,\u001b[0m \u001b[0;34m*\u001b[0m\u001b[0margs\u001b[0m\u001b[0;34m,\u001b[0m \u001b[0mdata\u001b[0m\u001b[0;34m=\u001b[0m\u001b[0;32mNone\u001b[0m\u001b[0;34m,\u001b[0m \u001b[0;34m**\u001b[0m\u001b[0mkwargs\u001b[0m\u001b[0;34m)\u001b[0m\u001b[0;34m:\u001b[0m\u001b[0;34m\u001b[0m\u001b[0;34m\u001b[0m\u001b[0m\n\u001b[1;32m   1588\u001b[0m         \u001b[0;32mif\u001b[0m \u001b[0mdata\u001b[0m \u001b[0;32mis\u001b[0m \u001b[0;32mNone\u001b[0m\u001b[0;34m:\u001b[0m\u001b[0;34m\u001b[0m\u001b[0;34m\u001b[0m\u001b[0m\n\u001b[0;32m-> 1589\u001b[0;31m             \u001b[0;32mreturn\u001b[0m \u001b[0mfunc\u001b[0m\u001b[0;34m(\u001b[0m\u001b[0max\u001b[0m\u001b[0;34m,\u001b[0m \u001b[0;34m*\u001b[0m\u001b[0mmap\u001b[0m\u001b[0;34m(\u001b[0m\u001b[0msanitize_sequence\u001b[0m\u001b[0;34m,\u001b[0m \u001b[0margs\u001b[0m\u001b[0;34m)\u001b[0m\u001b[0;34m,\u001b[0m \u001b[0;34m**\u001b[0m\u001b[0mkwargs\u001b[0m\u001b[0;34m)\u001b[0m\u001b[0;34m\u001b[0m\u001b[0;34m\u001b[0m\u001b[0m\n\u001b[0m\u001b[1;32m   1590\u001b[0m \u001b[0;34m\u001b[0m\u001b[0m\n\u001b[1;32m   1591\u001b[0m         \u001b[0mbound\u001b[0m \u001b[0;34m=\u001b[0m \u001b[0mnew_sig\u001b[0m\u001b[0;34m.\u001b[0m\u001b[0mbind\u001b[0m\u001b[0;34m(\u001b[0m\u001b[0max\u001b[0m\u001b[0;34m,\u001b[0m \u001b[0;34m*\u001b[0m\u001b[0margs\u001b[0m\u001b[0;34m,\u001b[0m \u001b[0;34m**\u001b[0m\u001b[0mkwargs\u001b[0m\u001b[0;34m)\u001b[0m\u001b[0;34m\u001b[0m\u001b[0;34m\u001b[0m\u001b[0m\n",
      "\u001b[0;32m~/anaconda3/lib/python3.7/site-packages/matplotlib/axes/_axes.py\u001b[0m in \u001b[0;36mscatter\u001b[0;34m(self, x, y, s, c, marker, cmap, norm, vmin, vmax, alpha, linewidths, verts, edgecolors, plotnonfinite, **kwargs)\u001b[0m\n\u001b[1;32m   4434\u001b[0m         \u001b[0my\u001b[0m \u001b[0;34m=\u001b[0m \u001b[0mnp\u001b[0m\u001b[0;34m.\u001b[0m\u001b[0mma\u001b[0m\u001b[0;34m.\u001b[0m\u001b[0mravel\u001b[0m\u001b[0;34m(\u001b[0m\u001b[0my\u001b[0m\u001b[0;34m)\u001b[0m\u001b[0;34m\u001b[0m\u001b[0;34m\u001b[0m\u001b[0m\n\u001b[1;32m   4435\u001b[0m         \u001b[0;32mif\u001b[0m \u001b[0mx\u001b[0m\u001b[0;34m.\u001b[0m\u001b[0msize\u001b[0m \u001b[0;34m!=\u001b[0m \u001b[0my\u001b[0m\u001b[0;34m.\u001b[0m\u001b[0msize\u001b[0m\u001b[0;34m:\u001b[0m\u001b[0;34m\u001b[0m\u001b[0;34m\u001b[0m\u001b[0m\n\u001b[0;32m-> 4436\u001b[0;31m             \u001b[0;32mraise\u001b[0m \u001b[0mValueError\u001b[0m\u001b[0;34m(\u001b[0m\u001b[0;34m\"x and y must be the same size\"\u001b[0m\u001b[0;34m)\u001b[0m\u001b[0;34m\u001b[0m\u001b[0;34m\u001b[0m\u001b[0m\n\u001b[0m\u001b[1;32m   4437\u001b[0m \u001b[0;34m\u001b[0m\u001b[0m\n\u001b[1;32m   4438\u001b[0m         \u001b[0;32mif\u001b[0m \u001b[0ms\u001b[0m \u001b[0;32mis\u001b[0m \u001b[0;32mNone\u001b[0m\u001b[0;34m:\u001b[0m\u001b[0;34m\u001b[0m\u001b[0;34m\u001b[0m\u001b[0m\n",
      "\u001b[0;31mValueError\u001b[0m: x and y must be the same size"
     ]
    },
    {
     "data": {
      "image/png": "[encoded data removed]",
      "text/plain": [
       "<Figure size 432x288 with 1 Axes>"
      ]
     },
     "metadata": {
      "needs_background": "light"
     },
     "output_type": "display_data"
    }
   ],
   "source": [
    "plt.scatter(df.AGE, df.AGE.value_counts())"
   ]
  },
  {
   "cell_type": "code",
   "execution_count": null,
   "metadata": {},
   "outputs": [],
   "source": [
    "df['default payment next month'].value_counts().plot(kind = 'bar')\n",
    "plt.xticks((0,1),('Paid','Default'),rotation = 'horizontal', )\n",
    "plt.xlabel('')\n",
    "plt.ylabel('Frequency')\n",
    "plt.title('Paid vs Default Frequency')"
   ]
  },
  {
   "cell_type": "code",
   "execution_count": null,
   "metadata": {},
   "outputs": [],
   "source": [
    "df['default payment next month'].value_counts()\n"
   ]
  },
  {
   "cell_type": "code",
   "execution_count": null,
   "metadata": {},
   "outputs": [],
   "source": [
    "a = (6636/23364) * 100\n",
    "print('The percentage of defaulters is:', a)"
   ]
  },
  {
   "cell_type": "code",
   "execution_count": null,
   "metadata": {},
   "outputs": [],
   "source": [
    "df.SEX.value_counts().plot(kind = 'bar')\n",
    "plt.xticks((0,1), ('Female','Male'), rotation = 'horizontal')\n",
    "plt.title('Graph showing Male and Female Total Count')\n",
    "plt.savefig('Male_and_female_count')"
   ]
  },
  {
   "cell_type": "code",
   "execution_count": null,
   "metadata": {},
   "outputs": [],
   "source": [
    "df.AGE.value_counts().plot(kind = 'bar', figsize = (12,12))\n",
    "plt.xticks(rotation = 'horizontal')\n",
    "plt.title('Distribution of Ages')\n",
    "plt.savefig('Distribution of Ages')"
   ]
  },
  {
   "cell_type": "code",
   "execution_count": null,
   "metadata": {},
   "outputs": [],
   "source": []
  },
  {
   "cell_type": "code",
   "execution_count": null,
   "metadata": {},
   "outputs": [],
   "source": [
    "top_10 = df.AGE.value_counts().head(10)"
   ]
  },
  {
   "cell_type": "code",
   "execution_count": null,
   "metadata": {},
   "outputs": [],
   "source": [
    "top_10.plot(kind = 'bar')\n",
    "plt.xticks(rotation = 'horizontal')\n",
    "plt.title('Top 10 Most common ages')\n",
    "plt.savefig('Top 10 Most Common ages')\n",
    "plt.ylabel('Frequency')"
   ]
  },
  {
   "cell_type": "code",
   "execution_count": null,
   "metadata": {},
   "outputs": [],
   "source": []
  },
  {
   "cell_type": "code",
   "execution_count": null,
   "metadata": {},
   "outputs": [],
   "source": [
    "top_20 = df.AGE.value_counts().head(20)"
   ]
  },
  {
   "cell_type": "code",
   "execution_count": null,
   "metadata": {},
   "outputs": [],
   "source": [
    "print(top_20)"
   ]
  },
  {
   "cell_type": "code",
   "execution_count": null,
   "metadata": {},
   "outputs": [],
   "source": [
    "new_top_20 = top_20.to_frame()"
   ]
  },
  {
   "cell_type": "code",
   "execution_count": null,
   "metadata": {},
   "outputs": [],
   "source": [
    "new_top_20.head()"
   ]
  },
  {
   "cell_type": "code",
   "execution_count": null,
   "metadata": {},
   "outputs": [],
   "source": [
    "top_20.plot(kind = 'bar')\n",
    "plt.xticks(rotation = 'horizontal')\n",
    "plt.title('Top 20 Most common ages')\n",
    "plt.xlabel('Ages by Frequency')\n",
    "plt.ylabel('Frequency')\n",
    "plt.savefig('Top 20 Most Common ages')"
   ]
  },
  {
   "cell_type": "code",
   "execution_count": null,
   "metadata": {},
   "outputs": [],
   "source": [
    "sns.boxplot(x = new_top_20.index , data = new_top_20)\n",
    "plt.xticks(rotation = 'horizontal')\n",
    "plt.title('Top 20 Most common ages')\n",
    "plt.xlabel('Ages by Frequency')\n",
    "plt.ylabel('Frequency')\n",
    "plt.savefig('Top 20 Most Common ages')"
   ]
  },
  {
   "cell_type": "code",
   "execution_count": null,
   "metadata": {},
   "outputs": [],
   "source": [
    "sns.barplot('education', 'default payment next month', data = df)"
   ]
  },
  {
   "cell_type": "code",
   "execution_count": null,
   "metadata": {},
   "outputs": [],
   "source": [
    "df.columns"
   ]
  },
  {
   "cell_type": "code",
   "execution_count": null,
   "metadata": {},
   "outputs": [],
   "source": [
    "a = sum(df.EDUCATION)\n",
    "print(a)"
   ]
  },
  {
   "cell_type": "code",
   "execution_count": null,
   "metadata": {},
   "outputs": [],
   "source": [
    "new_labels = ['Male', 'Female']\n",
    "\n",
    "ed_sex = df[['EDUCATION','SEX']]\n",
    "ed_sex.head()\n",
    "type(ed_sex.SEX)\n",
    "     "
   ]
  },
  {
   "cell_type": "code",
   "execution_count": null,
   "metadata": {},
   "outputs": [],
   "source": [
    "ed_sex['EDUCATION']\n",
    "#ed_sex['EDUCATION'].rename_categories({'1':'Graduate', '2':'College', '3':'High School', '4':'Other_1', '5':'Other_2', '6':'Other_3'})"
   ]
  },
  {
   "cell_type": "code",
   "execution_count": null,
   "metadata": {},
   "outputs": [],
   "source": [
    "ed_sex.head(20)"
   ]
  },
  {
   "cell_type": "code",
   "execution_count": null,
   "metadata": {},
   "outputs": [],
   "source": [
    "\n",
    "ed_sex.SEX = new_labels.astype('category')"
   ]
  },
  {
   "cell_type": "code",
   "execution_count": null,
   "metadata": {},
   "outputs": [],
   "source": [
    "df.EDUCATION.value_counts()\n"
   ]
  },
  {
   "cell_type": "code",
   "execution_count": null,
   "metadata": {},
   "outputs": [],
   "source": [
    "ax = sns.countplot(x = 'EDUCATION', data=df, hue = 'SEX')\n",
    "plt.xticks((0,1,2,3,4,5,6), ('None','Graduate','College','High School','Other','Other','Other'))\n",
    "plt.ylabel('Count')\n",
    "plt.title('Education Count')\n",
    "plt.legend(('Male','Female'))\n",
    "plt.savefig('Education Count')"
   ]
  },
  {
   "cell_type": "code",
   "execution_count": null,
   "metadata": {},
   "outputs": [],
   "source": [
    "ax = sns.countplot(x = 'EDUCATION', data=df, hue = 'SEX')\n",
    "plt.xticks((0,1,2,3,4,5,6), ('None','Graduate','College','High School','Other','Other','Other'))\n",
    "plt.ylabel('Count')\n",
    "plt.title('Education Count')\n",
    "plt.legend(('Male','Female'))\n",
    "plt.savefig('Education Count')"
   ]
  },
  {
   "cell_type": "code",
   "execution_count": null,
   "metadata": {},
   "outputs": [],
   "source": [
    "ax_2 = sns.countplot(x = 'MARRIAGE', data=df, hue = 'SEX')\n",
    "plt.legend(('Male','Female'))\n",
    "plt.title('Marriage Count')\n",
    "plt.xticks((0,1,2,3),('None', 'Married', 'Single', 'Other'))\n",
    "plt.savefig('marriage count')"
   ]
  },
  {
   "cell_type": "code",
   "execution_count": null,
   "metadata": {},
   "outputs": [],
   "source": [
    "ax_2 = sns.countplot(x = 'MARRIAGE', data=df, hue = 'SEX')\n",
    "plt.legend(('Male','Female'))\n",
    "plt.title('Marriage Count')\n",
    "plt.xticks((0,1,2,3),('None', 'Married', 'Single', 'Other'))\n",
    "plt.savefig('marriage count')"
   ]
  },
  {
   "cell_type": "code",
   "execution_count": null,
   "metadata": {},
   "outputs": [],
   "source": [
    "ax_3 = sns.countplot(x = 'default payment next month', data=df, hue = 'SEX')\n",
    "plt.xticks((0,1),('Paid', 'Defaulted'))\n",
    "plt.legend(('Male','Female'))\n",
    "plt.title('Graph of Clients Who Paid and Who Defaulted')\n",
    "plt.savefig('Graph of Clients Who Paid and Who Defaulted')"
   ]
  },
  {
   "cell_type": "code",
   "execution_count": null,
   "metadata": {},
   "outputs": [],
   "source": [
    "ax_3 = sns.countplot(x = 'default payment next month', data=df, hue = 'SEX')\n",
    "plt.xticks((0,1),('Paid', 'Defaulted'))\n",
    "plt.legend(('Male','Female'))\n",
    "plt.title('Graph of Clients Who Paid and Who Defaulted')\n",
    "plt.savefig('Graph of Clients Who Paid and Who Defaulted')"
   ]
  },
  {
   "cell_type": "code",
   "execution_count": null,
   "metadata": {},
   "outputs": [],
   "source": [
    "# Could figure out the percentage ah men and women who no pay fu see which sex less likely fu pay?\n",
    "\n",
    "df['default payment next month'].value_counts()"
   ]
  },
  {
   "cell_type": "code",
   "execution_count": null,
   "metadata": {},
   "outputs": [],
   "source": [
    "ax_3 = sns.countplot(x = 'default payment next month', data=df, hue = 'EDUCATION')\n",
    "plt.title('Defaulter count Based on Education')\n",
    "plt.xticks((0,1), ('NO','YES'))\n",
    "plt.legend(('none','Graduate','College','High school', 'other1', 'other2','other3'))"
   ]
  },
  {
   "cell_type": "code",
   "execution_count": null,
   "metadata": {},
   "outputs": [],
   "source": [
    "ax_4 = sns.countplot(x = 'default payment next month', data=df, hue = 'MARRIAGE', palette = 'winter')\n",
    "plt.title('Non-Defaulters vs Defaulters')\n",
    "plt.xticks((0,1), ('Paid','Defaulted'))\n",
    "plt.legend(('None','Married','Single','Other'))\n",
    "plt.show()"
   ]
  },
  {
   "cell_type": "code",
   "execution_count": null,
   "metadata": {},
   "outputs": [],
   "source": [
    "small_df = df[['LIMIT_BAL','AGE','SEX']]"
   ]
  },
  {
   "cell_type": "code",
   "execution_count": null,
   "metadata": {},
   "outputs": [],
   "source": [
    "sns.boxplot('SEX','LIMIT_BAL', data = small_df)\n",
    "#plt.legend(['Male', 'FEMALE'])\n",
    "#plt.xticks(['MALE','FEMALE'])\n",
    "plt.title('Credit Limit for Male and Female')\n",
    "plt.ylabel('Limit Balance')\n",
    "plt.xticks((0,1), ('Male','Female'))\n",
    "plt.show()\n",
    "#plt.savefig('Sex vs Balance Limit')"
   ]
  },
  {
   "cell_type": "code",
   "execution_count": null,
   "metadata": {},
   "outputs": [],
   "source": [
    "print(df.LIMIT_BAL.max())\n",
    "print(df.LIMIT_BAL.min())"
   ]
  },
  {
   "cell_type": "code",
   "execution_count": null,
   "metadata": {},
   "outputs": [],
   "source": [
    "df.head()"
   ]
  },
  {
   "cell_type": "code",
   "execution_count": null,
   "metadata": {},
   "outputs": [],
   "source": [
    "sns.violinplot('SEX','PAY_0',data = df)"
   ]
  },
  {
   "cell_type": "code",
   "execution_count": null,
   "metadata": {},
   "outputs": [],
   "source": [
    "sns.violinplot('SEX','PAY_2',data = df)"
   ]
  },
  {
   "cell_type": "code",
   "execution_count": null,
   "metadata": {},
   "outputs": [],
   "source": [
    "sns.violinplot('SEX','PAY_3',data = df)"
   ]
  },
  {
   "cell_type": "code",
   "execution_count": null,
   "metadata": {},
   "outputs": [],
   "source": [
    "sns.violinplot('SEX','PAY_4',data = df)"
   ]
  },
  {
   "cell_type": "code",
   "execution_count": null,
   "metadata": {},
   "outputs": [],
   "source": [
    "sns.violinplot('SEX','PAY_5',data = df)"
   ]
  },
  {
   "cell_type": "code",
   "execution_count": null,
   "metadata": {},
   "outputs": [],
   "source": [
    "sns.violinplot('SEX','PAY_6',data = df)"
   ]
  },
  {
   "cell_type": "code",
   "execution_count": null,
   "metadata": {},
   "outputs": [],
   "source": [
    "sns.boxplot('SEX','BILL_AMT1', data = df)"
   ]
  },
  {
   "cell_type": "code",
   "execution_count": null,
   "metadata": {},
   "outputs": [],
   "source": [
    "sns.boxplot('SEX','BILL_AMT2', data = df)"
   ]
  },
  {
   "cell_type": "code",
   "execution_count": null,
   "metadata": {},
   "outputs": [],
   "source": [
    "sns.boxplot('SEX','BILL_AMT3', data = df)"
   ]
  },
  {
   "cell_type": "code",
   "execution_count": null,
   "metadata": {},
   "outputs": [],
   "source": [
    "sns.boxplot('default payment next month', 'BILL_AMT1', data = df)"
   ]
  },
  {
   "cell_type": "code",
   "execution_count": null,
   "metadata": {},
   "outputs": [],
   "source": [
    "sns.boxplot('default payment next month', 'BILL_AMT2', data = df)"
   ]
  },
  {
   "cell_type": "code",
   "execution_count": null,
   "metadata": {},
   "outputs": [],
   "source": [
    "sns.boxplot('default payment next month', 'BILL_AMT3', data = df)"
   ]
  },
  {
   "cell_type": "code",
   "execution_count": null,
   "metadata": {},
   "outputs": [],
   "source": [
    "a = {1:'red', 2:'blue'}\n",
    "sns.scatterplot('BILL_AMT6', 'PAY_AMT6', data = df, hue = 'SEX', palette = a, estimator = True, alpha = 0.4)\n",
    "plt.legend()\n",
    "\n"
   ]
  },
  {
   "cell_type": "code",
   "execution_count": null,
   "metadata": {},
   "outputs": [],
   "source": [
    "b = {1:'green', 2:'black'}\n",
    "sns.scatterplot('BILL_AMT5', 'PAY_AMT5', data = df, hue = 'SEX', palette = b, estimator = True)"
   ]
  },
  {
   "cell_type": "code",
   "execution_count": null,
   "metadata": {},
   "outputs": [],
   "source": [
    "sns.violinplot('default payment next month', 'BILL_AMT6', data = df)"
   ]
  },
  {
   "cell_type": "code",
   "execution_count": null,
   "metadata": {},
   "outputs": [],
   "source": [
    "sns.pairplot(data = df)"
   ]
  },
  {
   "cell_type": "code",
   "execution_count": null,
   "metadata": {},
   "outputs": [],
   "source": [
    "b = {0:'green', 1:'red'}\n",
    "sns.scatterplot('BILL_AMT5', 'PAY_AMT5', data = df, hue = 'default payment next month', palette = b)\n",
    "plt.xlabel('Bill Amount in May')\n",
    "plt.ylabel('Payment Amount in May')\n",
    "plt.title('Bill amount vs Payment amount')\n",
    "plt.legend(('Paid', 'Defaulted'),loc = 'upper right')"
   ]
  },
  {
   "cell_type": "code",
   "execution_count": null,
   "metadata": {},
   "outputs": [],
   "source": [
    "#sns.swarmplot(x = 'default payment next month', y = 'PAY_AMT6', data = df)"
   ]
  },
  {
   "cell_type": "code",
   "execution_count": null,
   "metadata": {},
   "outputs": [],
   "source": [
    "b = {0:'green', 1:'red'}\n",
    "sns.scatterplot('BILL_AMT1', 'PAY_AMT1', data = df, hue = 'default payment next month', palette = b)\n",
    "plt.xlabel('Bill Amount in September')\n",
    "plt.ylabel('Payment Amount in September')\n",
    "plt.title('Bill amount vs Payment amount for September')\n",
    "plt.legend(('Defaulted','Paid'),loc = 'upper right')"
   ]
  },
  {
   "cell_type": "code",
   "execution_count": null,
   "metadata": {},
   "outputs": [],
   "source": [
    "df.head()"
   ]
  },
  {
   "cell_type": "code",
   "execution_count": null,
   "metadata": {},
   "outputs": [],
   "source": [
    "df.columns"
   ]
  },
  {
   "cell_type": "code",
   "execution_count": null,
   "metadata": {},
   "outputs": [],
   "source": [
    "b = {0:'green', 1:'red'}\n",
    "sns.scatterplot('BILL_AMT2', 'PAY_AMT2', data = df, hue = 'default payment next month', palette = b)\n",
    "plt.xlabel('Bill Amount in August')\n",
    "plt.ylabel('Payment Amount in August')\n",
    "plt.title('Bill amount vs Payment amount')\n",
    "plt.legend(('Paid', 'Defaulted'),loc = 'upper right')"
   ]
  },
  {
   "cell_type": "code",
   "execution_count": null,
   "metadata": {},
   "outputs": [],
   "source": [
    "b = {0:'green', 1:'red'}\n",
    "sns.scatterplot('BILL_AMT3', 'PAY_AMT3', data = df, hue = 'default payment next month', palette = b)\n",
    "plt.xlabel('Bill Amount in July')\n",
    "plt.ylabel('Payment Amount in July')\n",
    "plt.title('Bill amount vs Payment amount in July')\n",
    "plt.legend(('Defaulted','Paid'),loc = 'upper right')\n",
    "plt.xticks(rotation = 45)\n"
   ]
  },
  {
   "cell_type": "code",
   "execution_count": null,
   "metadata": {},
   "outputs": [],
   "source": [
    "b = {0:'green', 1:'red'}\n",
    "sns.scatterplot('BILL_AMT2', 'PAY_AMT2', data = df, hue = 'default payment next month', palette = b)\n",
    "plt.xlabel('Bill Amount in August')\n",
    "plt.ylabel('Payment Amount in August')\n",
    "plt.title('Bill amount vs Payment amount in August')\n",
    "plt.legend(('Defaulted','Paid'),loc = 'upper right')\n"
   ]
  },
  {
   "cell_type": "code",
   "execution_count": null,
   "metadata": {},
   "outputs": [],
   "source": [
    "b = {0:'green', 1:'red'}\n",
    "sns.scatterplot('BILL_AMT4', 'PAY_AMT4', data = df, hue = 'default payment next month', palette = b)\n",
    "plt.xlabel('Bill Amount in June')\n",
    "plt.ylabel('Payment Amount in June')\n",
    "plt.title('Bill amount vs Payment amount in June')\n",
    "plt.legend(('Defaulted','Paid'),loc = 'upper right')"
   ]
  },
  {
   "cell_type": "code",
   "execution_count": null,
   "metadata": {},
   "outputs": [],
   "source": [
    "#b = {0:'green', 1:'red'}\n",
    "sns.scatterplot('BILL_AMT5', 'PAY_AMT5', data = df, hue = 'default payment next month')\n",
    "plt.xlabel('Bill Amount in May')\n",
    "plt.ylabel('Payment Amount in May')\n",
    "plt.title('Bill amount vs Payment amount in May')\n",
    "plt.legend(('Defaulted','Paid'),loc = 'upper right')"
   ]
  },
  {
   "cell_type": "code",
   "execution_count": null,
   "metadata": {},
   "outputs": [],
   "source": [
    "new_df = df[df['default payment next month'] == 1]\n",
    "\n",
    "b = {0:'green', 1:'red'}\n",
    "sns.regplot('BILL_AMT6', 'PAY_AMT6', data = new_df, color = 'red')\n",
    "plt.xlabel('Bill Amount in April')\n",
    "plt.ylabel('Payment Amount in April')\n",
    "plt.title('Bill amount vs Payment amount in April')\n",
    "plt.legend(('Defaulted','Paid'),loc = 'upper right')"
   ]
  },
  {
   "cell_type": "code",
   "execution_count": null,
   "metadata": {},
   "outputs": [],
   "source": [
    "sns.regplot('BILL_AMT5', 'PAY_AMT5', data = new_df, color = 'blue',x_jitter = True)"
   ]
  },
  {
   "cell_type": "code",
   "execution_count": null,
   "metadata": {},
   "outputs": [],
   "source": [
    "sns.regplot('BILL_AMT4', 'PAY_AMT4', data = new_df, color = 'blue',x_jitter = True)"
   ]
  },
  {
   "cell_type": "code",
   "execution_count": null,
   "metadata": {},
   "outputs": [],
   "source": [
    "sns.regplot('BILL_AMT3', 'PAY_AMT3', data = new_df, color = 'blue',x_jitter = True)"
   ]
  },
  {
   "cell_type": "code",
   "execution_count": null,
   "metadata": {},
   "outputs": [],
   "source": [
    "sns.regplot('BILL_AMT2', 'PAY_AMT2', data = new_df, color = 'blue',x_jitter = True, n_boot = 10000)"
   ]
  },
  {
   "cell_type": "code",
   "execution_count": null,
   "metadata": {},
   "outputs": [],
   "source": [
    "g = sns.jointplot('BILL_AMT1', 'PAY_AMT1', data = new_df, color = 'red')\n",
    "regline = g.ax_joint.get_lines()[0]\n",
    "regline.set_color('blue')"
   ]
  },
  {
   "cell_type": "code",
   "execution_count": null,
   "metadata": {},
   "outputs": [],
   "source": [
    "g = sns.jointplot('BILL_AMT1', 'PAY_AMT1', data = new_df, color = 'green', kind = 'reg')\n",
    "regline = g.ax_joint.get_lines()[0]\n",
    "regline.set_color('blue')\n",
    "plt.ylabel('Payment Amount')\n",
    "plt.xlabel('Bill Amount')\n",
    "#plt.title('Paymennt Amount for September vs Bill Amount for September')\n",
    "plt.savefig('jointplot1_1')\n",
    "plt.show()"
   ]
  },
  {
   "cell_type": "code",
   "execution_count": null,
   "metadata": {},
   "outputs": [],
   "source": [
    "new_df2 = df[df['default payment next month'] == 0]"
   ]
  },
  {
   "cell_type": "code",
   "execution_count": null,
   "metadata": {},
   "outputs": [],
   "source": []
  },
  {
   "cell_type": "code",
   "execution_count": null,
   "metadata": {},
   "outputs": [],
   "source": [
    "g = sns.jointplot('BILL_AMT1', 'PAY_AMT1', data = new_df2, color = 'green', kind = 'reg')\n",
    "regline = g.ax_joint.get_lines()[0]\n",
    "regline.set_color('blue')"
   ]
  },
  {
   "cell_type": "code",
   "execution_count": null,
   "metadata": {},
   "outputs": [],
   "source": []
  },
  {
   "cell_type": "code",
   "execution_count": null,
   "metadata": {},
   "outputs": [],
   "source": []
  },
  {
   "cell_type": "code",
   "execution_count": null,
   "metadata": {},
   "outputs": [],
   "source": []
  },
  {
   "cell_type": "code",
   "execution_count": null,
   "metadata": {},
   "outputs": [],
   "source": []
  },
  {
   "cell_type": "code",
   "execution_count": null,
   "metadata": {},
   "outputs": [],
   "source": []
  },
  {
   "cell_type": "code",
   "execution_count": null,
   "metadata": {},
   "outputs": [],
   "source": []
  },
  {
   "cell_type": "code",
   "execution_count": null,
   "metadata": {},
   "outputs": [],
   "source": [
    "df.BILL_AMT3.value_counts()"
   ]
  },
  {
   "cell_type": "code",
   "execution_count": null,
   "metadata": {},
   "outputs": [],
   "source": [
    "df.head()"
   ]
  },
  {
   "cell_type": "code",
   "execution_count": null,
   "metadata": {},
   "outputs": [],
   "source": [
    "df[df['AGE']<=30].count()"
   ]
  },
  {
   "cell_type": "code",
   "execution_count": null,
   "metadata": {},
   "outputs": [],
   "source": [
    "a = df[(df['AGE']>30) & (df['AGE']<=40)]"
   ]
  },
  {
   "cell_type": "code",
   "execution_count": null,
   "metadata": {},
   "outputs": [],
   "source": [
    "b = a['AGE']\n",
    "print(b)\n",
    "b.value_counts()"
   ]
  },
  {
   "cell_type": "code",
   "execution_count": null,
   "metadata": {},
   "outputs": [],
   "source": [
    "age_ranges = {'< 30':11013,'30-40':10713, '40-50':6005,'50<': 2269 }"
   ]
  },
  {
   "cell_type": "code",
   "execution_count": null,
   "metadata": {},
   "outputs": [],
   "source": [
    "df.shape"
   ]
  },
  {
   "cell_type": "code",
   "execution_count": null,
   "metadata": {},
   "outputs": [],
   "source": [
    "c = df[(df['AGE']>40) & (df['AGE']<=50)]"
   ]
  },
  {
   "cell_type": "code",
   "execution_count": null,
   "metadata": {},
   "outputs": [],
   "source": [
    "d = c['AGE']\n",
    "print(d)"
   ]
  },
  {
   "cell_type": "code",
   "execution_count": null,
   "metadata": {},
   "outputs": [],
   "source": [
    "e = df[df['AGE']>50]"
   ]
  },
  {
   "cell_type": "code",
   "execution_count": null,
   "metadata": {},
   "outputs": [],
   "source": [
    "f = e['AGE']\n",
    "print(f)"
   ]
  },
  {
   "cell_type": "code",
   "execution_count": null,
   "metadata": {},
   "outputs": [],
   "source": [
    "type(age_ranges)"
   ]
  },
  {
   "cell_type": "code",
   "execution_count": null,
   "metadata": {},
   "outputs": [],
   "source": [
    "age_range_df_1 = pd.DataFrame.from_dict(age_ranges, orient = 'index' )"
   ]
  },
  {
   "cell_type": "code",
   "execution_count": null,
   "metadata": {},
   "outputs": [],
   "source": [
    "print(age_range_df_1)"
   ]
  },
  {
   "cell_type": "code",
   "execution_count": null,
   "metadata": {},
   "outputs": [],
   "source": [
    "age_range_df_1.plot(kind = 'bar')\n",
    "plt.xticks(rotation = 'horizontal')\n",
    "plt.xlabel('Age ranges')\n",
    "plt.ylabel('Frequency')\n",
    "plt.title('Graph Showing Frequency of Age Ranges')"
   ]
  },
  {
   "cell_type": "code",
   "execution_count": null,
   "metadata": {},
   "outputs": [],
   "source": [
    "sns.barplot(x = age_range_df_1.index, y = 0, data = age_range_df_1)\n",
    "plt.xlabel('Age ranges')\n",
    "plt.ylabel('Frequency')\n",
    "plt.title('Graph Showing Frequency of Age Ranges')"
   ]
  },
  {
   "cell_type": "code",
   "execution_count": null,
   "metadata": {},
   "outputs": [],
   "source": [
    "age_range_df.pivot_table(columns = ['less than 30', '30-40', '40-50', '50-'])"
   ]
  },
  {
   "cell_type": "code",
   "execution_count": null,
   "metadata": {},
   "outputs": [],
   "source": [
    "plt.hist(df.AGE)\n",
    "plt.xlabel('Age Range')\n",
    "plt.ylabel('Frequency')\n",
    "plt.title('Histogram showing Frequency in Age Range' )"
   ]
  },
  {
   "cell_type": "code",
   "execution_count": null,
   "metadata": {},
   "outputs": [],
   "source": [
    "df.head()"
   ]
  },
  {
   "cell_type": "code",
   "execution_count": null,
   "metadata": {},
   "outputs": [],
   "source": [
    "sns.swarmplot(x = 'default payment next month', y = 'AGE', data = df)"
   ]
  },
  {
   "cell_type": "code",
   "execution_count": null,
   "metadata": {},
   "outputs": [],
   "source": [
    "def ecdf(data):\n",
    "    \"\"\"Compute ECDF for a one-dimensional array of measurements.\"\"\"\n",
    "    # Number of data points: n\n",
    "    n = len(data)\n",
    "\n",
    "    # x-data for the ECDF: x\n",
    "    x = np.sort(data)\n",
    "\n",
    "    # y-data for the ECDF: y\n",
    "    y = np.arange(1, n+1) / n\n",
    "\n",
    "    return x, y\n"
   ]
  },
  {
   "cell_type": "code",
   "execution_count": null,
   "metadata": {},
   "outputs": [],
   "source": [
    "x,y = ecdf(df.LIMIT_BAL)"
   ]
  },
  {
   "cell_type": "code",
   "execution_count": null,
   "metadata": {},
   "outputs": [],
   "source": [
    "plt.plot(x,y, marker = '.', linestyle = 'none')"
   ]
  },
  {
   "cell_type": "code",
   "execution_count": null,
   "metadata": {},
   "outputs": [],
   "source": [
    "plt.hist(df.LIMIT_BAL)"
   ]
  },
  {
   "cell_type": "code",
   "execution_count": null,
   "metadata": {},
   "outputs": [],
   "source": [
    "sns.swarmplot(x = 'SEX', y = 'LIMIT_BAL', data = df)"
   ]
  },
  {
   "cell_type": "code",
   "execution_count": null,
   "metadata": {},
   "outputs": [],
   "source": [
    "df.head()"
   ]
  },
  {
   "cell_type": "code",
   "execution_count": null,
   "metadata": {},
   "outputs": [],
   "source": [
    "x1,y1 = ecdf(df.BILL_AMT1)\n",
    "x2,y2 = ecdf(df.BILL_AMT2)\n",
    "x3,y3 = ecdf(df.BILL_AMT3)"
   ]
  },
  {
   "cell_type": "code",
   "execution_count": null,
   "metadata": {},
   "outputs": [],
   "source": [
    "\n",
    "_ = plt.plot(x1, y1, marker = '.', linestyle = 'none', color = 'blue')\n",
    "\n",
    "\n"
   ]
  },
  {
   "cell_type": "code",
   "execution_count": null,
   "metadata": {},
   "outputs": [],
   "source": [
    "_ = plt.plot(x2, y2, marker = '.', linestyle = 'none', color = 'red', alpha = 0.3)\n",
    "plt.title('Graph showing ECDF of Bill Amount 3')\n",
    "plt.xlabel('Amount')\n",
    "plt.ylabel('ECDF')"
   ]
  },
  {
   "cell_type": "code",
   "execution_count": null,
   "metadata": {},
   "outputs": [],
   "source": [
    "_ = plt.plot(x3, y3, marker = '.', linestyle = 'none', color = 'yellow')"
   ]
  },
  {
   "cell_type": "code",
   "execution_count": null,
   "metadata": {},
   "outputs": [],
   "source": [
    "x4,y4 = ecdf(df.AGE)"
   ]
  },
  {
   "cell_type": "code",
   "execution_count": null,
   "metadata": {},
   "outputs": [],
   "source": [
    "plt.plot(x4,y4, marker = '.', linestyle = 'none')\n",
    "plt.xlabel('Age')\n",
    "plt.ylabel('ECDF')\n",
    "plt.title('Graph showing ECDF of Ages')"
   ]
  },
  {
   "cell_type": "code",
   "execution_count": null,
   "metadata": {},
   "outputs": [],
   "source": [
    "x5,y5 = ecdf(df.LIMIT_BAL)"
   ]
  },
  {
   "cell_type": "code",
   "execution_count": null,
   "metadata": {},
   "outputs": [],
   "source": [
    "plt.plot(x5,y5, marker = '.', linestyle = 'none')\n",
    "plt.xlabel('Limit Balace')\n",
    "plt.ylabel('ECDF')\n",
    "plt.margins(0.02)"
   ]
  },
  {
   "cell_type": "code",
   "execution_count": null,
   "metadata": {},
   "outputs": [],
   "source": [
    "df.LIMIT_BAL.describe()"
   ]
  },
  {
   "cell_type": "code",
   "execution_count": null,
   "metadata": {},
   "outputs": [],
   "source": [
    "np.mean(df.LIMIT_BAL)"
   ]
  },
  {
   "cell_type": "code",
   "execution_count": null,
   "metadata": {},
   "outputs": [],
   "source": []
  },
  {
   "cell_type": "code",
   "execution_count": null,
   "metadata": {},
   "outputs": [],
   "source": [
    "sex_df = df[['SEX','BILL_AMT5','PAY_AMT5']]"
   ]
  },
  {
   "cell_type": "code",
   "execution_count": null,
   "metadata": {},
   "outputs": [],
   "source": [
    "sex_df.dtype"
   ]
  },
  {
   "cell_type": "code",
   "execution_count": null,
   "metadata": {},
   "outputs": [],
   "source": [
    "sex_df.replace(to_replace = 1, value = 'Male', inplace= True)"
   ]
  },
  {
   "cell_type": "code",
   "execution_count": null,
   "metadata": {},
   "outputs": [],
   "source": [
    "sex_df.replace(to_replace = 2, value = 'Female', inplace= True)"
   ]
  },
  {
   "cell_type": "code",
   "execution_count": null,
   "metadata": {},
   "outputs": [],
   "source": [
    "sex_df.head(20)"
   ]
  },
  {
   "cell_type": "code",
   "execution_count": null,
   "metadata": {},
   "outputs": [],
   "source": [
    "percentile = np.percentile(df['BILL_AMT5'], [25,50,75])"
   ]
  },
  {
   "cell_type": "code",
   "execution_count": null,
   "metadata": {},
   "outputs": [],
   "source": [
    "sns.boxplot(x = "
   ]
  },
  {
   "cell_type": "code",
   "execution_count": null,
   "metadata": {},
   "outputs": [],
   "source": [
    "to_100 = np.arange(0,100)"
   ]
  },
  {
   "cell_type": "code",
   "execution_count": null,
   "metadata": {},
   "outputs": [],
   "source": [
    "to_100"
   ]
  },
  {
   "cell_type": "code",
   "execution_count": null,
   "metadata": {},
   "outputs": [],
   "source": [
    "np.percentile(to_100, [0.25,0.5,0.75])"
   ]
  },
  {
   "cell_type": "code",
   "execution_count": null,
   "metadata": {},
   "outputs": [],
   "source": [
    "sns.boxplot(x = 'default payment next month', y = 'LIMIT_BAL', data = df)\n",
    "plt.xticks((0,1),('Paid','Defaulted'))\n",
    "plt.ylabel('Balance Limit')\n",
    "plt.title('Graph of Clients Balance Limit vs Default Status ')"
   ]
  },
  {
   "cell_type": "code",
   "execution_count": null,
   "metadata": {},
   "outputs": [],
   "source": [
    "df.head()"
   ]
  },
  {
   "cell_type": "markdown",
   "metadata": {},
   "source": [
    "\n"
   ]
  },
  {
   "cell_type": "code",
   "execution_count": null,
   "metadata": {},
   "outputs": [],
   "source": [
    "np.linspace(0,5,4)"
   ]
  },
  {
   "cell_type": "code",
   "execution_count": null,
   "metadata": {},
   "outputs": [],
   "source": [
    "x6,y6 = ecdf(df['default payment next month'])"
   ]
  },
  {
   "cell_type": "code",
   "execution_count": null,
   "metadata": {},
   "outputs": [],
   "source": [
    "plt.plot(x6,y6, marker = '.', linestyle = 'none')\n",
    "plt.xlabel('Default payment')\n",
    "plt.ylabel('ECDF')\n",
    "plt.margins(0.02)"
   ]
  },
  {
   "cell_type": "code",
   "execution_count": null,
   "metadata": {},
   "outputs": [],
   "source": [
    "x7,y7 = ecdf(df['LIMIT_BAL'])"
   ]
  },
  {
   "cell_type": "code",
   "execution_count": null,
   "metadata": {},
   "outputs": [],
   "source": [
    "plt.plot(x7,y7, marker = '.', linestyle = 'none')\n",
    "plt.xlabel('Limit Balace')\n",
    "plt.ylabel('ECDF')\n",
    "plt.margins(0.02)"
   ]
  },
  {
   "cell_type": "code",
   "execution_count": null,
   "metadata": {},
   "outputs": [],
   "source": [
    "x8,y8 = ecdf(df['AGE'])"
   ]
  },
  {
   "cell_type": "code",
   "execution_count": null,
   "metadata": {},
   "outputs": [],
   "source": [
    "plt.plot(x8,y8, marker = '.', linestyle = 'none')\n",
    "plt.xlabel('AGE')\n",
    "plt.ylabel('ECDF')\n",
    "plt.margins(0.02)"
   ]
  },
  {
   "cell_type": "code",
   "execution_count": null,
   "metadata": {},
   "outputs": [],
   "source": [
    "df.head()"
   ]
  },
  {
   "cell_type": "code",
   "execution_count": null,
   "metadata": {},
   "outputs": [],
   "source": []
  },
  {
   "cell_type": "code",
   "execution_count": null,
   "metadata": {},
   "outputs": [],
   "source": []
  },
  {
   "cell_type": "code",
   "execution_count": null,
   "metadata": {},
   "outputs": [],
   "source": []
  },
  {
   "cell_type": "markdown",
   "metadata": {},
   "source": [
    "# Dataframes for T test or whatever analysis for males "
   ]
  },
  {
   "cell_type": "code",
   "execution_count": null,
   "metadata": {},
   "outputs": [],
   "source": [
    "male_paid = df[(df.SEX == 1) & (df['default payment next month'] == 0)]\n",
    "male_default = df[(df.SEX == 1) & (df['default payment next month'] == 1)]\n"
   ]
  },
  {
   "cell_type": "code",
   "execution_count": null,
   "metadata": {},
   "outputs": [],
   "source": [
    "male_paid.head()"
   ]
  },
  {
   "cell_type": "code",
   "execution_count": null,
   "metadata": {},
   "outputs": [],
   "source": [
    "male_default.head()"
   ]
  },
  {
   "cell_type": "code",
   "execution_count": null,
   "metadata": {},
   "outputs": [],
   "source": []
  },
  {
   "cell_type": "code",
   "execution_count": null,
   "metadata": {},
   "outputs": [],
   "source": [
    "np.mean(male_paid['LIMIT_BAL'])"
   ]
  },
  {
   "cell_type": "code",
   "execution_count": null,
   "metadata": {},
   "outputs": [],
   "source": [
    "np.std(male_paid['LIMIT_BAL'])"
   ]
  },
  {
   "cell_type": "code",
   "execution_count": null,
   "metadata": {},
   "outputs": [],
   "source": []
  },
  {
   "cell_type": "code",
   "execution_count": null,
   "metadata": {},
   "outputs": [],
   "source": []
  },
  {
   "cell_type": "code",
   "execution_count": null,
   "metadata": {},
   "outputs": [],
   "source": [
    "np.mean(male_default['LIMIT_BAL'])"
   ]
  },
  {
   "cell_type": "code",
   "execution_count": null,
   "metadata": {},
   "outputs": [],
   "source": [
    "np.std(male_default['LIMIT_BAL'])"
   ]
  },
  {
   "cell_type": "code",
   "execution_count": null,
   "metadata": {},
   "outputs": [],
   "source": [
    "from scipy import stats\n",
    "\n",
    "\n",
    "## Define 2 random distributions\n",
    "#Sample Size\n",
    "N = 10\n",
    "#Gaussian distributed data with mean = 2 and var = 1\n",
    "a = np.random.randn(N) + 2\n",
    "#Gaussian distributed data with with mean = 0 and var = 1\n",
    "b = np.random.randn(N)\n",
    "\n",
    "\n",
    "## Calculate the Standard Deviation\n",
    "#Calculate the variance to get the standard deviation\n",
    "\n",
    "#For unbiased max likelihood estimate we have to divide the var by N-1, and therefore the parameter ddof = 1\n",
    "var_a = a.var(ddof=1)\n",
    "var_b = b.var(ddof=1)\n",
    "\n",
    "#std deviation\n",
    "s = np.sqrt((var_a + var_b)/2)\n",
    "s\n",
    "\n",
    "\n",
    "\n",
    "## Calculate the t-statistics\n",
    "t = (a.mean() - b.mean())/(s*np.sqrt(2/N))\n",
    "\n",
    "\n",
    "\n",
    "## Compare with the critical t-value\n",
    "#Degrees of freedom\n",
    "df = 2*N - 2\n",
    "\n",
    "#p-value after comparison with the t \n",
    "p = 1 - stats.t.cdf(t,df=df)\n",
    "\n",
    "\n",
    "print(\"t = \" + str(t))\n",
    "print(\"p = \" + str(2*p))\n",
    "### You can see that after comparing the t statistic with the critical t value (computed internally) we get a good p value of 0.0005 and thus we reject the null hypothesis and thus it proves that the mean of the two distributions are different and statistically significant.\n",
    "\n",
    "\n",
    "## Cross Checking with the internal scipy function\n",
    "t2, p2 = stats.ttest_ind(a,b)\n",
    "print(\"t = \" + str(t2))\n",
    "print(\"p = \" + str(p2))"
   ]
  },
  {
   "cell_type": "code",
   "execution_count": null,
   "metadata": {},
   "outputs": [],
   "source": []
  },
  {
   "cell_type": "code",
   "execution_count": null,
   "metadata": {},
   "outputs": [],
   "source": []
  },
  {
   "cell_type": "code",
   "execution_count": null,
   "metadata": {},
   "outputs": [],
   "source": []
  },
  {
   "cell_type": "code",
   "execution_count": null,
   "metadata": {},
   "outputs": [],
   "source": []
  },
  {
   "cell_type": "markdown",
   "metadata": {},
   "source": [
    "Dataframes for T test or whatever analysis for males\n"
   ]
  },
  {
   "cell_type": "code",
   "execution_count": null,
   "metadata": {},
   "outputs": [],
   "source": [
    "female_paid = df[(df.SEX == 2) & (df['default payment next month'] == 0)]\n",
    "female_default = df[(df.SEX == 2) & (df['default payment next month'] == 1)]"
   ]
  },
  {
   "cell_type": "code",
   "execution_count": null,
   "metadata": {},
   "outputs": [],
   "source": [
    "female_paid.head()"
   ]
  },
  {
   "cell_type": "code",
   "execution_count": null,
   "metadata": {},
   "outputs": [],
   "source": [
    "female_default.head()"
   ]
  },
  {
   "cell_type": "code",
   "execution_count": null,
   "metadata": {},
   "outputs": [],
   "source": [
    "female_default.iloc[0]"
   ]
  },
  {
   "cell_type": "code",
   "execution_count": null,
   "metadata": {},
   "outputs": [],
   "source": [
    "df.head()"
   ]
  },
  {
   "cell_type": "code",
   "execution_count": null,
   "metadata": {},
   "outputs": [],
   "source": [
    "sns.catplot(x = 'PAY_6',, data = df)"
   ]
  },
  {
   "cell_type": "code",
   "execution_count": null,
   "metadata": {},
   "outputs": [],
   "source": [
    "b = {0:'green', 1:'red'}\n",
    "sns.scatterplot('BILL_AMT5', 'PAY_AMT5', data = df, hue = 'default payment next month', palette = b)\n",
    "plt.xlabel('Bill Amount in May')\n",
    "plt.ylabel('Payment Amount in May')\n",
    "plt.title('Bill amount vs Payment amount in May')\n",
    "plt.legend(('Defaulted','Paid'),loc = 'upper right')"
   ]
  },
  {
   "cell_type": "code",
   "execution_count": null,
   "metadata": {},
   "outputs": [],
   "source": []
  },
  {
   "cell_type": "code",
   "execution_count": null,
   "metadata": {},
   "outputs": [],
   "source": [
    "_ = df.PAY_6.value_counts().plot(linestyle = 'none', marker = 'o', color = 'red')\n"
   ]
  },
  {
   "cell_type": "code",
   "execution_count": null,
   "metadata": {},
   "outputs": [],
   "source": [
    "_ = df.PAY_5.value_counts().plot(linestyle = 'none', marker = 'x', color = 'blue')\n"
   ]
  },
  {
   "cell_type": "code",
   "execution_count": null,
   "metadata": {},
   "outputs": [],
   "source": [
    "_ = df.PAY_4.value_counts().plot(linestyle = 'none', marker = 'o', color = 'green')\n",
    "_ = df.PAY_3.value_counts().plot(linestyle = 'none', marker = 'o', color = 'yellow')\n",
    "_ = df.PAY_2.value_counts().plot(linestyle = 'none', marker = 'o', color = 'orange')\n",
    "_ = df.PAY_0.value_counts().plot(linestyle = 'none', marker = 'o', color = 'purple')\n",
    "_ = plt.xlabel('Months in arrears')\n",
    "_ = plt.ylabel('Frenquency')"
   ]
  },
  {
   "cell_type": "code",
   "execution_count": null,
   "metadata": {},
   "outputs": [],
   "source": []
  },
  {
   "cell_type": "code",
   "execution_count": null,
   "metadata": {},
   "outputs": [],
   "source": []
  },
  {
   "cell_type": "code",
   "execution_count": null,
   "metadata": {},
   "outputs": [],
   "source": [
    "df_paid = df[df['default payment next month'] == 0]"
   ]
  },
  {
   "cell_type": "code",
   "execution_count": null,
   "metadata": {},
   "outputs": [],
   "source": [
    "df_paid.head()"
   ]
  },
  {
   "cell_type": "code",
   "execution_count": null,
   "metadata": {},
   "outputs": [],
   "source": [
    "_ = sns.lmplot(x = 'BILL_AMT6', y = 'PAY_AMT6', data = df_paid, hue = 'SEX')\n",
    "_ = plt.figure(figsize = [20,20])\n",
    "#sns.despine"
   ]
  },
  {
   "cell_type": "code",
   "execution_count": null,
   "metadata": {},
   "outputs": [],
   "source": [
    "_ = sns.residplot(x = 'BILL_AMT6', y = 'PAY_AMT6', data = df_paid)\n",
    "_ = plt.figure(figsize = [20,20])\n",
    "#sns.despine"
   ]
  },
  {
   "cell_type": "code",
   "execution_count": null,
   "metadata": {},
   "outputs": [],
   "source": [
    "sns.distplot(df.AGE, kde = False, bins = 30)\n",
    "plt.ylabel('Frequency')"
   ]
  },
  {
   "cell_type": "code",
   "execution_count": null,
   "metadata": {},
   "outputs": [],
   "source": [
    "sns.distplot(df.LIMIT_BAL)"
   ]
  },
  {
   "cell_type": "code",
   "execution_count": null,
   "metadata": {},
   "outputs": [],
   "source": [
    "sns.countplot(df['default payment next month'], hue = df.SEX)\n",
    "plt.legend(('Male','Female'))"
   ]
  },
  {
   "cell_type": "code",
   "execution_count": null,
   "metadata": {},
   "outputs": [],
   "source": [
    "sns.boxplot(x = 'default payment next month', y = 'LIMIT_BAL', data = df, hue = 'SEX')"
   ]
  },
  {
   "cell_type": "code",
   "execution_count": null,
   "metadata": {},
   "outputs": [],
   "source": [
    "df.head()"
   ]
  },
  {
   "cell_type": "code",
   "execution_count": null,
   "metadata": {},
   "outputs": [],
   "source": [
    "sns.distplot(df.EDUCATION)"
   ]
  },
  {
   "cell_type": "code",
   "execution_count": null,
   "metadata": {},
   "outputs": [],
   "source": [
    "_ = sns.distplot(df.PAY_0, color = 'blue')\n"
   ]
  },
  {
   "cell_type": "code",
   "execution_count": null,
   "metadata": {},
   "outputs": [],
   "source": [
    "sns.distplot(df.PAY_2, color= 'red')\n",
    "print(df.PAY_2.value_counts())"
   ]
  },
  {
   "cell_type": "code",
   "execution_count": null,
   "metadata": {},
   "outputs": [],
   "source": [
    "sns.distplot(df.PAY_3, color= 'green')\n"
   ]
  },
  {
   "cell_type": "code",
   "execution_count": null,
   "metadata": {},
   "outputs": [],
   "source": [
    "sns.distplot(df.PAY_4, color= 'purple')"
   ]
  },
  {
   "cell_type": "markdown",
   "metadata": {},
   "source": [
    "## STATISTICAL EDA"
   ]
  },
  {
   "cell_type": "code",
   "execution_count": null,
   "metadata": {},
   "outputs": [],
   "source": [
    "x,y = np.polyfit(df.BILL_AMT1,df.PAY_AMT1, deg = 1)\n",
    "print('The gradient is', x,'\\nThe Intercept is', y)"
   ]
  },
  {
   "cell_type": "code",
   "execution_count": null,
   "metadata": {},
   "outputs": [],
   "source": [
    "x,y = np.polyfit(df.BILL_AMT6,df.PAY_AMT6, deg = 1)\n",
    "print('The gradient is', x*100,'\\nThe Intercept is', y)"
   ]
  },
  {
   "cell_type": "code",
   "execution_count": null,
   "metadata": {},
   "outputs": [],
   "source": [
    "m,c = np.polyfit(df.BILL_AMT2,df.PAY_AMT2, deg = 1)\n",
    "print('The gradient is', m,'\\nThe Intercept is', c)"
   ]
  },
  {
   "cell_type": "code",
   "execution_count": null,
   "metadata": {},
   "outputs": [],
   "source": [
    "g = sns.jointplot('BILL_AMT2', 'PAY_AMT2', data = new_df2, color = 'green', kind = 'reg')\n",
    "regline = g.ax_joint.get_lines()[0]\n",
    "regline.set_color('blue')"
   ]
  },
  {
   "cell_type": "code",
   "execution_count": null,
   "metadata": {},
   "outputs": [],
   "source": [
    "y = m*x + c"
   ]
  },
  {
   "cell_type": "code",
   "execution_count": null,
   "metadata": {},
   "outputs": [],
   "source": [
    "def y_func(x):\n",
    "    y = m*x + c\n",
    "    \n",
    "    return y"
   ]
  },
  {
   "cell_type": "code",
   "execution_count": null,
   "metadata": {},
   "outputs": [],
   "source": [
    "y_func(1000000)"
   ]
  },
  {
   "cell_type": "code",
   "execution_count": null,
   "metadata": {},
   "outputs": [],
   "source": [
    "df.corr()"
   ]
  },
  {
   "cell_type": "code",
   "execution_count": null,
   "metadata": {},
   "outputs": [],
   "source": [
    "df.corr()['default payment next month']"
   ]
  },
  {
   "cell_type": "code",
   "execution_count": null,
   "metadata": {},
   "outputs": [],
   "source": [
    "correlational_df = df.corr()"
   ]
  },
  {
   "cell_type": "code",
   "execution_count": null,
   "metadata": {},
   "outputs": [],
   "source": [
    "correlational_df.to_csv('Correlational_df')"
   ]
  },
  {
   "cell_type": "code",
   "execution_count": null,
   "metadata": {},
   "outputs": [],
   "source": [
    "correlational_df.to_excel('Correlational_new.xlsx')"
   ]
  },
  {
   "cell_type": "code",
   "execution_count": null,
   "metadata": {},
   "outputs": [],
   "source": [
    "_ = sns.catplot(x = 'PAY_0', hue_order = 'default payment next month', data = df, kind = 'count')"
   ]
  },
  {
   "cell_type": "code",
   "execution_count": null,
   "metadata": {},
   "outputs": [],
   "source": [
    "pay_0_default = df[df['default payment next month'] ==1]\n",
    "pay_0_nondefault = df[df['default payment next month'] ==0]"
   ]
  },
  {
   "cell_type": "code",
   "execution_count": null,
   "metadata": {},
   "outputs": [],
   "source": [
    "pay_0_default.head()"
   ]
  },
  {
   "cell_type": "code",
   "execution_count": null,
   "metadata": {},
   "outputs": [],
   "source": [
    "pay_0_nondefault.head()"
   ]
  },
  {
   "cell_type": "code",
   "execution_count": null,
   "metadata": {},
   "outputs": [],
   "source": [
    "f,axes = plt.subplots(1, 2, figsize=(7, 7), sharex=True)\n",
    "sns.catplot(x = 'PAY_0', hue_order = 'default payment next month', data = pay_0_default, kind = 'count')\n",
    "sns.catplot(x = 'PAY_0', hue_order = 'default payment next month', data = pay_0_nondefault, kind = 'count')"
   ]
  },
  {
   "cell_type": "code",
   "execution_count": null,
   "metadata": {},
   "outputs": [],
   "source": [
    "_ = sns.catplot(x = 'PAY_0', hue_order = 'default payment next month', data = pay_0_nondefault, kind = 'count')"
   ]
  },
  {
   "cell_type": "code",
   "execution_count": null,
   "metadata": {},
   "outputs": [],
   "source": [
    "g = sns.FacetGrid(data = df, col = 'PAY_0', hue = 'default payment next month' )\n",
    "g.map(sns.countplot, 'SEX')\n",
    "g.add_legend()"
   ]
  },
  {
   "cell_type": "code",
   "execution_count": null,
   "metadata": {},
   "outputs": [],
   "source": [
    "g = sns.FacetGrid(data = df, col = 'SEX', hue = 'default payment next month' )\n",
    "g.map(sns.countplot, 'PAY_0')\n",
    "g.add_legend()"
   ]
  },
  {
   "cell_type": "code",
   "execution_count": null,
   "metadata": {},
   "outputs": [],
   "source": [
    "np.mean(df[(df['default payment next month'] ==1) & (df['SEX'] == 1)]['LIMIT_BAL'])"
   ]
  },
  {
   "cell_type": "code",
   "execution_count": null,
   "metadata": {},
   "outputs": [],
   "source": [
    "np.std(df[(df['default payment next month'] ==1) & (df['SEX'] == 1)]['LIMIT_BAL'])"
   ]
  },
  {
   "cell_type": "code",
   "execution_count": null,
   "metadata": {},
   "outputs": [],
   "source": []
  },
  {
   "cell_type": "code",
   "execution_count": null,
   "metadata": {},
   "outputs": [],
   "source": [
    "np.mean(df[(df['default payment next month'] ==0) & (df['SEX'] == 1)]['LIMIT_BAL'])"
   ]
  },
  {
   "cell_type": "code",
   "execution_count": null,
   "metadata": {},
   "outputs": [],
   "source": [
    "np.std(df[(df['default payment next month'] ==0) & (df['SEX'] == 1)]['LIMIT_BAL'])"
   ]
  },
  {
   "cell_type": "code",
   "execution_count": null,
   "metadata": {},
   "outputs": [],
   "source": []
  },
  {
   "cell_type": "markdown",
   "metadata": {},
   "source": [
    "## Age EDA"
   ]
  },
  {
   "cell_type": "code",
   "execution_count": 32,
   "metadata": {},
   "outputs": [
    {
     "data": {
      "text/plain": [
       "Text(0.5, 1.0, 'Histogram of Age Distribution')"
      ]
     },
     "execution_count": 32,
     "metadata": {},
     "output_type": "execute_result"
    },
    {
     "data": {
      "image/png": "[encoded data removed]",
      "text/plain": [
       "<Figure size 432x288 with 1 Axes>"
      ]
     },
     "metadata": {
      "needs_background": "light"
     },
     "output_type": "display_data"
    }
   ],
   "source": [
    "sns.distplot(df.AGE, kde = False, bins = 30)\n",
    "plt.ylabel('Frequency')\n",
    "plt.title('Histogram of Age Distribution')\n",
    "#plt.savefig('histogram of ages')"
   ]
  },
  {
   "cell_type": "code",
   "execution_count": 33,
   "metadata": {},
   "outputs": [
    {
     "name": "stdout",
     "output_type": "stream",
     "text": [
      "the mean age is 35.4855\n",
      "the median age is 34.0\n"
     ]
    }
   ],
   "source": [
    "print('the mean age is',np.mean(df.AGE))\n",
    "print('the median age is', np.median(df.AGE))"
   ]
  },
  {
   "cell_type": "code",
   "execution_count": 34,
   "metadata": {},
   "outputs": [
    {
     "data": {
      "text/plain": [
       "array([28., 41.])"
      ]
     },
     "execution_count": 34,
     "metadata": {},
     "output_type": "execute_result"
    }
   ],
   "source": [
    "np.percentile(df.AGE,[25,75])"
   ]
  },
  {
   "cell_type": "code",
   "execution_count": 35,
   "metadata": {},
   "outputs": [],
   "source": [
    "\n",
    "#Note:\n",
    "#Function was written to handle seeding of randomized set creation. You should not rely on set splitting that doesn't randomize the sets.\n",
    "\n",
    "import numpy as np\n",
    "import pandas as pd\n",
    "\n",
    "def train_validate_test_split(df, train_percent=.7, validate_percent=.15, seed=46):\n",
    "    np.random.seed(seed)\n",
    "    perm = np.random.permutation(df.index)\n",
    "    m = len(df.index)\n",
    "    train_end = int(train_percent * m)\n",
    "    validate_end = int(validate_percent * m) + train_end\n",
    "    train = df.iloc[perm[:train_end]]\n",
    "    validate = df.iloc[perm[train_end:validate_end]]\n",
    "    test = df.iloc[perm[validate_end:]]\n",
    "    return train, validate, test"
   ]
  },
  {
   "cell_type": "code",
   "execution_count": 36,
   "metadata": {},
   "outputs": [],
   "source": [
    "train, validate, test = train_validate_test_split(df)"
   ]
  },
  {
   "cell_type": "code",
   "execution_count": 37,
   "metadata": {},
   "outputs": [
    {
     "data": {
      "text/html": [
       "<div>\n",
       "<style scoped>\n",
       "    .dataframe tbody tr th:only-of-type {\n",
       "        vertical-align: middle;\n",
       "    }\n",
       "\n",
       "    .dataframe tbody tr th {\n",
       "        vertical-align: top;\n",
       "    }\n",
       "\n",
       "    .dataframe thead th {\n",
       "        text-align: right;\n",
       "    }\n",
       "</style>\n",
       "<table border=\"1\" class=\"dataframe\">\n",
       "  <thead>\n",
       "    <tr style=\"text-align: right;\">\n",
       "      <th></th>\n",
       "      <th>ID</th>\n",
       "      <th>LIMIT_BAL</th>\n",
       "      <th>SEX</th>\n",
       "      <th>EDUCATION</th>\n",
       "      <th>MARRIAGE</th>\n",
       "      <th>AGE</th>\n",
       "      <th>PAY_0</th>\n",
       "      <th>PAY_2</th>\n",
       "      <th>PAY_3</th>\n",
       "      <th>PAY_4</th>\n",
       "      <th>...</th>\n",
       "      <th>BILL_AMT4</th>\n",
       "      <th>BILL_AMT5</th>\n",
       "      <th>BILL_AMT6</th>\n",
       "      <th>PAY_AMT1</th>\n",
       "      <th>PAY_AMT2</th>\n",
       "      <th>PAY_AMT3</th>\n",
       "      <th>PAY_AMT4</th>\n",
       "      <th>PAY_AMT5</th>\n",
       "      <th>PAY_AMT6</th>\n",
       "      <th>default payment next month</th>\n",
       "    </tr>\n",
       "  </thead>\n",
       "  <tbody>\n",
       "    <tr>\n",
       "      <th>16310</th>\n",
       "      <td>16311</td>\n",
       "      <td>200000</td>\n",
       "      <td>2</td>\n",
       "      <td>2</td>\n",
       "      <td>1</td>\n",
       "      <td>36</td>\n",
       "      <td>0</td>\n",
       "      <td>0</td>\n",
       "      <td>0</td>\n",
       "      <td>0</td>\n",
       "      <td>...</td>\n",
       "      <td>115046</td>\n",
       "      <td>24895</td>\n",
       "      <td>35410</td>\n",
       "      <td>12000</td>\n",
       "      <td>9427</td>\n",
       "      <td>5934</td>\n",
       "      <td>13000</td>\n",
       "      <td>11000</td>\n",
       "      <td>1320</td>\n",
       "      <td>0</td>\n",
       "    </tr>\n",
       "    <tr>\n",
       "      <th>4610</th>\n",
       "      <td>4611</td>\n",
       "      <td>30000</td>\n",
       "      <td>2</td>\n",
       "      <td>2</td>\n",
       "      <td>1</td>\n",
       "      <td>42</td>\n",
       "      <td>0</td>\n",
       "      <td>0</td>\n",
       "      <td>0</td>\n",
       "      <td>0</td>\n",
       "      <td>...</td>\n",
       "      <td>28257</td>\n",
       "      <td>30695</td>\n",
       "      <td>30059</td>\n",
       "      <td>3671</td>\n",
       "      <td>1500</td>\n",
       "      <td>1018</td>\n",
       "      <td>2900</td>\n",
       "      <td>0</td>\n",
       "      <td>869</td>\n",
       "      <td>0</td>\n",
       "    </tr>\n",
       "    <tr>\n",
       "      <th>4387</th>\n",
       "      <td>4388</td>\n",
       "      <td>90000</td>\n",
       "      <td>1</td>\n",
       "      <td>2</td>\n",
       "      <td>1</td>\n",
       "      <td>35</td>\n",
       "      <td>8</td>\n",
       "      <td>7</td>\n",
       "      <td>6</td>\n",
       "      <td>5</td>\n",
       "      <td>...</td>\n",
       "      <td>106001</td>\n",
       "      <td>103816</td>\n",
       "      <td>101878</td>\n",
       "      <td>0</td>\n",
       "      <td>0</td>\n",
       "      <td>0</td>\n",
       "      <td>0</td>\n",
       "      <td>0</td>\n",
       "      <td>0</td>\n",
       "      <td>1</td>\n",
       "    </tr>\n",
       "    <tr>\n",
       "      <th>25042</th>\n",
       "      <td>25043</td>\n",
       "      <td>20000</td>\n",
       "      <td>1</td>\n",
       "      <td>2</td>\n",
       "      <td>2</td>\n",
       "      <td>52</td>\n",
       "      <td>0</td>\n",
       "      <td>0</td>\n",
       "      <td>0</td>\n",
       "      <td>2</td>\n",
       "      <td>...</td>\n",
       "      <td>15470</td>\n",
       "      <td>0</td>\n",
       "      <td>0</td>\n",
       "      <td>1238</td>\n",
       "      <td>2559</td>\n",
       "      <td>0</td>\n",
       "      <td>0</td>\n",
       "      <td>0</td>\n",
       "      <td>0</td>\n",
       "      <td>0</td>\n",
       "    </tr>\n",
       "    <tr>\n",
       "      <th>10226</th>\n",
       "      <td>10227</td>\n",
       "      <td>140000</td>\n",
       "      <td>2</td>\n",
       "      <td>3</td>\n",
       "      <td>1</td>\n",
       "      <td>51</td>\n",
       "      <td>0</td>\n",
       "      <td>0</td>\n",
       "      <td>0</td>\n",
       "      <td>0</td>\n",
       "      <td>...</td>\n",
       "      <td>40979</td>\n",
       "      <td>42339</td>\n",
       "      <td>43529</td>\n",
       "      <td>3500</td>\n",
       "      <td>2000</td>\n",
       "      <td>1447</td>\n",
       "      <td>2000</td>\n",
       "      <td>2184</td>\n",
       "      <td>2000</td>\n",
       "      <td>0</td>\n",
       "    </tr>\n",
       "    <tr>\n",
       "      <th>16910</th>\n",
       "      <td>16911</td>\n",
       "      <td>170000</td>\n",
       "      <td>1</td>\n",
       "      <td>2</td>\n",
       "      <td>1</td>\n",
       "      <td>39</td>\n",
       "      <td>0</td>\n",
       "      <td>0</td>\n",
       "      <td>0</td>\n",
       "      <td>0</td>\n",
       "      <td>...</td>\n",
       "      <td>112300</td>\n",
       "      <td>110371</td>\n",
       "      <td>113685</td>\n",
       "      <td>5000</td>\n",
       "      <td>20000</td>\n",
       "      <td>6000</td>\n",
       "      <td>5000</td>\n",
       "      <td>5000</td>\n",
       "      <td>3000</td>\n",
       "      <td>0</td>\n",
       "    </tr>\n",
       "    <tr>\n",
       "      <th>25360</th>\n",
       "      <td>25361</td>\n",
       "      <td>260000</td>\n",
       "      <td>2</td>\n",
       "      <td>2</td>\n",
       "      <td>2</td>\n",
       "      <td>26</td>\n",
       "      <td>0</td>\n",
       "      <td>0</td>\n",
       "      <td>0</td>\n",
       "      <td>0</td>\n",
       "      <td>...</td>\n",
       "      <td>262723</td>\n",
       "      <td>222464</td>\n",
       "      <td>222837</td>\n",
       "      <td>9800</td>\n",
       "      <td>9800</td>\n",
       "      <td>9413</td>\n",
       "      <td>7114</td>\n",
       "      <td>7532</td>\n",
       "      <td>8427</td>\n",
       "      <td>0</td>\n",
       "    </tr>\n",
       "    <tr>\n",
       "      <th>12389</th>\n",
       "      <td>12390</td>\n",
       "      <td>30000</td>\n",
       "      <td>2</td>\n",
       "      <td>2</td>\n",
       "      <td>1</td>\n",
       "      <td>33</td>\n",
       "      <td>0</td>\n",
       "      <td>0</td>\n",
       "      <td>0</td>\n",
       "      <td>0</td>\n",
       "      <td>...</td>\n",
       "      <td>14476</td>\n",
       "      <td>14792</td>\n",
       "      <td>15145</td>\n",
       "      <td>1250</td>\n",
       "      <td>1537</td>\n",
       "      <td>600</td>\n",
       "      <td>550</td>\n",
       "      <td>600</td>\n",
       "      <td>800</td>\n",
       "      <td>0</td>\n",
       "    </tr>\n",
       "    <tr>\n",
       "      <th>20713</th>\n",
       "      <td>20714</td>\n",
       "      <td>220000</td>\n",
       "      <td>1</td>\n",
       "      <td>2</td>\n",
       "      <td>1</td>\n",
       "      <td>45</td>\n",
       "      <td>0</td>\n",
       "      <td>0</td>\n",
       "      <td>0</td>\n",
       "      <td>0</td>\n",
       "      <td>...</td>\n",
       "      <td>173455</td>\n",
       "      <td>88063</td>\n",
       "      <td>90240</td>\n",
       "      <td>6500</td>\n",
       "      <td>6000</td>\n",
       "      <td>4500</td>\n",
       "      <td>3000</td>\n",
       "      <td>3000</td>\n",
       "      <td>3000</td>\n",
       "      <td>0</td>\n",
       "    </tr>\n",
       "    <tr>\n",
       "      <th>18728</th>\n",
       "      <td>18729</td>\n",
       "      <td>120000</td>\n",
       "      <td>2</td>\n",
       "      <td>2</td>\n",
       "      <td>2</td>\n",
       "      <td>28</td>\n",
       "      <td>0</td>\n",
       "      <td>0</td>\n",
       "      <td>0</td>\n",
       "      <td>0</td>\n",
       "      <td>...</td>\n",
       "      <td>120267</td>\n",
       "      <td>121471</td>\n",
       "      <td>118656</td>\n",
       "      <td>6010</td>\n",
       "      <td>6108</td>\n",
       "      <td>5831</td>\n",
       "      <td>4700</td>\n",
       "      <td>4486</td>\n",
       "      <td>4871</td>\n",
       "      <td>0</td>\n",
       "    </tr>\n",
       "  </tbody>\n",
       "</table>\n",
       "<p>10 rows × 25 columns</p>\n",
       "</div>"
      ],
      "text/plain": [
       "          ID  LIMIT_BAL  SEX  EDUCATION  MARRIAGE  AGE  PAY_0  PAY_2  PAY_3  \\\n",
       "16310  16311     200000    2          2         1   36      0      0      0   \n",
       "4610    4611      30000    2          2         1   42      0      0      0   \n",
       "4387    4388      90000    1          2         1   35      8      7      6   \n",
       "25042  25043      20000    1          2         2   52      0      0      0   \n",
       "10226  10227     140000    2          3         1   51      0      0      0   \n",
       "16910  16911     170000    1          2         1   39      0      0      0   \n",
       "25360  25361     260000    2          2         2   26      0      0      0   \n",
       "12389  12390      30000    2          2         1   33      0      0      0   \n",
       "20713  20714     220000    1          2         1   45      0      0      0   \n",
       "18728  18729     120000    2          2         2   28      0      0      0   \n",
       "\n",
       "       PAY_4  ...  BILL_AMT4  BILL_AMT5  BILL_AMT6  PAY_AMT1  PAY_AMT2  \\\n",
       "16310      0  ...     115046      24895      35410     12000      9427   \n",
       "4610       0  ...      28257      30695      30059      3671      1500   \n",
       "4387       5  ...     106001     103816     101878         0         0   \n",
       "25042      2  ...      15470          0          0      1238      2559   \n",
       "10226      0  ...      40979      42339      43529      3500      2000   \n",
       "16910      0  ...     112300     110371     113685      5000     20000   \n",
       "25360      0  ...     262723     222464     222837      9800      9800   \n",
       "12389      0  ...      14476      14792      15145      1250      1537   \n",
       "20713      0  ...     173455      88063      90240      6500      6000   \n",
       "18728      0  ...     120267     121471     118656      6010      6108   \n",
       "\n",
       "       PAY_AMT3  PAY_AMT4  PAY_AMT5  PAY_AMT6  default payment next month  \n",
       "16310      5934     13000     11000      1320                           0  \n",
       "4610       1018      2900         0       869                           0  \n",
       "4387          0         0         0         0                           1  \n",
       "25042         0         0         0         0                           0  \n",
       "10226      1447      2000      2184      2000                           0  \n",
       "16910      6000      5000      5000      3000                           0  \n",
       "25360      9413      7114      7532      8427                           0  \n",
       "12389       600       550       600       800                           0  \n",
       "20713      4500      3000      3000      3000                           0  \n",
       "18728      5831      4700      4486      4871                           0  \n",
       "\n",
       "[10 rows x 25 columns]"
      ]
     },
     "execution_count": 37,
     "metadata": {},
     "output_type": "execute_result"
    }
   ],
   "source": [
    "train.head(10)"
   ]
  },
  {
   "cell_type": "code",
   "execution_count": 38,
   "metadata": {},
   "outputs": [
    {
     "data": {
      "text/html": [
       "<div>\n",
       "<style scoped>\n",
       "    .dataframe tbody tr th:only-of-type {\n",
       "        vertical-align: middle;\n",
       "    }\n",
       "\n",
       "    .dataframe tbody tr th {\n",
       "        vertical-align: top;\n",
       "    }\n",
       "\n",
       "    .dataframe thead th {\n",
       "        text-align: right;\n",
       "    }\n",
       "</style>\n",
       "<table border=\"1\" class=\"dataframe\">\n",
       "  <thead>\n",
       "    <tr style=\"text-align: right;\">\n",
       "      <th></th>\n",
       "      <th>ID</th>\n",
       "      <th>LIMIT_BAL</th>\n",
       "      <th>SEX</th>\n",
       "      <th>EDUCATION</th>\n",
       "      <th>MARRIAGE</th>\n",
       "      <th>AGE</th>\n",
       "      <th>PAY_0</th>\n",
       "      <th>PAY_2</th>\n",
       "      <th>PAY_3</th>\n",
       "      <th>PAY_4</th>\n",
       "      <th>...</th>\n",
       "      <th>BILL_AMT4</th>\n",
       "      <th>BILL_AMT5</th>\n",
       "      <th>BILL_AMT6</th>\n",
       "      <th>PAY_AMT1</th>\n",
       "      <th>PAY_AMT2</th>\n",
       "      <th>PAY_AMT3</th>\n",
       "      <th>PAY_AMT4</th>\n",
       "      <th>PAY_AMT5</th>\n",
       "      <th>PAY_AMT6</th>\n",
       "      <th>default payment next month</th>\n",
       "    </tr>\n",
       "  </thead>\n",
       "  <tbody>\n",
       "    <tr>\n",
       "      <th>27212</th>\n",
       "      <td>27213</td>\n",
       "      <td>150000</td>\n",
       "      <td>1</td>\n",
       "      <td>1</td>\n",
       "      <td>2</td>\n",
       "      <td>27</td>\n",
       "      <td>0</td>\n",
       "      <td>0</td>\n",
       "      <td>0</td>\n",
       "      <td>0</td>\n",
       "      <td>...</td>\n",
       "      <td>60134</td>\n",
       "      <td>26607</td>\n",
       "      <td>0</td>\n",
       "      <td>3000</td>\n",
       "      <td>3000</td>\n",
       "      <td>2000</td>\n",
       "      <td>0</td>\n",
       "      <td>0</td>\n",
       "      <td>0</td>\n",
       "      <td>0</td>\n",
       "    </tr>\n",
       "    <tr>\n",
       "      <th>5119</th>\n",
       "      <td>5120</td>\n",
       "      <td>500000</td>\n",
       "      <td>2</td>\n",
       "      <td>2</td>\n",
       "      <td>1</td>\n",
       "      <td>47</td>\n",
       "      <td>0</td>\n",
       "      <td>0</td>\n",
       "      <td>0</td>\n",
       "      <td>0</td>\n",
       "      <td>...</td>\n",
       "      <td>66679</td>\n",
       "      <td>70090</td>\n",
       "      <td>73728</td>\n",
       "      <td>5000</td>\n",
       "      <td>10000</td>\n",
       "      <td>5000</td>\n",
       "      <td>5000</td>\n",
       "      <td>5000</td>\n",
       "      <td>5000</td>\n",
       "      <td>0</td>\n",
       "    </tr>\n",
       "    <tr>\n",
       "      <th>15183</th>\n",
       "      <td>15184</td>\n",
       "      <td>80000</td>\n",
       "      <td>2</td>\n",
       "      <td>2</td>\n",
       "      <td>2</td>\n",
       "      <td>25</td>\n",
       "      <td>0</td>\n",
       "      <td>0</td>\n",
       "      <td>0</td>\n",
       "      <td>0</td>\n",
       "      <td>...</td>\n",
       "      <td>13768</td>\n",
       "      <td>17748</td>\n",
       "      <td>10577</td>\n",
       "      <td>3000</td>\n",
       "      <td>3000</td>\n",
       "      <td>4000</td>\n",
       "      <td>5000</td>\n",
       "      <td>1000</td>\n",
       "      <td>1310</td>\n",
       "      <td>0</td>\n",
       "    </tr>\n",
       "    <tr>\n",
       "      <th>1926</th>\n",
       "      <td>1927</td>\n",
       "      <td>70000</td>\n",
       "      <td>2</td>\n",
       "      <td>2</td>\n",
       "      <td>2</td>\n",
       "      <td>22</td>\n",
       "      <td>0</td>\n",
       "      <td>0</td>\n",
       "      <td>0</td>\n",
       "      <td>0</td>\n",
       "      <td>...</td>\n",
       "      <td>14573</td>\n",
       "      <td>15127</td>\n",
       "      <td>12596</td>\n",
       "      <td>2000</td>\n",
       "      <td>1400</td>\n",
       "      <td>291</td>\n",
       "      <td>1500</td>\n",
       "      <td>5000</td>\n",
       "      <td>2000</td>\n",
       "      <td>0</td>\n",
       "    </tr>\n",
       "    <tr>\n",
       "      <th>4070</th>\n",
       "      <td>4071</td>\n",
       "      <td>200000</td>\n",
       "      <td>2</td>\n",
       "      <td>2</td>\n",
       "      <td>1</td>\n",
       "      <td>37</td>\n",
       "      <td>-2</td>\n",
       "      <td>-2</td>\n",
       "      <td>-2</td>\n",
       "      <td>-2</td>\n",
       "      <td>...</td>\n",
       "      <td>1602</td>\n",
       "      <td>3017</td>\n",
       "      <td>937</td>\n",
       "      <td>606</td>\n",
       "      <td>432</td>\n",
       "      <td>1602</td>\n",
       "      <td>3017</td>\n",
       "      <td>937</td>\n",
       "      <td>1275</td>\n",
       "      <td>0</td>\n",
       "    </tr>\n",
       "  </tbody>\n",
       "</table>\n",
       "<p>5 rows × 25 columns</p>\n",
       "</div>"
      ],
      "text/plain": [
       "          ID  LIMIT_BAL  SEX  EDUCATION  MARRIAGE  AGE  PAY_0  PAY_2  PAY_3  \\\n",
       "27212  27213     150000    1          1         2   27      0      0      0   \n",
       "5119    5120     500000    2          2         1   47      0      0      0   \n",
       "15183  15184      80000    2          2         2   25      0      0      0   \n",
       "1926    1927      70000    2          2         2   22      0      0      0   \n",
       "4070    4071     200000    2          2         1   37     -2     -2     -2   \n",
       "\n",
       "       PAY_4  ...  BILL_AMT4  BILL_AMT5  BILL_AMT6  PAY_AMT1  PAY_AMT2  \\\n",
       "27212      0  ...      60134      26607          0      3000      3000   \n",
       "5119       0  ...      66679      70090      73728      5000     10000   \n",
       "15183      0  ...      13768      17748      10577      3000      3000   \n",
       "1926       0  ...      14573      15127      12596      2000      1400   \n",
       "4070      -2  ...       1602       3017        937       606       432   \n",
       "\n",
       "       PAY_AMT3  PAY_AMT4  PAY_AMT5  PAY_AMT6  default payment next month  \n",
       "27212      2000         0         0         0                           0  \n",
       "5119       5000      5000      5000      5000                           0  \n",
       "15183      4000      5000      1000      1310                           0  \n",
       "1926        291      1500      5000      2000                           0  \n",
       "4070       1602      3017       937      1275                           0  \n",
       "\n",
       "[5 rows x 25 columns]"
      ]
     },
     "execution_count": 38,
     "metadata": {},
     "output_type": "execute_result"
    }
   ],
   "source": [
    "validate.head()"
   ]
  },
  {
   "cell_type": "markdown",
   "metadata": {},
   "source": [
    "# EDA ON TRAIN DATA"
   ]
  },
  {
   "cell_type": "code",
   "execution_count": 39,
   "metadata": {},
   "outputs": [
    {
     "data": {
      "text/plain": [
       "2    12637\n",
       "1     8363\n",
       "Name: SEX, dtype: int64"
      ]
     },
     "execution_count": 39,
     "metadata": {},
     "output_type": "execute_result"
    }
   ],
   "source": [
    "train.SEX.value_counts()"
   ]
  },
  {
   "cell_type": "code",
   "execution_count": 40,
   "metadata": {},
   "outputs": [
    {
     "data": {
      "text/plain": [
       "2    18112\n",
       "1    11888\n",
       "Name: SEX, dtype: int64"
      ]
     },
     "execution_count": 40,
     "metadata": {},
     "output_type": "execute_result"
    }
   ],
   "source": [
    "df.SEX.value_counts()"
   ]
  },
  {
   "cell_type": "code",
   "execution_count": 41,
   "metadata": {},
   "outputs": [
    {
     "data": {
      "text/plain": [
       "0.6112857142857143"
      ]
     },
     "execution_count": 41,
     "metadata": {},
     "output_type": "execute_result"
    }
   ],
   "source": [
    "12837/(12637 + 8363)"
   ]
  },
  {
   "cell_type": "code",
   "execution_count": 42,
   "metadata": {},
   "outputs": [
    {
     "data": {
      "text/plain": [
       "0.6037333333333333"
      ]
     },
     "execution_count": 42,
     "metadata": {},
     "output_type": "execute_result"
    }
   ],
   "source": [
    "18112/(18112 + 11888)"
   ]
  },
  {
   "cell_type": "code",
   "execution_count": 43,
   "metadata": {},
   "outputs": [
    {
     "data": {
      "text/html": [
       "<div>\n",
       "<style scoped>\n",
       "    .dataframe tbody tr th:only-of-type {\n",
       "        vertical-align: middle;\n",
       "    }\n",
       "\n",
       "    .dataframe tbody tr th {\n",
       "        vertical-align: top;\n",
       "    }\n",
       "\n",
       "    .dataframe thead th {\n",
       "        text-align: right;\n",
       "    }\n",
       "</style>\n",
       "<table border=\"1\" class=\"dataframe\">\n",
       "  <thead>\n",
       "    <tr style=\"text-align: right;\">\n",
       "      <th></th>\n",
       "      <th>ID</th>\n",
       "      <th>LIMIT_BAL</th>\n",
       "      <th>SEX</th>\n",
       "      <th>EDUCATION</th>\n",
       "      <th>MARRIAGE</th>\n",
       "      <th>AGE</th>\n",
       "      <th>PAY_0</th>\n",
       "      <th>PAY_2</th>\n",
       "      <th>PAY_3</th>\n",
       "      <th>PAY_4</th>\n",
       "      <th>...</th>\n",
       "      <th>BILL_AMT4</th>\n",
       "      <th>BILL_AMT5</th>\n",
       "      <th>BILL_AMT6</th>\n",
       "      <th>PAY_AMT1</th>\n",
       "      <th>PAY_AMT2</th>\n",
       "      <th>PAY_AMT3</th>\n",
       "      <th>PAY_AMT4</th>\n",
       "      <th>PAY_AMT5</th>\n",
       "      <th>PAY_AMT6</th>\n",
       "      <th>default payment next month</th>\n",
       "    </tr>\n",
       "  </thead>\n",
       "  <tbody>\n",
       "    <tr>\n",
       "      <th>ID</th>\n",
       "      <td>1.000000</td>\n",
       "      <td>0.032610</td>\n",
       "      <td>0.018957</td>\n",
       "      <td>0.039278</td>\n",
       "      <td>-0.031688</td>\n",
       "      <td>0.018289</td>\n",
       "      <td>-0.029513</td>\n",
       "      <td>-0.008214</td>\n",
       "      <td>-0.016205</td>\n",
       "      <td>0.000544</td>\n",
       "      <td>...</td>\n",
       "      <td>0.040445</td>\n",
       "      <td>0.014561</td>\n",
       "      <td>0.013504</td>\n",
       "      <td>0.016750</td>\n",
       "      <td>0.013658</td>\n",
       "      <td>0.040111</td>\n",
       "      <td>0.012075</td>\n",
       "      <td>0.001877</td>\n",
       "      <td>0.010633</td>\n",
       "      <td>-0.007630</td>\n",
       "    </tr>\n",
       "    <tr>\n",
       "      <th>LIMIT_BAL</th>\n",
       "      <td>0.032610</td>\n",
       "      <td>1.000000</td>\n",
       "      <td>0.018571</td>\n",
       "      <td>-0.220663</td>\n",
       "      <td>-0.109672</td>\n",
       "      <td>0.146001</td>\n",
       "      <td>-0.271605</td>\n",
       "      <td>-0.296810</td>\n",
       "      <td>-0.287380</td>\n",
       "      <td>-0.269652</td>\n",
       "      <td>...</td>\n",
       "      <td>0.296802</td>\n",
       "      <td>0.297724</td>\n",
       "      <td>0.295940</td>\n",
       "      <td>0.196876</td>\n",
       "      <td>0.169897</td>\n",
       "      <td>0.212129</td>\n",
       "      <td>0.205036</td>\n",
       "      <td>0.221004</td>\n",
       "      <td>0.222441</td>\n",
       "      <td>-0.153535</td>\n",
       "    </tr>\n",
       "    <tr>\n",
       "      <th>SEX</th>\n",
       "      <td>0.018957</td>\n",
       "      <td>0.018571</td>\n",
       "      <td>1.000000</td>\n",
       "      <td>0.008688</td>\n",
       "      <td>-0.024837</td>\n",
       "      <td>-0.097136</td>\n",
       "      <td>-0.053006</td>\n",
       "      <td>-0.067987</td>\n",
       "      <td>-0.061715</td>\n",
       "      <td>-0.055444</td>\n",
       "      <td>...</td>\n",
       "      <td>-0.018504</td>\n",
       "      <td>-0.013550</td>\n",
       "      <td>-0.012594</td>\n",
       "      <td>0.004450</td>\n",
       "      <td>-0.000705</td>\n",
       "      <td>-0.010751</td>\n",
       "      <td>-0.000063</td>\n",
       "      <td>-0.001144</td>\n",
       "      <td>-0.002116</td>\n",
       "      <td>-0.040038</td>\n",
       "    </tr>\n",
       "    <tr>\n",
       "      <th>EDUCATION</th>\n",
       "      <td>0.039278</td>\n",
       "      <td>-0.220663</td>\n",
       "      <td>0.008688</td>\n",
       "      <td>1.000000</td>\n",
       "      <td>-0.141933</td>\n",
       "      <td>0.172259</td>\n",
       "      <td>0.108072</td>\n",
       "      <td>0.125065</td>\n",
       "      <td>0.123786</td>\n",
       "      <td>0.117538</td>\n",
       "      <td>...</td>\n",
       "      <td>-0.003073</td>\n",
       "      <td>-0.010534</td>\n",
       "      <td>-0.013315</td>\n",
       "      <td>-0.036129</td>\n",
       "      <td>-0.026821</td>\n",
       "      <td>-0.039139</td>\n",
       "      <td>-0.039043</td>\n",
       "      <td>-0.040841</td>\n",
       "      <td>-0.030491</td>\n",
       "      <td>0.027130</td>\n",
       "    </tr>\n",
       "    <tr>\n",
       "      <th>MARRIAGE</th>\n",
       "      <td>-0.031688</td>\n",
       "      <td>-0.109672</td>\n",
       "      <td>-0.024837</td>\n",
       "      <td>-0.141933</td>\n",
       "      <td>1.000000</td>\n",
       "      <td>-0.419504</td>\n",
       "      <td>0.025927</td>\n",
       "      <td>0.026905</td>\n",
       "      <td>0.039411</td>\n",
       "      <td>0.040992</td>\n",
       "      <td>...</td>\n",
       "      <td>-0.022714</td>\n",
       "      <td>-0.024986</td>\n",
       "      <td>-0.019434</td>\n",
       "      <td>-0.001623</td>\n",
       "      <td>-0.004439</td>\n",
       "      <td>-0.004072</td>\n",
       "      <td>-0.010559</td>\n",
       "      <td>-0.001642</td>\n",
       "      <td>-0.007345</td>\n",
       "      <td>-0.024307</td>\n",
       "    </tr>\n",
       "    <tr>\n",
       "      <th>AGE</th>\n",
       "      <td>0.018289</td>\n",
       "      <td>0.146001</td>\n",
       "      <td>-0.097136</td>\n",
       "      <td>0.172259</td>\n",
       "      <td>-0.419504</td>\n",
       "      <td>1.000000</td>\n",
       "      <td>-0.039554</td>\n",
       "      <td>-0.047436</td>\n",
       "      <td>-0.056951</td>\n",
       "      <td>-0.053574</td>\n",
       "      <td>...</td>\n",
       "      <td>0.054655</td>\n",
       "      <td>0.052166</td>\n",
       "      <td>0.050424</td>\n",
       "      <td>0.029210</td>\n",
       "      <td>0.017820</td>\n",
       "      <td>0.029517</td>\n",
       "      <td>0.019950</td>\n",
       "      <td>0.021261</td>\n",
       "      <td>0.020776</td>\n",
       "      <td>0.017133</td>\n",
       "    </tr>\n",
       "    <tr>\n",
       "      <th>PAY_0</th>\n",
       "      <td>-0.029513</td>\n",
       "      <td>-0.271605</td>\n",
       "      <td>-0.053006</td>\n",
       "      <td>0.108072</td>\n",
       "      <td>0.025927</td>\n",
       "      <td>-0.039554</td>\n",
       "      <td>1.000000</td>\n",
       "      <td>0.672642</td>\n",
       "      <td>0.579143</td>\n",
       "      <td>0.543287</td>\n",
       "      <td>...</td>\n",
       "      <td>0.178390</td>\n",
       "      <td>0.179302</td>\n",
       "      <td>0.173822</td>\n",
       "      <td>-0.079581</td>\n",
       "      <td>-0.064245</td>\n",
       "      <td>-0.071717</td>\n",
       "      <td>-0.065143</td>\n",
       "      <td>-0.055788</td>\n",
       "      <td>-0.064650</td>\n",
       "      <td>0.325973</td>\n",
       "    </tr>\n",
       "    <tr>\n",
       "      <th>PAY_2</th>\n",
       "      <td>-0.008214</td>\n",
       "      <td>-0.296810</td>\n",
       "      <td>-0.067987</td>\n",
       "      <td>0.125065</td>\n",
       "      <td>0.026905</td>\n",
       "      <td>-0.047436</td>\n",
       "      <td>0.672642</td>\n",
       "      <td>1.000000</td>\n",
       "      <td>0.767124</td>\n",
       "      <td>0.661142</td>\n",
       "      <td>...</td>\n",
       "      <td>0.221048</td>\n",
       "      <td>0.219274</td>\n",
       "      <td>0.215496</td>\n",
       "      <td>-0.081374</td>\n",
       "      <td>-0.054619</td>\n",
       "      <td>-0.056648</td>\n",
       "      <td>-0.051787</td>\n",
       "      <td>-0.038298</td>\n",
       "      <td>-0.041621</td>\n",
       "      <td>0.269000</td>\n",
       "    </tr>\n",
       "    <tr>\n",
       "      <th>PAY_3</th>\n",
       "      <td>-0.016205</td>\n",
       "      <td>-0.287380</td>\n",
       "      <td>-0.061715</td>\n",
       "      <td>0.123786</td>\n",
       "      <td>0.039411</td>\n",
       "      <td>-0.056951</td>\n",
       "      <td>0.579143</td>\n",
       "      <td>0.767124</td>\n",
       "      <td>1.000000</td>\n",
       "      <td>0.774519</td>\n",
       "      <td>...</td>\n",
       "      <td>0.227862</td>\n",
       "      <td>0.224724</td>\n",
       "      <td>0.221091</td>\n",
       "      <td>0.000089</td>\n",
       "      <td>-0.064837</td>\n",
       "      <td>-0.053851</td>\n",
       "      <td>-0.049841</td>\n",
       "      <td>-0.036368</td>\n",
       "      <td>-0.043892</td>\n",
       "      <td>0.242487</td>\n",
       "    </tr>\n",
       "    <tr>\n",
       "      <th>PAY_4</th>\n",
       "      <td>0.000544</td>\n",
       "      <td>-0.269652</td>\n",
       "      <td>-0.055444</td>\n",
       "      <td>0.117538</td>\n",
       "      <td>0.040992</td>\n",
       "      <td>-0.053574</td>\n",
       "      <td>0.543287</td>\n",
       "      <td>0.661142</td>\n",
       "      <td>0.774519</td>\n",
       "      <td>1.000000</td>\n",
       "      <td>...</td>\n",
       "      <td>0.241744</td>\n",
       "      <td>0.238864</td>\n",
       "      <td>0.234954</td>\n",
       "      <td>-0.011784</td>\n",
       "      <td>-0.006031</td>\n",
       "      <td>-0.070417</td>\n",
       "      <td>-0.044314</td>\n",
       "      <td>-0.032875</td>\n",
       "      <td>-0.032410</td>\n",
       "      <td>0.219906</td>\n",
       "    </tr>\n",
       "    <tr>\n",
       "      <th>PAY_5</th>\n",
       "      <td>-0.021376</td>\n",
       "      <td>-0.251815</td>\n",
       "      <td>-0.053708</td>\n",
       "      <td>0.104658</td>\n",
       "      <td>0.043263</td>\n",
       "      <td>-0.057264</td>\n",
       "      <td>0.512572</td>\n",
       "      <td>0.623893</td>\n",
       "      <td>0.688616</td>\n",
       "      <td>0.821365</td>\n",
       "      <td>...</td>\n",
       "      <td>0.267338</td>\n",
       "      <td>0.265891</td>\n",
       "      <td>0.257146</td>\n",
       "      <td>-0.008885</td>\n",
       "      <td>-0.006233</td>\n",
       "      <td>0.004408</td>\n",
       "      <td>-0.059075</td>\n",
       "      <td>-0.035720</td>\n",
       "      <td>-0.027778</td>\n",
       "      <td>0.204999</td>\n",
       "    </tr>\n",
       "    <tr>\n",
       "      <th>PAY_6</th>\n",
       "      <td>-0.017546</td>\n",
       "      <td>-0.234319</td>\n",
       "      <td>-0.043089</td>\n",
       "      <td>0.087946</td>\n",
       "      <td>0.040862</td>\n",
       "      <td>-0.048236</td>\n",
       "      <td>0.472675</td>\n",
       "      <td>0.572418</td>\n",
       "      <td>0.633594</td>\n",
       "      <td>0.717748</td>\n",
       "      <td>...</td>\n",
       "      <td>0.266560</td>\n",
       "      <td>0.291181</td>\n",
       "      <td>0.284136</td>\n",
       "      <td>-0.000722</td>\n",
       "      <td>-0.005331</td>\n",
       "      <td>0.003301</td>\n",
       "      <td>0.017478</td>\n",
       "      <td>-0.044016</td>\n",
       "      <td>-0.025495</td>\n",
       "      <td>0.184944</td>\n",
       "    </tr>\n",
       "    <tr>\n",
       "      <th>BILL_AMT1</th>\n",
       "      <td>0.018598</td>\n",
       "      <td>0.288404</td>\n",
       "      <td>-0.031540</td>\n",
       "      <td>0.021215</td>\n",
       "      <td>-0.022290</td>\n",
       "      <td>0.059214</td>\n",
       "      <td>0.184029</td>\n",
       "      <td>0.232364</td>\n",
       "      <td>0.206816</td>\n",
       "      <td>0.198909</td>\n",
       "      <td>...</td>\n",
       "      <td>0.858832</td>\n",
       "      <td>0.829695</td>\n",
       "      <td>0.801361</td>\n",
       "      <td>0.139447</td>\n",
       "      <td>0.093575</td>\n",
       "      <td>0.165032</td>\n",
       "      <td>0.161180</td>\n",
       "      <td>0.164219</td>\n",
       "      <td>0.182838</td>\n",
       "      <td>-0.022416</td>\n",
       "    </tr>\n",
       "    <tr>\n",
       "      <th>BILL_AMT2</th>\n",
       "      <td>0.017967</td>\n",
       "      <td>0.280328</td>\n",
       "      <td>-0.027293</td>\n",
       "      <td>0.016325</td>\n",
       "      <td>-0.019196</td>\n",
       "      <td>0.056943</td>\n",
       "      <td>0.187701</td>\n",
       "      <td>0.233724</td>\n",
       "      <td>0.237355</td>\n",
       "      <td>0.222547</td>\n",
       "      <td>...</td>\n",
       "      <td>0.890929</td>\n",
       "      <td>0.859613</td>\n",
       "      <td>0.829653</td>\n",
       "      <td>0.273752</td>\n",
       "      <td>0.096018</td>\n",
       "      <td>0.155796</td>\n",
       "      <td>0.147555</td>\n",
       "      <td>0.145297</td>\n",
       "      <td>0.168251</td>\n",
       "      <td>-0.017560</td>\n",
       "    </tr>\n",
       "    <tr>\n",
       "      <th>BILL_AMT3</th>\n",
       "      <td>0.024852</td>\n",
       "      <td>0.284601</td>\n",
       "      <td>-0.021352</td>\n",
       "      <td>0.009028</td>\n",
       "      <td>-0.023876</td>\n",
       "      <td>0.056335</td>\n",
       "      <td>0.177985</td>\n",
       "      <td>0.222520</td>\n",
       "      <td>0.226697</td>\n",
       "      <td>0.239883</td>\n",
       "      <td>...</td>\n",
       "      <td>0.918404</td>\n",
       "      <td>0.879078</td>\n",
       "      <td>0.850138</td>\n",
       "      <td>0.236808</td>\n",
       "      <td>0.325330</td>\n",
       "      <td>0.131932</td>\n",
       "      <td>0.141395</td>\n",
       "      <td>0.179518</td>\n",
       "      <td>0.173590</td>\n",
       "      <td>-0.016492</td>\n",
       "    </tr>\n",
       "    <tr>\n",
       "      <th>BILL_AMT4</th>\n",
       "      <td>0.040445</td>\n",
       "      <td>0.296802</td>\n",
       "      <td>-0.018504</td>\n",
       "      <td>-0.003073</td>\n",
       "      <td>-0.022714</td>\n",
       "      <td>0.054655</td>\n",
       "      <td>0.178390</td>\n",
       "      <td>0.221048</td>\n",
       "      <td>0.227862</td>\n",
       "      <td>0.241744</td>\n",
       "      <td>...</td>\n",
       "      <td>1.000000</td>\n",
       "      <td>0.938660</td>\n",
       "      <td>0.898563</td>\n",
       "      <td>0.227331</td>\n",
       "      <td>0.195087</td>\n",
       "      <td>0.303912</td>\n",
       "      <td>0.124666</td>\n",
       "      <td>0.156893</td>\n",
       "      <td>0.175033</td>\n",
       "      <td>-0.011950</td>\n",
       "    </tr>\n",
       "    <tr>\n",
       "      <th>BILL_AMT5</th>\n",
       "      <td>0.014561</td>\n",
       "      <td>0.297724</td>\n",
       "      <td>-0.013550</td>\n",
       "      <td>-0.010534</td>\n",
       "      <td>-0.024986</td>\n",
       "      <td>0.052166</td>\n",
       "      <td>0.179302</td>\n",
       "      <td>0.219274</td>\n",
       "      <td>0.224724</td>\n",
       "      <td>0.238864</td>\n",
       "      <td>...</td>\n",
       "      <td>0.938660</td>\n",
       "      <td>1.000000</td>\n",
       "      <td>0.944550</td>\n",
       "      <td>0.211176</td>\n",
       "      <td>0.169601</td>\n",
       "      <td>0.252836</td>\n",
       "      <td>0.295449</td>\n",
       "      <td>0.140466</td>\n",
       "      <td>0.166508</td>\n",
       "      <td>-0.008348</td>\n",
       "    </tr>\n",
       "    <tr>\n",
       "      <th>BILL_AMT6</th>\n",
       "      <td>0.013504</td>\n",
       "      <td>0.295940</td>\n",
       "      <td>-0.012594</td>\n",
       "      <td>-0.013315</td>\n",
       "      <td>-0.019434</td>\n",
       "      <td>0.050424</td>\n",
       "      <td>0.173822</td>\n",
       "      <td>0.215496</td>\n",
       "      <td>0.221091</td>\n",
       "      <td>0.234954</td>\n",
       "      <td>...</td>\n",
       "      <td>0.898563</td>\n",
       "      <td>0.944550</td>\n",
       "      <td>1.000000</td>\n",
       "      <td>0.197014</td>\n",
       "      <td>0.169914</td>\n",
       "      <td>0.233427</td>\n",
       "      <td>0.250665</td>\n",
       "      <td>0.316489</td>\n",
       "      <td>0.112150</td>\n",
       "      <td>-0.008881</td>\n",
       "    </tr>\n",
       "    <tr>\n",
       "      <th>PAY_AMT1</th>\n",
       "      <td>0.016750</td>\n",
       "      <td>0.196876</td>\n",
       "      <td>0.004450</td>\n",
       "      <td>-0.036129</td>\n",
       "      <td>-0.001623</td>\n",
       "      <td>0.029210</td>\n",
       "      <td>-0.079581</td>\n",
       "      <td>-0.081374</td>\n",
       "      <td>0.000089</td>\n",
       "      <td>-0.011784</td>\n",
       "      <td>...</td>\n",
       "      <td>0.227331</td>\n",
       "      <td>0.211176</td>\n",
       "      <td>0.197014</td>\n",
       "      <td>1.000000</td>\n",
       "      <td>0.321089</td>\n",
       "      <td>0.288808</td>\n",
       "      <td>0.214274</td>\n",
       "      <td>0.134727</td>\n",
       "      <td>0.161377</td>\n",
       "      <td>-0.077028</td>\n",
       "    </tr>\n",
       "    <tr>\n",
       "      <th>PAY_AMT2</th>\n",
       "      <td>0.013658</td>\n",
       "      <td>0.169897</td>\n",
       "      <td>-0.000705</td>\n",
       "      <td>-0.026821</td>\n",
       "      <td>-0.004439</td>\n",
       "      <td>0.017820</td>\n",
       "      <td>-0.064245</td>\n",
       "      <td>-0.054619</td>\n",
       "      <td>-0.064837</td>\n",
       "      <td>-0.006031</td>\n",
       "      <td>...</td>\n",
       "      <td>0.195087</td>\n",
       "      <td>0.169601</td>\n",
       "      <td>0.169914</td>\n",
       "      <td>0.321089</td>\n",
       "      <td>1.000000</td>\n",
       "      <td>0.256913</td>\n",
       "      <td>0.182361</td>\n",
       "      <td>0.186131</td>\n",
       "      <td>0.138780</td>\n",
       "      <td>-0.055426</td>\n",
       "    </tr>\n",
       "    <tr>\n",
       "      <th>PAY_AMT3</th>\n",
       "      <td>0.040111</td>\n",
       "      <td>0.212129</td>\n",
       "      <td>-0.010751</td>\n",
       "      <td>-0.039139</td>\n",
       "      <td>-0.004072</td>\n",
       "      <td>0.029517</td>\n",
       "      <td>-0.071717</td>\n",
       "      <td>-0.056648</td>\n",
       "      <td>-0.053851</td>\n",
       "      <td>-0.070417</td>\n",
       "      <td>...</td>\n",
       "      <td>0.303912</td>\n",
       "      <td>0.252836</td>\n",
       "      <td>0.233427</td>\n",
       "      <td>0.288808</td>\n",
       "      <td>0.256913</td>\n",
       "      <td>1.000000</td>\n",
       "      <td>0.232786</td>\n",
       "      <td>0.159113</td>\n",
       "      <td>0.162128</td>\n",
       "      <td>-0.056586</td>\n",
       "    </tr>\n",
       "    <tr>\n",
       "      <th>PAY_AMT4</th>\n",
       "      <td>0.012075</td>\n",
       "      <td>0.205036</td>\n",
       "      <td>-0.000063</td>\n",
       "      <td>-0.039043</td>\n",
       "      <td>-0.010559</td>\n",
       "      <td>0.019950</td>\n",
       "      <td>-0.065143</td>\n",
       "      <td>-0.051787</td>\n",
       "      <td>-0.049841</td>\n",
       "      <td>-0.044314</td>\n",
       "      <td>...</td>\n",
       "      <td>0.124666</td>\n",
       "      <td>0.295449</td>\n",
       "      <td>0.250665</td>\n",
       "      <td>0.214274</td>\n",
       "      <td>0.182361</td>\n",
       "      <td>0.232786</td>\n",
       "      <td>1.000000</td>\n",
       "      <td>0.148616</td>\n",
       "      <td>0.155812</td>\n",
       "      <td>-0.056013</td>\n",
       "    </tr>\n",
       "    <tr>\n",
       "      <th>PAY_AMT5</th>\n",
       "      <td>0.001877</td>\n",
       "      <td>0.221004</td>\n",
       "      <td>-0.001144</td>\n",
       "      <td>-0.040841</td>\n",
       "      <td>-0.001642</td>\n",
       "      <td>0.021261</td>\n",
       "      <td>-0.055788</td>\n",
       "      <td>-0.038298</td>\n",
       "      <td>-0.036368</td>\n",
       "      <td>-0.032875</td>\n",
       "      <td>...</td>\n",
       "      <td>0.156893</td>\n",
       "      <td>0.140466</td>\n",
       "      <td>0.316489</td>\n",
       "      <td>0.134727</td>\n",
       "      <td>0.186131</td>\n",
       "      <td>0.159113</td>\n",
       "      <td>0.148616</td>\n",
       "      <td>1.000000</td>\n",
       "      <td>0.140434</td>\n",
       "      <td>-0.059021</td>\n",
       "    </tr>\n",
       "    <tr>\n",
       "      <th>PAY_AMT6</th>\n",
       "      <td>0.010633</td>\n",
       "      <td>0.222441</td>\n",
       "      <td>-0.002116</td>\n",
       "      <td>-0.030491</td>\n",
       "      <td>-0.007345</td>\n",
       "      <td>0.020776</td>\n",
       "      <td>-0.064650</td>\n",
       "      <td>-0.041621</td>\n",
       "      <td>-0.043892</td>\n",
       "      <td>-0.032410</td>\n",
       "      <td>...</td>\n",
       "      <td>0.175033</td>\n",
       "      <td>0.166508</td>\n",
       "      <td>0.112150</td>\n",
       "      <td>0.161377</td>\n",
       "      <td>0.138780</td>\n",
       "      <td>0.162128</td>\n",
       "      <td>0.155812</td>\n",
       "      <td>0.140434</td>\n",
       "      <td>1.000000</td>\n",
       "      <td>-0.056016</td>\n",
       "    </tr>\n",
       "    <tr>\n",
       "      <th>default payment next month</th>\n",
       "      <td>-0.007630</td>\n",
       "      <td>-0.153535</td>\n",
       "      <td>-0.040038</td>\n",
       "      <td>0.027130</td>\n",
       "      <td>-0.024307</td>\n",
       "      <td>0.017133</td>\n",
       "      <td>0.325973</td>\n",
       "      <td>0.269000</td>\n",
       "      <td>0.242487</td>\n",
       "      <td>0.219906</td>\n",
       "      <td>...</td>\n",
       "      <td>-0.011950</td>\n",
       "      <td>-0.008348</td>\n",
       "      <td>-0.008881</td>\n",
       "      <td>-0.077028</td>\n",
       "      <td>-0.055426</td>\n",
       "      <td>-0.056586</td>\n",
       "      <td>-0.056013</td>\n",
       "      <td>-0.059021</td>\n",
       "      <td>-0.056016</td>\n",
       "      <td>1.000000</td>\n",
       "    </tr>\n",
       "  </tbody>\n",
       "</table>\n",
       "<p>25 rows × 25 columns</p>\n",
       "</div>"
      ],
      "text/plain": [
       "                                  ID  LIMIT_BAL       SEX  EDUCATION  \\\n",
       "ID                          1.000000   0.032610  0.018957   0.039278   \n",
       "LIMIT_BAL                   0.032610   1.000000  0.018571  -0.220663   \n",
       "SEX                         0.018957   0.018571  1.000000   0.008688   \n",
       "EDUCATION                   0.039278  -0.220663  0.008688   1.000000   \n",
       "MARRIAGE                   -0.031688  -0.109672 -0.024837  -0.141933   \n",
       "AGE                         0.018289   0.146001 -0.097136   0.172259   \n",
       "PAY_0                      -0.029513  -0.271605 -0.053006   0.108072   \n",
       "PAY_2                      -0.008214  -0.296810 -0.067987   0.125065   \n",
       "PAY_3                      -0.016205  -0.287380 -0.061715   0.123786   \n",
       "PAY_4                       0.000544  -0.269652 -0.055444   0.117538   \n",
       "PAY_5                      -0.021376  -0.251815 -0.053708   0.104658   \n",
       "PAY_6                      -0.017546  -0.234319 -0.043089   0.087946   \n",
       "BILL_AMT1                   0.018598   0.288404 -0.031540   0.021215   \n",
       "BILL_AMT2                   0.017967   0.280328 -0.027293   0.016325   \n",
       "BILL_AMT3                   0.024852   0.284601 -0.021352   0.009028   \n",
       "BILL_AMT4                   0.040445   0.296802 -0.018504  -0.003073   \n",
       "BILL_AMT5                   0.014561   0.297724 -0.013550  -0.010534   \n",
       "BILL_AMT6                   0.013504   0.295940 -0.012594  -0.013315   \n",
       "PAY_AMT1                    0.016750   0.196876  0.004450  -0.036129   \n",
       "PAY_AMT2                    0.013658   0.169897 -0.000705  -0.026821   \n",
       "PAY_AMT3                    0.040111   0.212129 -0.010751  -0.039139   \n",
       "PAY_AMT4                    0.012075   0.205036 -0.000063  -0.039043   \n",
       "PAY_AMT5                    0.001877   0.221004 -0.001144  -0.040841   \n",
       "PAY_AMT6                    0.010633   0.222441 -0.002116  -0.030491   \n",
       "default payment next month -0.007630  -0.153535 -0.040038   0.027130   \n",
       "\n",
       "                            MARRIAGE       AGE     PAY_0     PAY_2     PAY_3  \\\n",
       "ID                         -0.031688  0.018289 -0.029513 -0.008214 -0.016205   \n",
       "LIMIT_BAL                  -0.109672  0.146001 -0.271605 -0.296810 -0.287380   \n",
       "SEX                        -0.024837 -0.097136 -0.053006 -0.067987 -0.061715   \n",
       "EDUCATION                  -0.141933  0.172259  0.108072  0.125065  0.123786   \n",
       "MARRIAGE                    1.000000 -0.419504  0.025927  0.026905  0.039411   \n",
       "AGE                        -0.419504  1.000000 -0.039554 -0.047436 -0.056951   \n",
       "PAY_0                       0.025927 -0.039554  1.000000  0.672642  0.579143   \n",
       "PAY_2                       0.026905 -0.047436  0.672642  1.000000  0.767124   \n",
       "PAY_3                       0.039411 -0.056951  0.579143  0.767124  1.000000   \n",
       "PAY_4                       0.040992 -0.053574  0.543287  0.661142  0.774519   \n",
       "PAY_5                       0.043263 -0.057264  0.512572  0.623893  0.688616   \n",
       "PAY_6                       0.040862 -0.048236  0.472675  0.572418  0.633594   \n",
       "BILL_AMT1                  -0.022290  0.059214  0.184029  0.232364  0.206816   \n",
       "BILL_AMT2                  -0.019196  0.056943  0.187701  0.233724  0.237355   \n",
       "BILL_AMT3                  -0.023876  0.056335  0.177985  0.222520  0.226697   \n",
       "BILL_AMT4                  -0.022714  0.054655  0.178390  0.221048  0.227862   \n",
       "BILL_AMT5                  -0.024986  0.052166  0.179302  0.219274  0.224724   \n",
       "BILL_AMT6                  -0.019434  0.050424  0.173822  0.215496  0.221091   \n",
       "PAY_AMT1                   -0.001623  0.029210 -0.079581 -0.081374  0.000089   \n",
       "PAY_AMT2                   -0.004439  0.017820 -0.064245 -0.054619 -0.064837   \n",
       "PAY_AMT3                   -0.004072  0.029517 -0.071717 -0.056648 -0.053851   \n",
       "PAY_AMT4                   -0.010559  0.019950 -0.065143 -0.051787 -0.049841   \n",
       "PAY_AMT5                   -0.001642  0.021261 -0.055788 -0.038298 -0.036368   \n",
       "PAY_AMT6                   -0.007345  0.020776 -0.064650 -0.041621 -0.043892   \n",
       "default payment next month -0.024307  0.017133  0.325973  0.269000  0.242487   \n",
       "\n",
       "                               PAY_4  ...  BILL_AMT4  BILL_AMT5  BILL_AMT6  \\\n",
       "ID                          0.000544  ...   0.040445   0.014561   0.013504   \n",
       "LIMIT_BAL                  -0.269652  ...   0.296802   0.297724   0.295940   \n",
       "SEX                        -0.055444  ...  -0.018504  -0.013550  -0.012594   \n",
       "EDUCATION                   0.117538  ...  -0.003073  -0.010534  -0.013315   \n",
       "MARRIAGE                    0.040992  ...  -0.022714  -0.024986  -0.019434   \n",
       "AGE                        -0.053574  ...   0.054655   0.052166   0.050424   \n",
       "PAY_0                       0.543287  ...   0.178390   0.179302   0.173822   \n",
       "PAY_2                       0.661142  ...   0.221048   0.219274   0.215496   \n",
       "PAY_3                       0.774519  ...   0.227862   0.224724   0.221091   \n",
       "PAY_4                       1.000000  ...   0.241744   0.238864   0.234954   \n",
       "PAY_5                       0.821365  ...   0.267338   0.265891   0.257146   \n",
       "PAY_6                       0.717748  ...   0.266560   0.291181   0.284136   \n",
       "BILL_AMT1                   0.198909  ...   0.858832   0.829695   0.801361   \n",
       "BILL_AMT2                   0.222547  ...   0.890929   0.859613   0.829653   \n",
       "BILL_AMT3                   0.239883  ...   0.918404   0.879078   0.850138   \n",
       "BILL_AMT4                   0.241744  ...   1.000000   0.938660   0.898563   \n",
       "BILL_AMT5                   0.238864  ...   0.938660   1.000000   0.944550   \n",
       "BILL_AMT6                   0.234954  ...   0.898563   0.944550   1.000000   \n",
       "PAY_AMT1                   -0.011784  ...   0.227331   0.211176   0.197014   \n",
       "PAY_AMT2                   -0.006031  ...   0.195087   0.169601   0.169914   \n",
       "PAY_AMT3                   -0.070417  ...   0.303912   0.252836   0.233427   \n",
       "PAY_AMT4                   -0.044314  ...   0.124666   0.295449   0.250665   \n",
       "PAY_AMT5                   -0.032875  ...   0.156893   0.140466   0.316489   \n",
       "PAY_AMT6                   -0.032410  ...   0.175033   0.166508   0.112150   \n",
       "default payment next month  0.219906  ...  -0.011950  -0.008348  -0.008881   \n",
       "\n",
       "                            PAY_AMT1  PAY_AMT2  PAY_AMT3  PAY_AMT4  PAY_AMT5  \\\n",
       "ID                          0.016750  0.013658  0.040111  0.012075  0.001877   \n",
       "LIMIT_BAL                   0.196876  0.169897  0.212129  0.205036  0.221004   \n",
       "SEX                         0.004450 -0.000705 -0.010751 -0.000063 -0.001144   \n",
       "EDUCATION                  -0.036129 -0.026821 -0.039139 -0.039043 -0.040841   \n",
       "MARRIAGE                   -0.001623 -0.004439 -0.004072 -0.010559 -0.001642   \n",
       "AGE                         0.029210  0.017820  0.029517  0.019950  0.021261   \n",
       "PAY_0                      -0.079581 -0.064245 -0.071717 -0.065143 -0.055788   \n",
       "PAY_2                      -0.081374 -0.054619 -0.056648 -0.051787 -0.038298   \n",
       "PAY_3                       0.000089 -0.064837 -0.053851 -0.049841 -0.036368   \n",
       "PAY_4                      -0.011784 -0.006031 -0.070417 -0.044314 -0.032875   \n",
       "PAY_5                      -0.008885 -0.006233  0.004408 -0.059075 -0.035720   \n",
       "PAY_6                      -0.000722 -0.005331  0.003301  0.017478 -0.044016   \n",
       "BILL_AMT1                   0.139447  0.093575  0.165032  0.161180  0.164219   \n",
       "BILL_AMT2                   0.273752  0.096018  0.155796  0.147555  0.145297   \n",
       "BILL_AMT3                   0.236808  0.325330  0.131932  0.141395  0.179518   \n",
       "BILL_AMT4                   0.227331  0.195087  0.303912  0.124666  0.156893   \n",
       "BILL_AMT5                   0.211176  0.169601  0.252836  0.295449  0.140466   \n",
       "BILL_AMT6                   0.197014  0.169914  0.233427  0.250665  0.316489   \n",
       "PAY_AMT1                    1.000000  0.321089  0.288808  0.214274  0.134727   \n",
       "PAY_AMT2                    0.321089  1.000000  0.256913  0.182361  0.186131   \n",
       "PAY_AMT3                    0.288808  0.256913  1.000000  0.232786  0.159113   \n",
       "PAY_AMT4                    0.214274  0.182361  0.232786  1.000000  0.148616   \n",
       "PAY_AMT5                    0.134727  0.186131  0.159113  0.148616  1.000000   \n",
       "PAY_AMT6                    0.161377  0.138780  0.162128  0.155812  0.140434   \n",
       "default payment next month -0.077028 -0.055426 -0.056586 -0.056013 -0.059021   \n",
       "\n",
       "                            PAY_AMT6  default payment next month  \n",
       "ID                          0.010633                   -0.007630  \n",
       "LIMIT_BAL                   0.222441                   -0.153535  \n",
       "SEX                        -0.002116                   -0.040038  \n",
       "EDUCATION                  -0.030491                    0.027130  \n",
       "MARRIAGE                   -0.007345                   -0.024307  \n",
       "AGE                         0.020776                    0.017133  \n",
       "PAY_0                      -0.064650                    0.325973  \n",
       "PAY_2                      -0.041621                    0.269000  \n",
       "PAY_3                      -0.043892                    0.242487  \n",
       "PAY_4                      -0.032410                    0.219906  \n",
       "PAY_5                      -0.027778                    0.204999  \n",
       "PAY_6                      -0.025495                    0.184944  \n",
       "BILL_AMT1                   0.182838                   -0.022416  \n",
       "BILL_AMT2                   0.168251                   -0.017560  \n",
       "BILL_AMT3                   0.173590                   -0.016492  \n",
       "BILL_AMT4                   0.175033                   -0.011950  \n",
       "BILL_AMT5                   0.166508                   -0.008348  \n",
       "BILL_AMT6                   0.112150                   -0.008881  \n",
       "PAY_AMT1                    0.161377                   -0.077028  \n",
       "PAY_AMT2                    0.138780                   -0.055426  \n",
       "PAY_AMT3                    0.162128                   -0.056586  \n",
       "PAY_AMT4                    0.155812                   -0.056013  \n",
       "PAY_AMT5                    0.140434                   -0.059021  \n",
       "PAY_AMT6                    1.000000                   -0.056016  \n",
       "default payment next month -0.056016                    1.000000  \n",
       "\n",
       "[25 rows x 25 columns]"
      ]
     },
     "execution_count": 43,
     "metadata": {},
     "output_type": "execute_result"
    }
   ],
   "source": [
    "train.corr()"
   ]
  },
  {
   "cell_type": "code",
   "execution_count": 44,
   "metadata": {},
   "outputs": [
    {
     "data": {
      "text/plain": [
       "ID                           -0.007630\n",
       "LIMIT_BAL                    -0.153535\n",
       "SEX                          -0.040038\n",
       "EDUCATION                     0.027130\n",
       "MARRIAGE                     -0.024307\n",
       "AGE                           0.017133\n",
       "PAY_0                         0.325973\n",
       "PAY_2                         0.269000\n",
       "PAY_3                         0.242487\n",
       "PAY_4                         0.219906\n",
       "PAY_5                         0.204999\n",
       "PAY_6                         0.184944\n",
       "BILL_AMT1                    -0.022416\n",
       "BILL_AMT2                    -0.017560\n",
       "BILL_AMT3                    -0.016492\n",
       "BILL_AMT4                    -0.011950\n",
       "BILL_AMT5                    -0.008348\n",
       "BILL_AMT6                    -0.008881\n",
       "PAY_AMT1                     -0.077028\n",
       "PAY_AMT2                     -0.055426\n",
       "PAY_AMT3                     -0.056586\n",
       "PAY_AMT4                     -0.056013\n",
       "PAY_AMT5                     -0.059021\n",
       "PAY_AMT6                     -0.056016\n",
       "default payment next month    1.000000\n",
       "Name: default payment next month, dtype: float64"
      ]
     },
     "execution_count": 44,
     "metadata": {},
     "output_type": "execute_result"
    }
   ],
   "source": [
    "train.corr()['default payment next month']"
   ]
  },
  {
   "cell_type": "code",
   "execution_count": 45,
   "metadata": {},
   "outputs": [],
   "source": [
    "dict_to_data = {'min' :[min(train.LIMIT_BAL),\n",
    "min(train.SEX),\n",
    "min(train.EDUCATION),\n",
    "min(train.MARRIAGE),\n",
    "min(train.AGE),                        \n",
    "min(train.PAY_0),\n",
    "min(train.PAY_2),\n",
    "min(train.PAY_3),\n",
    "min(train.PAY_4),\n",
    "min(train.PAY_5),\n",
    "min(train.PAY_6),\n",
    "min(train.BILL_AMT1),\n",
    "min(train.BILL_AMT2),\n",
    "min(train.BILL_AMT3),\n",
    "min(train.BILL_AMT4),\n",
    "min(train.BILL_AMT5),\n",
    "min(train.BILL_AMT6),\n",
    "min(train.PAY_AMT1),\n",
    "min(train.PAY_AMT2),\n",
    "min(train.PAY_AMT3),\n",
    "min(train.PAY_AMT4),\n",
    "min(train.PAY_AMT5),\n",
    "min(train.PAY_AMT6),\n",
    "min(train['default payment next month'])],\n",
    "'25 percent': [np.percentile(train.LIMIT_BAL, 25),\n",
    "np.percentile(train.SEX, 25),\n",
    "np.percentile(train.EDUCATION, 25),\n",
    "np.percentile(train.AGE, 25),               \n",
    "np.percentile(train.MARRIAGE, 25), \n",
    "np.percentile(train.PAY_0, 25),\n",
    "np.percentile(train.PAY_2, 25),\n",
    "np.percentile(train.PAY_3, 25),\n",
    "np.percentile(train.PAY_4, 25),\n",
    "np.percentile(train.PAY_5, 25),\n",
    "np.percentile(train.PAY_6, 25), \n",
    "np.percentile(train.BILL_AMT1, 25),\n",
    "np.percentile(train.BILL_AMT2, 25),               \n",
    "np.percentile(train.BILL_AMT3, 25),\n",
    "np.percentile(train.BILL_AMT4, 25),\n",
    "np.percentile(train.BILL_AMT5, 25),\n",
    "np.percentile(train.BILL_AMT6, 25), \n",
    "np.percentile(train.PAY_AMT1, 25),\n",
    "np.percentile(train.PAY_AMT2, 25),\n",
    "np.percentile(train.PAY_AMT3, 25),\n",
    "np.percentile(train.PAY_AMT4, 25),\n",
    "np.percentile(train.PAY_AMT5, 25),\n",
    "np.percentile(train.PAY_AMT6, 25), \n",
    "np.percentile(train['default payment next month'], 25)],\n",
    "'median': [np.median(train.LIMIT_BAL),\n",
    "np.median(train.SEX),\n",
    "np.median(train.EDUCATION),\n",
    "np.median(train.MARRIAGE),\n",
    "np.median(train.AGE),           \n",
    "np.median(train.PAY_0),\n",
    "np.median(train.PAY_2),\n",
    "np.median(train.PAY_3),\n",
    "np.median(train.PAY_4),\n",
    "np.median(train.PAY_5),\n",
    "np.median(train.PAY_6),\n",
    "np.median(train.BILL_AMT1),\n",
    "np.median(train.BILL_AMT2),\n",
    "np.median(train.BILL_AMT3),\n",
    "np.median(train.BILL_AMT4),\n",
    "np.median(train.BILL_AMT5),\n",
    "np.median(train.BILL_AMT6),\n",
    "np.median(train.PAY_AMT1),\n",
    "np.median(train.PAY_AMT2),\n",
    "np.median(train.PAY_AMT3),\n",
    "np.median(train.PAY_AMT4),\n",
    "np.median(train.PAY_AMT5),\n",
    "np.median(train.PAY_AMT6),\n",
    "np.median(train['default payment next month'])],\n",
    "'mean': [np.mean(train.LIMIT_BAL),\n",
    "np.mean(train.SEX),\n",
    "np.mean(train.EDUCATION),\n",
    "np.mean(train.MARRIAGE),\n",
    "np.mean(train.AGE),         \n",
    "np.mean(train.PAY_0),\n",
    "np.mean(train.PAY_2),\n",
    "np.mean(train.PAY_3),\n",
    "np.mean(train.PAY_4),\n",
    "np.mean(train.PAY_5),\n",
    "np.mean(train.PAY_6),\n",
    "np.mean(train.BILL_AMT1),\n",
    "np.mean(train.BILL_AMT2),\n",
    "np.mean(train.BILL_AMT3),\n",
    "np.mean(train.BILL_AMT4),\n",
    "np.mean(train.BILL_AMT5),\n",
    "np.mean(train.BILL_AMT6),\n",
    "np.mean(train.PAY_AMT1),\n",
    "np.mean(train.PAY_AMT2),\n",
    "np.mean(train.PAY_AMT3),\n",
    "np.mean(train.PAY_AMT4),\n",
    "np.mean(train.PAY_AMT5),\n",
    "np.mean(train.PAY_AMT6),\n",
    "np.mean(train['default payment next month'])],\n",
    "'75 percent': [np.percentile(train.LIMIT_BAL, 25),\n",
    "np.percentile(train.SEX, 75),\n",
    "np.percentile(train.EDUCATION, 75),\n",
    "np.percentile(train.MARRIAGE, 75),\n",
    "np.percentile(train.AGE, 75),               \n",
    "np.percentile(train.PAY_0, 75),\n",
    "np.percentile(train.PAY_2, 75),\n",
    "np.percentile(train.PAY_3, 75),\n",
    "np.percentile(train.PAY_4, 75),\n",
    "np.percentile(train.PAY_5, 75),\n",
    "np.percentile(train.PAY_6, 75), \n",
    "np.percentile(train.BILL_AMT1, 75),\n",
    "np.percentile(train.BILL_AMT2, 75),               \n",
    "np.percentile(train.BILL_AMT3, 75),\n",
    "np.percentile(train.BILL_AMT4, 75),\n",
    "np.percentile(train.BILL_AMT5, 75),\n",
    "np.percentile(train.BILL_AMT6, 75), \n",
    "np.percentile(train.PAY_AMT1, 75),\n",
    "np.percentile(train.PAY_AMT2, 75),\n",
    "np.percentile(train.PAY_AMT3, 75),\n",
    "np.percentile(train.PAY_AMT4, 75),\n",
    "np.percentile(train.PAY_AMT5, 75),\n",
    "np.percentile(train.PAY_AMT6, 75), \n",
    "np.percentile(train['default payment next month'], 75)],                \n",
    "'max': [max(train.LIMIT_BAL),\n",
    "max(train.SEX),\n",
    "max(train.EDUCATION),\n",
    "max(train.MARRIAGE),\n",
    "max(train.AGE),        \n",
    "max(train.PAY_0),\n",
    "max(train.PAY_2),\n",
    "max(train.PAY_3),\n",
    "max(train.PAY_4),\n",
    "max(train.PAY_5),\n",
    "max(train.PAY_6),\n",
    "max(train.BILL_AMT1),\n",
    "max(train.BILL_AMT2),\n",
    "max(train.BILL_AMT3),\n",
    "max(train.BILL_AMT4),\n",
    "max(train.BILL_AMT5),\n",
    "max(train.BILL_AMT6),\n",
    "max(train.PAY_AMT1),\n",
    "max(train.PAY_AMT2),\n",
    "max(train.PAY_AMT3),\n",
    "max(train.PAY_AMT4),\n",
    "max(train.PAY_AMT5),\n",
    "max(train.PAY_AMT6),\n",
    "max(train['default payment next month'])],\n",
    "'STD': [np.std(train.LIMIT_BAL),\n",
    "np.std(train.SEX),\n",
    "np.std(train.EDUCATION),\n",
    "np.std(train.MARRIAGE),\n",
    "np.std(train.AGE),        \n",
    "np.std(train.PAY_0),\n",
    "np.std(train.PAY_2),\n",
    "np.std(train.PAY_3),\n",
    "np.std(train.PAY_4),\n",
    "np.std(train.PAY_5),\n",
    "np.std(train.PAY_6), \n",
    "np.std(train.BILL_AMT1),\n",
    "np.std(train.BILL_AMT2),               \n",
    "np.std(train.BILL_AMT3),\n",
    "np.std(train.BILL_AMT4),\n",
    "np.std(train.BILL_AMT5),\n",
    "np.std(train.BILL_AMT6), \n",
    "np.std(train.PAY_AMT1),\n",
    "np.std(train.PAY_AMT2),\n",
    "np.std(train.PAY_AMT3),\n",
    "np.std(train.PAY_AMT4),\n",
    "np.std(train.PAY_AMT5),\n",
    "np.std(train.PAY_AMT6), \n",
    "np.std(train['default payment next month'])]}\n",
    "\n",
    "      \n"
   ]
  },
  {
   "cell_type": "code",
   "execution_count": null,
   "metadata": {},
   "outputs": [],
   "source": []
  },
  {
   "cell_type": "code",
   "execution_count": 46,
   "metadata": {},
   "outputs": [
    {
     "name": "stdout",
     "output_type": "stream",
     "text": [
      "{'min': [10000, 1, 0, 0, 21, -2, -2, -2, -2, -2, -2, -165580, -69777, -157264, -170000, -81334, -339603, 0, 0, 0, 0, 0, 0, 0], '25 percent': [50000.0, 1.0, 1.0, 28.0, 1.0, -1.0, -1.0, -1.0, -1.0, -1.0, -1.0, 3591.75, 3006.0, 2753.75, 2400.0, 1781.75, 1255.75, 1000.0, 850.0, 390.0, 284.0, 249.0, 103.5, 0.0], 'median': [140000.0, 2.0, 2.0, 2.0, 34.0, 0.0, 0.0, 0.0, 0.0, 0.0, 0.0, 22120.5, 21023.0, 20024.5, 18971.5, 18030.5, 16970.0, 2100.0, 2010.0, 1800.0, 1500.0, 1500.0, 1500.0, 0.0], 'mean': [167018.38095238095, 1.6017619047619047, 1.854095238095238, 1.5507619047619048, 35.48290476190476, -0.02023809523809524, -0.1362857142857143, -0.17142857142857143, -0.21971428571428572, -0.26361904761904764, -0.29114285714285715, 50940.93709523809, 48909.735857142856, 46720.199238095236, 43068.05033333333, 40188.874142857145, 38866.11004761905, 5632.960761904762, 6031.275619047619, 5281.131809523809, 4887.085761904762, 4891.594904761905, 5149.989047619048, 0.22180952380952382], '75 percent': [50000.0, 2.0, 2.0, 2.0, 41.0, 0.0, 0.0, 0.0, 0.0, 0.0, 0.0, 66651.5, 63343.25, 59510.5, 53600.5, 49881.0, 49045.75, 5003.0, 5000.0, 4500.0, 4005.0, 4030.25, 4000.0, 0.0], 'max': [1000000, 2, 6, 3, 79, 8, 8, 8, 7, 7, 8, 964511, 983931, 1664089, 891586, 927171, 961664, 873552, 1684259, 896040, 621000, 426529, 528666, 1], 'STD': [130104.24847661472, 0.4895349984824703, 0.7926732290626778, 0.5208001083279891, 9.242592562514478, 1.1217418175388396, 1.1972180110516197, 1.194209384664776, 1.169294420655742, 1.1349555257151107, 1.1509406623119298, 73599.33628150748, 71026.34906566388, 69465.04499320292, 64307.000059410384, 60812.92790084093, 59930.51319129998, 16312.676184366414, 25374.44592112919, 18433.802989891166, 16416.49376047841, 16160.720368389286, 17447.056824037434, 0.4154636674330782]}\n"
     ]
    }
   ],
   "source": [
    "print(dict_to_data)"
   ]
  },
  {
   "cell_type": "code",
   "execution_count": 47,
   "metadata": {},
   "outputs": [],
   "source": [
    "new_dataframe = pd.DataFrame.from_dict(dict_to_data)"
   ]
  },
  {
   "cell_type": "code",
   "execution_count": 48,
   "metadata": {},
   "outputs": [
    {
     "data": {
      "text/html": [
       "<div>\n",
       "<style scoped>\n",
       "    .dataframe tbody tr th:only-of-type {\n",
       "        vertical-align: middle;\n",
       "    }\n",
       "\n",
       "    .dataframe tbody tr th {\n",
       "        vertical-align: top;\n",
       "    }\n",
       "\n",
       "    .dataframe thead th {\n",
       "        text-align: right;\n",
       "    }\n",
       "</style>\n",
       "<table border=\"1\" class=\"dataframe\">\n",
       "  <thead>\n",
       "    <tr style=\"text-align: right;\">\n",
       "      <th></th>\n",
       "      <th>min</th>\n",
       "      <th>25 percent</th>\n",
       "      <th>median</th>\n",
       "      <th>mean</th>\n",
       "      <th>75 percent</th>\n",
       "      <th>max</th>\n",
       "      <th>STD</th>\n",
       "    </tr>\n",
       "  </thead>\n",
       "  <tbody>\n",
       "    <tr>\n",
       "      <th>0</th>\n",
       "      <td>10000</td>\n",
       "      <td>50000.00</td>\n",
       "      <td>140000.0</td>\n",
       "      <td>167018.380952</td>\n",
       "      <td>50000.00</td>\n",
       "      <td>1000000</td>\n",
       "      <td>130104.248477</td>\n",
       "    </tr>\n",
       "    <tr>\n",
       "      <th>1</th>\n",
       "      <td>1</td>\n",
       "      <td>1.00</td>\n",
       "      <td>2.0</td>\n",
       "      <td>1.601762</td>\n",
       "      <td>2.00</td>\n",
       "      <td>2</td>\n",
       "      <td>0.489535</td>\n",
       "    </tr>\n",
       "    <tr>\n",
       "      <th>2</th>\n",
       "      <td>0</td>\n",
       "      <td>1.00</td>\n",
       "      <td>2.0</td>\n",
       "      <td>1.854095</td>\n",
       "      <td>2.00</td>\n",
       "      <td>6</td>\n",
       "      <td>0.792673</td>\n",
       "    </tr>\n",
       "    <tr>\n",
       "      <th>3</th>\n",
       "      <td>0</td>\n",
       "      <td>28.00</td>\n",
       "      <td>2.0</td>\n",
       "      <td>1.550762</td>\n",
       "      <td>2.00</td>\n",
       "      <td>3</td>\n",
       "      <td>0.520800</td>\n",
       "    </tr>\n",
       "    <tr>\n",
       "      <th>4</th>\n",
       "      <td>21</td>\n",
       "      <td>1.00</td>\n",
       "      <td>34.0</td>\n",
       "      <td>35.482905</td>\n",
       "      <td>41.00</td>\n",
       "      <td>79</td>\n",
       "      <td>9.242593</td>\n",
       "    </tr>\n",
       "    <tr>\n",
       "      <th>5</th>\n",
       "      <td>-2</td>\n",
       "      <td>-1.00</td>\n",
       "      <td>0.0</td>\n",
       "      <td>-0.020238</td>\n",
       "      <td>0.00</td>\n",
       "      <td>8</td>\n",
       "      <td>1.121742</td>\n",
       "    </tr>\n",
       "    <tr>\n",
       "      <th>6</th>\n",
       "      <td>-2</td>\n",
       "      <td>-1.00</td>\n",
       "      <td>0.0</td>\n",
       "      <td>-0.136286</td>\n",
       "      <td>0.00</td>\n",
       "      <td>8</td>\n",
       "      <td>1.197218</td>\n",
       "    </tr>\n",
       "    <tr>\n",
       "      <th>7</th>\n",
       "      <td>-2</td>\n",
       "      <td>-1.00</td>\n",
       "      <td>0.0</td>\n",
       "      <td>-0.171429</td>\n",
       "      <td>0.00</td>\n",
       "      <td>8</td>\n",
       "      <td>1.194209</td>\n",
       "    </tr>\n",
       "    <tr>\n",
       "      <th>8</th>\n",
       "      <td>-2</td>\n",
       "      <td>-1.00</td>\n",
       "      <td>0.0</td>\n",
       "      <td>-0.219714</td>\n",
       "      <td>0.00</td>\n",
       "      <td>7</td>\n",
       "      <td>1.169294</td>\n",
       "    </tr>\n",
       "    <tr>\n",
       "      <th>9</th>\n",
       "      <td>-2</td>\n",
       "      <td>-1.00</td>\n",
       "      <td>0.0</td>\n",
       "      <td>-0.263619</td>\n",
       "      <td>0.00</td>\n",
       "      <td>7</td>\n",
       "      <td>1.134956</td>\n",
       "    </tr>\n",
       "    <tr>\n",
       "      <th>10</th>\n",
       "      <td>-2</td>\n",
       "      <td>-1.00</td>\n",
       "      <td>0.0</td>\n",
       "      <td>-0.291143</td>\n",
       "      <td>0.00</td>\n",
       "      <td>8</td>\n",
       "      <td>1.150941</td>\n",
       "    </tr>\n",
       "    <tr>\n",
       "      <th>11</th>\n",
       "      <td>-165580</td>\n",
       "      <td>3591.75</td>\n",
       "      <td>22120.5</td>\n",
       "      <td>50940.937095</td>\n",
       "      <td>66651.50</td>\n",
       "      <td>964511</td>\n",
       "      <td>73599.336282</td>\n",
       "    </tr>\n",
       "    <tr>\n",
       "      <th>12</th>\n",
       "      <td>-69777</td>\n",
       "      <td>3006.00</td>\n",
       "      <td>21023.0</td>\n",
       "      <td>48909.735857</td>\n",
       "      <td>63343.25</td>\n",
       "      <td>983931</td>\n",
       "      <td>71026.349066</td>\n",
       "    </tr>\n",
       "    <tr>\n",
       "      <th>13</th>\n",
       "      <td>-157264</td>\n",
       "      <td>2753.75</td>\n",
       "      <td>20024.5</td>\n",
       "      <td>46720.199238</td>\n",
       "      <td>59510.50</td>\n",
       "      <td>1664089</td>\n",
       "      <td>69465.044993</td>\n",
       "    </tr>\n",
       "    <tr>\n",
       "      <th>14</th>\n",
       "      <td>-170000</td>\n",
       "      <td>2400.00</td>\n",
       "      <td>18971.5</td>\n",
       "      <td>43068.050333</td>\n",
       "      <td>53600.50</td>\n",
       "      <td>891586</td>\n",
       "      <td>64307.000059</td>\n",
       "    </tr>\n",
       "    <tr>\n",
       "      <th>15</th>\n",
       "      <td>-81334</td>\n",
       "      <td>1781.75</td>\n",
       "      <td>18030.5</td>\n",
       "      <td>40188.874143</td>\n",
       "      <td>49881.00</td>\n",
       "      <td>927171</td>\n",
       "      <td>60812.927901</td>\n",
       "    </tr>\n",
       "    <tr>\n",
       "      <th>16</th>\n",
       "      <td>-339603</td>\n",
       "      <td>1255.75</td>\n",
       "      <td>16970.0</td>\n",
       "      <td>38866.110048</td>\n",
       "      <td>49045.75</td>\n",
       "      <td>961664</td>\n",
       "      <td>59930.513191</td>\n",
       "    </tr>\n",
       "    <tr>\n",
       "      <th>17</th>\n",
       "      <td>0</td>\n",
       "      <td>1000.00</td>\n",
       "      <td>2100.0</td>\n",
       "      <td>5632.960762</td>\n",
       "      <td>5003.00</td>\n",
       "      <td>873552</td>\n",
       "      <td>16312.676184</td>\n",
       "    </tr>\n",
       "    <tr>\n",
       "      <th>18</th>\n",
       "      <td>0</td>\n",
       "      <td>850.00</td>\n",
       "      <td>2010.0</td>\n",
       "      <td>6031.275619</td>\n",
       "      <td>5000.00</td>\n",
       "      <td>1684259</td>\n",
       "      <td>25374.445921</td>\n",
       "    </tr>\n",
       "    <tr>\n",
       "      <th>19</th>\n",
       "      <td>0</td>\n",
       "      <td>390.00</td>\n",
       "      <td>1800.0</td>\n",
       "      <td>5281.131810</td>\n",
       "      <td>4500.00</td>\n",
       "      <td>896040</td>\n",
       "      <td>18433.802990</td>\n",
       "    </tr>\n",
       "    <tr>\n",
       "      <th>20</th>\n",
       "      <td>0</td>\n",
       "      <td>284.00</td>\n",
       "      <td>1500.0</td>\n",
       "      <td>4887.085762</td>\n",
       "      <td>4005.00</td>\n",
       "      <td>621000</td>\n",
       "      <td>16416.493760</td>\n",
       "    </tr>\n",
       "    <tr>\n",
       "      <th>21</th>\n",
       "      <td>0</td>\n",
       "      <td>249.00</td>\n",
       "      <td>1500.0</td>\n",
       "      <td>4891.594905</td>\n",
       "      <td>4030.25</td>\n",
       "      <td>426529</td>\n",
       "      <td>16160.720368</td>\n",
       "    </tr>\n",
       "    <tr>\n",
       "      <th>22</th>\n",
       "      <td>0</td>\n",
       "      <td>103.50</td>\n",
       "      <td>1500.0</td>\n",
       "      <td>5149.989048</td>\n",
       "      <td>4000.00</td>\n",
       "      <td>528666</td>\n",
       "      <td>17447.056824</td>\n",
       "    </tr>\n",
       "    <tr>\n",
       "      <th>23</th>\n",
       "      <td>0</td>\n",
       "      <td>0.00</td>\n",
       "      <td>0.0</td>\n",
       "      <td>0.221810</td>\n",
       "      <td>0.00</td>\n",
       "      <td>1</td>\n",
       "      <td>0.415464</td>\n",
       "    </tr>\n",
       "  </tbody>\n",
       "</table>\n",
       "</div>"
      ],
      "text/plain": [
       "       min  25 percent    median           mean  75 percent      max  \\\n",
       "0    10000    50000.00  140000.0  167018.380952    50000.00  1000000   \n",
       "1        1        1.00       2.0       1.601762        2.00        2   \n",
       "2        0        1.00       2.0       1.854095        2.00        6   \n",
       "3        0       28.00       2.0       1.550762        2.00        3   \n",
       "4       21        1.00      34.0      35.482905       41.00       79   \n",
       "5       -2       -1.00       0.0      -0.020238        0.00        8   \n",
       "6       -2       -1.00       0.0      -0.136286        0.00        8   \n",
       "7       -2       -1.00       0.0      -0.171429        0.00        8   \n",
       "8       -2       -1.00       0.0      -0.219714        0.00        7   \n",
       "9       -2       -1.00       0.0      -0.263619        0.00        7   \n",
       "10      -2       -1.00       0.0      -0.291143        0.00        8   \n",
       "11 -165580     3591.75   22120.5   50940.937095    66651.50   964511   \n",
       "12  -69777     3006.00   21023.0   48909.735857    63343.25   983931   \n",
       "13 -157264     2753.75   20024.5   46720.199238    59510.50  1664089   \n",
       "14 -170000     2400.00   18971.5   43068.050333    53600.50   891586   \n",
       "15  -81334     1781.75   18030.5   40188.874143    49881.00   927171   \n",
       "16 -339603     1255.75   16970.0   38866.110048    49045.75   961664   \n",
       "17       0     1000.00    2100.0    5632.960762     5003.00   873552   \n",
       "18       0      850.00    2010.0    6031.275619     5000.00  1684259   \n",
       "19       0      390.00    1800.0    5281.131810     4500.00   896040   \n",
       "20       0      284.00    1500.0    4887.085762     4005.00   621000   \n",
       "21       0      249.00    1500.0    4891.594905     4030.25   426529   \n",
       "22       0      103.50    1500.0    5149.989048     4000.00   528666   \n",
       "23       0        0.00       0.0       0.221810        0.00        1   \n",
       "\n",
       "              STD  \n",
       "0   130104.248477  \n",
       "1        0.489535  \n",
       "2        0.792673  \n",
       "3        0.520800  \n",
       "4        9.242593  \n",
       "5        1.121742  \n",
       "6        1.197218  \n",
       "7        1.194209  \n",
       "8        1.169294  \n",
       "9        1.134956  \n",
       "10       1.150941  \n",
       "11   73599.336282  \n",
       "12   71026.349066  \n",
       "13   69465.044993  \n",
       "14   64307.000059  \n",
       "15   60812.927901  \n",
       "16   59930.513191  \n",
       "17   16312.676184  \n",
       "18   25374.445921  \n",
       "19   18433.802990  \n",
       "20   16416.493760  \n",
       "21   16160.720368  \n",
       "22   17447.056824  \n",
       "23       0.415464  "
      ]
     },
     "execution_count": 48,
     "metadata": {},
     "output_type": "execute_result"
    }
   ],
   "source": [
    "new_dataframe"
   ]
  },
  {
   "cell_type": "code",
   "execution_count": 49,
   "metadata": {},
   "outputs": [],
   "source": [
    "new_index = ['LIMIT_BAL', 'SEX', 'EDUCATION', 'MARRIAGE', 'AGE', 'PAY_0',\n",
    "       'PAY_2', 'PAY_3', 'PAY_4', 'PAY_5', 'PAY_6', 'BILL_AMT1', 'BILL_AMT2',\n",
    "       'BILL_AMT3', 'BILL_AMT4', 'BILL_AMT5', 'BILL_AMT6', 'PAY_AMT1',\n",
    "       'PAY_AMT2', 'PAY_AMT3', 'PAY_AMT4', 'PAY_AMT5', 'PAY_AMT6',\n",
    "       'DEFAULT PAYMENT NEXT MONTH']"
   ]
  },
  {
   "cell_type": "code",
   "execution_count": 50,
   "metadata": {},
   "outputs": [
    {
     "data": {
      "text/plain": [
       "129745.49908814814"
      ]
     },
     "execution_count": 50,
     "metadata": {},
     "output_type": "execute_result"
    }
   ],
   "source": [
    "np.std(df.LIMIT_BAL)"
   ]
  },
  {
   "cell_type": "code",
   "execution_count": 51,
   "metadata": {},
   "outputs": [],
   "source": [
    "new_dataframe.set_index(pd.Index(new_index), inplace= True)"
   ]
  },
  {
   "cell_type": "code",
   "execution_count": 52,
   "metadata": {},
   "outputs": [],
   "source": [
    "new_dataframe.to_excel('New Dataframe.xlsx')"
   ]
  },
  {
   "cell_type": "code",
   "execution_count": 53,
   "metadata": {},
   "outputs": [
    {
     "data": {
      "image/png": "[encoded data removed]",
      "text/plain": [
       "<Figure size 432x288 with 1 Axes>"
      ]
     },
     "metadata": {
      "needs_background": "light"
     },
     "output_type": "display_data"
    }
   ],
   "source": [
    "sns.distplot(train.AGE, kde = False, bins = 30)\n",
    "plt.ylabel('Frequency')\n",
    "plt.title('Histogram of Age Distribution')\n",
    "plt.savefig('histogram of ages')"
   ]
  },
  {
   "cell_type": "code",
   "execution_count": 54,
   "metadata": {},
   "outputs": [],
   "source": [
    "from sklearn.linear_model import LogisticRegression"
   ]
  },
  {
   "cell_type": "code",
   "execution_count": 55,
   "metadata": {},
   "outputs": [],
   "source": [
    "from sklearn.model_selection import train_test_split"
   ]
  },
  {
   "cell_type": "code",
   "execution_count": 56,
   "metadata": {},
   "outputs": [],
   "source": [
    "X = train[['PAY_0']].values"
   ]
  },
  {
   "cell_type": "code",
   "execution_count": 57,
   "metadata": {},
   "outputs": [
    {
     "data": {
      "text/plain": [
       "21000"
      ]
     },
     "execution_count": 57,
     "metadata": {},
     "output_type": "execute_result"
    }
   ],
   "source": [
    "len(X)"
   ]
  },
  {
   "cell_type": "code",
   "execution_count": 58,
   "metadata": {},
   "outputs": [],
   "source": [
    "y = train['default payment next month'].values"
   ]
  },
  {
   "cell_type": "code",
   "execution_count": 59,
   "metadata": {},
   "outputs": [
    {
     "data": {
      "text/plain": [
       "21000"
      ]
     },
     "execution_count": 59,
     "metadata": {},
     "output_type": "execute_result"
    }
   ],
   "source": [
    "len(y)"
   ]
  },
  {
   "cell_type": "code",
   "execution_count": null,
   "metadata": {},
   "outputs": [],
   "source": []
  },
  {
   "cell_type": "code",
   "execution_count": 60,
   "metadata": {},
   "outputs": [],
   "source": [
    "X_train, X_test, y_train, y_test = train_test_split(X, y, test_size=0.30, random_state=42)"
   ]
  },
  {
   "cell_type": "code",
   "execution_count": 61,
   "metadata": {},
   "outputs": [
    {
     "data": {
      "text/plain": [
       "14700"
      ]
     },
     "execution_count": 61,
     "metadata": {},
     "output_type": "execute_result"
    }
   ],
   "source": [
    "len(X_train)"
   ]
  },
  {
   "cell_type": "code",
   "execution_count": 62,
   "metadata": {},
   "outputs": [
    {
     "data": {
      "text/plain": [
       "6300"
      ]
     },
     "execution_count": 62,
     "metadata": {},
     "output_type": "execute_result"
    }
   ],
   "source": [
    "len(X_test)"
   ]
  },
  {
   "cell_type": "code",
   "execution_count": null,
   "metadata": {},
   "outputs": [],
   "source": []
  },
  {
   "cell_type": "code",
   "execution_count": 63,
   "metadata": {},
   "outputs": [
    {
     "data": {
      "text/plain": [
       "14700"
      ]
     },
     "execution_count": 63,
     "metadata": {},
     "output_type": "execute_result"
    }
   ],
   "source": [
    "len(X_train)"
   ]
  },
  {
   "cell_type": "code",
   "execution_count": 64,
   "metadata": {},
   "outputs": [],
   "source": [
    "X_train = X_train.reshape(-1,1)"
   ]
  },
  {
   "cell_type": "code",
   "execution_count": 65,
   "metadata": {},
   "outputs": [
    {
     "data": {
      "text/plain": [
       "(14700,)"
      ]
     },
     "execution_count": 65,
     "metadata": {},
     "output_type": "execute_result"
    }
   ],
   "source": [
    "y_train.shape"
   ]
  },
  {
   "cell_type": "code",
   "execution_count": 66,
   "metadata": {},
   "outputs": [
    {
     "data": {
      "text/plain": [
       "(14700, 1)"
      ]
     },
     "execution_count": 66,
     "metadata": {},
     "output_type": "execute_result"
    }
   ],
   "source": [
    "X_train.shape"
   ]
  },
  {
   "cell_type": "code",
   "execution_count": 67,
   "metadata": {},
   "outputs": [],
   "source": [
    "X_test = X_test.reshape(-1,1)"
   ]
  },
  {
   "cell_type": "code",
   "execution_count": 68,
   "metadata": {},
   "outputs": [],
   "source": [
    "model = LogisticRegression()"
   ]
  },
  {
   "cell_type": "code",
   "execution_count": 69,
   "metadata": {},
   "outputs": [
    {
     "data": {
      "text/plain": [
       "LogisticRegression(C=1.0, class_weight=None, dual=False, fit_intercept=True,\n",
       "                   intercept_scaling=1, l1_ratio=None, max_iter=100,\n",
       "                   multi_class='auto', n_jobs=None, penalty='l2',\n",
       "                   random_state=None, solver='lbfgs', tol=0.0001, verbose=0,\n",
       "                   warm_start=False)"
      ]
     },
     "execution_count": 69,
     "metadata": {},
     "output_type": "execute_result"
    }
   ],
   "source": [
    "model.fit(X_train, y_train)"
   ]
  },
  {
   "cell_type": "code",
   "execution_count": 70,
   "metadata": {},
   "outputs": [
    {
     "data": {
      "text/plain": [
       "0.8195238095238095"
      ]
     },
     "execution_count": 70,
     "metadata": {},
     "output_type": "execute_result"
    }
   ],
   "source": [
    "model.score(X_test,y_test)"
   ]
  },
  {
   "cell_type": "code",
   "execution_count": null,
   "metadata": {},
   "outputs": [],
   "source": []
  },
  {
   "cell_type": "code",
   "execution_count": 71,
   "metadata": {},
   "outputs": [
    {
     "data": {
      "text/plain": [
       "0    23364\n",
       "1     6636\n",
       "Name: default payment next month, dtype: int64"
      ]
     },
     "execution_count": 71,
     "metadata": {},
     "output_type": "execute_result"
    }
   ],
   "source": [
    "df['default payment next month'].value_counts()"
   ]
  },
  {
   "cell_type": "code",
   "execution_count": 72,
   "metadata": {},
   "outputs": [
    {
     "data": {
      "text/html": [
       "<div>\n",
       "<style scoped>\n",
       "    .dataframe tbody tr th:only-of-type {\n",
       "        vertical-align: middle;\n",
       "    }\n",
       "\n",
       "    .dataframe tbody tr th {\n",
       "        vertical-align: top;\n",
       "    }\n",
       "\n",
       "    .dataframe thead th {\n",
       "        text-align: right;\n",
       "    }\n",
       "</style>\n",
       "<table border=\"1\" class=\"dataframe\">\n",
       "  <thead>\n",
       "    <tr style=\"text-align: right;\">\n",
       "      <th></th>\n",
       "      <th>ID</th>\n",
       "      <th>LIMIT_BAL</th>\n",
       "      <th>SEX</th>\n",
       "      <th>EDUCATION</th>\n",
       "      <th>MARRIAGE</th>\n",
       "      <th>AGE</th>\n",
       "      <th>PAY_0</th>\n",
       "      <th>PAY_2</th>\n",
       "      <th>PAY_3</th>\n",
       "      <th>PAY_4</th>\n",
       "      <th>...</th>\n",
       "      <th>BILL_AMT4</th>\n",
       "      <th>BILL_AMT5</th>\n",
       "      <th>BILL_AMT6</th>\n",
       "      <th>PAY_AMT1</th>\n",
       "      <th>PAY_AMT2</th>\n",
       "      <th>PAY_AMT3</th>\n",
       "      <th>PAY_AMT4</th>\n",
       "      <th>PAY_AMT5</th>\n",
       "      <th>PAY_AMT6</th>\n",
       "      <th>default payment next month</th>\n",
       "    </tr>\n",
       "  </thead>\n",
       "  <tbody>\n",
       "    <tr>\n",
       "      <th>0</th>\n",
       "      <td>1</td>\n",
       "      <td>20000</td>\n",
       "      <td>2</td>\n",
       "      <td>2</td>\n",
       "      <td>1</td>\n",
       "      <td>24</td>\n",
       "      <td>2</td>\n",
       "      <td>2</td>\n",
       "      <td>-1</td>\n",
       "      <td>-1</td>\n",
       "      <td>...</td>\n",
       "      <td>0</td>\n",
       "      <td>0</td>\n",
       "      <td>0</td>\n",
       "      <td>0</td>\n",
       "      <td>689</td>\n",
       "      <td>0</td>\n",
       "      <td>0</td>\n",
       "      <td>0</td>\n",
       "      <td>0</td>\n",
       "      <td>1</td>\n",
       "    </tr>\n",
       "    <tr>\n",
       "      <th>1</th>\n",
       "      <td>2</td>\n",
       "      <td>120000</td>\n",
       "      <td>2</td>\n",
       "      <td>2</td>\n",
       "      <td>2</td>\n",
       "      <td>26</td>\n",
       "      <td>-1</td>\n",
       "      <td>2</td>\n",
       "      <td>0</td>\n",
       "      <td>0</td>\n",
       "      <td>...</td>\n",
       "      <td>3272</td>\n",
       "      <td>3455</td>\n",
       "      <td>3261</td>\n",
       "      <td>0</td>\n",
       "      <td>1000</td>\n",
       "      <td>1000</td>\n",
       "      <td>1000</td>\n",
       "      <td>0</td>\n",
       "      <td>2000</td>\n",
       "      <td>1</td>\n",
       "    </tr>\n",
       "    <tr>\n",
       "      <th>2</th>\n",
       "      <td>3</td>\n",
       "      <td>90000</td>\n",
       "      <td>2</td>\n",
       "      <td>2</td>\n",
       "      <td>2</td>\n",
       "      <td>34</td>\n",
       "      <td>0</td>\n",
       "      <td>0</td>\n",
       "      <td>0</td>\n",
       "      <td>0</td>\n",
       "      <td>...</td>\n",
       "      <td>14331</td>\n",
       "      <td>14948</td>\n",
       "      <td>15549</td>\n",
       "      <td>1518</td>\n",
       "      <td>1500</td>\n",
       "      <td>1000</td>\n",
       "      <td>1000</td>\n",
       "      <td>1000</td>\n",
       "      <td>5000</td>\n",
       "      <td>0</td>\n",
       "    </tr>\n",
       "    <tr>\n",
       "      <th>3</th>\n",
       "      <td>4</td>\n",
       "      <td>50000</td>\n",
       "      <td>2</td>\n",
       "      <td>2</td>\n",
       "      <td>1</td>\n",
       "      <td>37</td>\n",
       "      <td>0</td>\n",
       "      <td>0</td>\n",
       "      <td>0</td>\n",
       "      <td>0</td>\n",
       "      <td>...</td>\n",
       "      <td>28314</td>\n",
       "      <td>28959</td>\n",
       "      <td>29547</td>\n",
       "      <td>2000</td>\n",
       "      <td>2019</td>\n",
       "      <td>1200</td>\n",
       "      <td>1100</td>\n",
       "      <td>1069</td>\n",
       "      <td>1000</td>\n",
       "      <td>0</td>\n",
       "    </tr>\n",
       "    <tr>\n",
       "      <th>4</th>\n",
       "      <td>5</td>\n",
       "      <td>50000</td>\n",
       "      <td>1</td>\n",
       "      <td>2</td>\n",
       "      <td>1</td>\n",
       "      <td>57</td>\n",
       "      <td>-1</td>\n",
       "      <td>0</td>\n",
       "      <td>-1</td>\n",
       "      <td>0</td>\n",
       "      <td>...</td>\n",
       "      <td>20940</td>\n",
       "      <td>19146</td>\n",
       "      <td>19131</td>\n",
       "      <td>2000</td>\n",
       "      <td>36681</td>\n",
       "      <td>10000</td>\n",
       "      <td>9000</td>\n",
       "      <td>689</td>\n",
       "      <td>679</td>\n",
       "      <td>0</td>\n",
       "    </tr>\n",
       "  </tbody>\n",
       "</table>\n",
       "<p>5 rows × 25 columns</p>\n",
       "</div>"
      ],
      "text/plain": [
       "   ID  LIMIT_BAL  SEX  EDUCATION  MARRIAGE  AGE  PAY_0  PAY_2  PAY_3  PAY_4  \\\n",
       "0   1      20000    2          2         1   24      2      2     -1     -1   \n",
       "1   2     120000    2          2         2   26     -1      2      0      0   \n",
       "2   3      90000    2          2         2   34      0      0      0      0   \n",
       "3   4      50000    2          2         1   37      0      0      0      0   \n",
       "4   5      50000    1          2         1   57     -1      0     -1      0   \n",
       "\n",
       "   ...  BILL_AMT4  BILL_AMT5  BILL_AMT6  PAY_AMT1  PAY_AMT2  PAY_AMT3  \\\n",
       "0  ...          0          0          0         0       689         0   \n",
       "1  ...       3272       3455       3261         0      1000      1000   \n",
       "2  ...      14331      14948      15549      1518      1500      1000   \n",
       "3  ...      28314      28959      29547      2000      2019      1200   \n",
       "4  ...      20940      19146      19131      2000     36681     10000   \n",
       "\n",
       "   PAY_AMT4  PAY_AMT5  PAY_AMT6  default payment next month  \n",
       "0         0         0         0                           1  \n",
       "1      1000         0      2000                           1  \n",
       "2      1000      1000      5000                           0  \n",
       "3      1100      1069      1000                           0  \n",
       "4      9000       689       679                           0  \n",
       "\n",
       "[5 rows x 25 columns]"
      ]
     },
     "execution_count": 72,
     "metadata": {},
     "output_type": "execute_result"
    }
   ],
   "source": [
    "df.head()"
   ]
  },
  {
   "cell_type": "code",
   "execution_count": null,
   "metadata": {},
   "outputs": [],
   "source": []
  },
  {
   "cell_type": "code",
   "execution_count": 73,
   "metadata": {},
   "outputs": [],
   "source": [
    "X_1 = train.drop('default payment next month', axis = 1)"
   ]
  },
  {
   "cell_type": "code",
   "execution_count": 74,
   "metadata": {},
   "outputs": [
    {
     "data": {
      "text/html": [
       "<div>\n",
       "<style scoped>\n",
       "    .dataframe tbody tr th:only-of-type {\n",
       "        vertical-align: middle;\n",
       "    }\n",
       "\n",
       "    .dataframe tbody tr th {\n",
       "        vertical-align: top;\n",
       "    }\n",
       "\n",
       "    .dataframe thead th {\n",
       "        text-align: right;\n",
       "    }\n",
       "</style>\n",
       "<table border=\"1\" class=\"dataframe\">\n",
       "  <thead>\n",
       "    <tr style=\"text-align: right;\">\n",
       "      <th></th>\n",
       "      <th>ID</th>\n",
       "      <th>LIMIT_BAL</th>\n",
       "      <th>SEX</th>\n",
       "      <th>EDUCATION</th>\n",
       "      <th>MARRIAGE</th>\n",
       "      <th>AGE</th>\n",
       "      <th>PAY_0</th>\n",
       "      <th>PAY_2</th>\n",
       "      <th>PAY_3</th>\n",
       "      <th>PAY_4</th>\n",
       "      <th>...</th>\n",
       "      <th>BILL_AMT3</th>\n",
       "      <th>BILL_AMT4</th>\n",
       "      <th>BILL_AMT5</th>\n",
       "      <th>BILL_AMT6</th>\n",
       "      <th>PAY_AMT1</th>\n",
       "      <th>PAY_AMT2</th>\n",
       "      <th>PAY_AMT3</th>\n",
       "      <th>PAY_AMT4</th>\n",
       "      <th>PAY_AMT5</th>\n",
       "      <th>PAY_AMT6</th>\n",
       "    </tr>\n",
       "  </thead>\n",
       "  <tbody>\n",
       "    <tr>\n",
       "      <th>16310</th>\n",
       "      <td>16311</td>\n",
       "      <td>200000</td>\n",
       "      <td>2</td>\n",
       "      <td>2</td>\n",
       "      <td>1</td>\n",
       "      <td>36</td>\n",
       "      <td>0</td>\n",
       "      <td>0</td>\n",
       "      <td>0</td>\n",
       "      <td>0</td>\n",
       "      <td>...</td>\n",
       "      <td>189643</td>\n",
       "      <td>115046</td>\n",
       "      <td>24895</td>\n",
       "      <td>35410</td>\n",
       "      <td>12000</td>\n",
       "      <td>9427</td>\n",
       "      <td>5934</td>\n",
       "      <td>13000</td>\n",
       "      <td>11000</td>\n",
       "      <td>1320</td>\n",
       "    </tr>\n",
       "    <tr>\n",
       "      <th>4610</th>\n",
       "      <td>4611</td>\n",
       "      <td>30000</td>\n",
       "      <td>2</td>\n",
       "      <td>2</td>\n",
       "      <td>1</td>\n",
       "      <td>42</td>\n",
       "      <td>0</td>\n",
       "      <td>0</td>\n",
       "      <td>0</td>\n",
       "      <td>0</td>\n",
       "      <td>...</td>\n",
       "      <td>27699</td>\n",
       "      <td>28257</td>\n",
       "      <td>30695</td>\n",
       "      <td>30059</td>\n",
       "      <td>3671</td>\n",
       "      <td>1500</td>\n",
       "      <td>1018</td>\n",
       "      <td>2900</td>\n",
       "      <td>0</td>\n",
       "      <td>869</td>\n",
       "    </tr>\n",
       "    <tr>\n",
       "      <th>4387</th>\n",
       "      <td>4388</td>\n",
       "      <td>90000</td>\n",
       "      <td>1</td>\n",
       "      <td>2</td>\n",
       "      <td>1</td>\n",
       "      <td>35</td>\n",
       "      <td>8</td>\n",
       "      <td>7</td>\n",
       "      <td>6</td>\n",
       "      <td>5</td>\n",
       "      <td>...</td>\n",
       "      <td>108539</td>\n",
       "      <td>106001</td>\n",
       "      <td>103816</td>\n",
       "      <td>101878</td>\n",
       "      <td>0</td>\n",
       "      <td>0</td>\n",
       "      <td>0</td>\n",
       "      <td>0</td>\n",
       "      <td>0</td>\n",
       "      <td>0</td>\n",
       "    </tr>\n",
       "    <tr>\n",
       "      <th>25042</th>\n",
       "      <td>25043</td>\n",
       "      <td>20000</td>\n",
       "      <td>1</td>\n",
       "      <td>2</td>\n",
       "      <td>2</td>\n",
       "      <td>52</td>\n",
       "      <td>0</td>\n",
       "      <td>0</td>\n",
       "      <td>0</td>\n",
       "      <td>2</td>\n",
       "      <td>...</td>\n",
       "      <td>16029</td>\n",
       "      <td>15470</td>\n",
       "      <td>0</td>\n",
       "      <td>0</td>\n",
       "      <td>1238</td>\n",
       "      <td>2559</td>\n",
       "      <td>0</td>\n",
       "      <td>0</td>\n",
       "      <td>0</td>\n",
       "      <td>0</td>\n",
       "    </tr>\n",
       "    <tr>\n",
       "      <th>10226</th>\n",
       "      <td>10227</td>\n",
       "      <td>140000</td>\n",
       "      <td>2</td>\n",
       "      <td>3</td>\n",
       "      <td>1</td>\n",
       "      <td>51</td>\n",
       "      <td>0</td>\n",
       "      <td>0</td>\n",
       "      <td>0</td>\n",
       "      <td>0</td>\n",
       "      <td>...</td>\n",
       "      <td>59949</td>\n",
       "      <td>40979</td>\n",
       "      <td>42339</td>\n",
       "      <td>43529</td>\n",
       "      <td>3500</td>\n",
       "      <td>2000</td>\n",
       "      <td>1447</td>\n",
       "      <td>2000</td>\n",
       "      <td>2184</td>\n",
       "      <td>2000</td>\n",
       "    </tr>\n",
       "  </tbody>\n",
       "</table>\n",
       "<p>5 rows × 24 columns</p>\n",
       "</div>"
      ],
      "text/plain": [
       "          ID  LIMIT_BAL  SEX  EDUCATION  MARRIAGE  AGE  PAY_0  PAY_2  PAY_3  \\\n",
       "16310  16311     200000    2          2         1   36      0      0      0   \n",
       "4610    4611      30000    2          2         1   42      0      0      0   \n",
       "4387    4388      90000    1          2         1   35      8      7      6   \n",
       "25042  25043      20000    1          2         2   52      0      0      0   \n",
       "10226  10227     140000    2          3         1   51      0      0      0   \n",
       "\n",
       "       PAY_4  ...  BILL_AMT3  BILL_AMT4  BILL_AMT5  BILL_AMT6  PAY_AMT1  \\\n",
       "16310      0  ...     189643     115046      24895      35410     12000   \n",
       "4610       0  ...      27699      28257      30695      30059      3671   \n",
       "4387       5  ...     108539     106001     103816     101878         0   \n",
       "25042      2  ...      16029      15470          0          0      1238   \n",
       "10226      0  ...      59949      40979      42339      43529      3500   \n",
       "\n",
       "       PAY_AMT2  PAY_AMT3  PAY_AMT4  PAY_AMT5  PAY_AMT6  \n",
       "16310      9427      5934     13000     11000      1320  \n",
       "4610       1500      1018      2900         0       869  \n",
       "4387          0         0         0         0         0  \n",
       "25042      2559         0         0         0         0  \n",
       "10226      2000      1447      2000      2184      2000  \n",
       "\n",
       "[5 rows x 24 columns]"
      ]
     },
     "execution_count": 74,
     "metadata": {},
     "output_type": "execute_result"
    }
   ],
   "source": [
    "X_1.head()"
   ]
  },
  {
   "cell_type": "code",
   "execution_count": 75,
   "metadata": {},
   "outputs": [
    {
     "data": {
      "text/html": [
       "<div>\n",
       "<style scoped>\n",
       "    .dataframe tbody tr th:only-of-type {\n",
       "        vertical-align: middle;\n",
       "    }\n",
       "\n",
       "    .dataframe tbody tr th {\n",
       "        vertical-align: top;\n",
       "    }\n",
       "\n",
       "    .dataframe thead th {\n",
       "        text-align: right;\n",
       "    }\n",
       "</style>\n",
       "<table border=\"1\" class=\"dataframe\">\n",
       "  <thead>\n",
       "    <tr style=\"text-align: right;\">\n",
       "      <th></th>\n",
       "      <th>ID</th>\n",
       "      <th>LIMIT_BAL</th>\n",
       "      <th>SEX</th>\n",
       "      <th>EDUCATION</th>\n",
       "      <th>MARRIAGE</th>\n",
       "      <th>AGE</th>\n",
       "      <th>PAY_0</th>\n",
       "      <th>PAY_2</th>\n",
       "      <th>PAY_3</th>\n",
       "      <th>PAY_4</th>\n",
       "      <th>...</th>\n",
       "      <th>BILL_AMT4</th>\n",
       "      <th>BILL_AMT5</th>\n",
       "      <th>BILL_AMT6</th>\n",
       "      <th>PAY_AMT1</th>\n",
       "      <th>PAY_AMT2</th>\n",
       "      <th>PAY_AMT3</th>\n",
       "      <th>PAY_AMT4</th>\n",
       "      <th>PAY_AMT5</th>\n",
       "      <th>PAY_AMT6</th>\n",
       "      <th>default payment next month</th>\n",
       "    </tr>\n",
       "  </thead>\n",
       "  <tbody>\n",
       "    <tr>\n",
       "      <th>0</th>\n",
       "      <td>1</td>\n",
       "      <td>20000</td>\n",
       "      <td>2</td>\n",
       "      <td>2</td>\n",
       "      <td>1</td>\n",
       "      <td>24</td>\n",
       "      <td>2</td>\n",
       "      <td>2</td>\n",
       "      <td>-1</td>\n",
       "      <td>-1</td>\n",
       "      <td>...</td>\n",
       "      <td>0</td>\n",
       "      <td>0</td>\n",
       "      <td>0</td>\n",
       "      <td>0</td>\n",
       "      <td>689</td>\n",
       "      <td>0</td>\n",
       "      <td>0</td>\n",
       "      <td>0</td>\n",
       "      <td>0</td>\n",
       "      <td>1</td>\n",
       "    </tr>\n",
       "    <tr>\n",
       "      <th>1</th>\n",
       "      <td>2</td>\n",
       "      <td>120000</td>\n",
       "      <td>2</td>\n",
       "      <td>2</td>\n",
       "      <td>2</td>\n",
       "      <td>26</td>\n",
       "      <td>-1</td>\n",
       "      <td>2</td>\n",
       "      <td>0</td>\n",
       "      <td>0</td>\n",
       "      <td>...</td>\n",
       "      <td>3272</td>\n",
       "      <td>3455</td>\n",
       "      <td>3261</td>\n",
       "      <td>0</td>\n",
       "      <td>1000</td>\n",
       "      <td>1000</td>\n",
       "      <td>1000</td>\n",
       "      <td>0</td>\n",
       "      <td>2000</td>\n",
       "      <td>1</td>\n",
       "    </tr>\n",
       "    <tr>\n",
       "      <th>2</th>\n",
       "      <td>3</td>\n",
       "      <td>90000</td>\n",
       "      <td>2</td>\n",
       "      <td>2</td>\n",
       "      <td>2</td>\n",
       "      <td>34</td>\n",
       "      <td>0</td>\n",
       "      <td>0</td>\n",
       "      <td>0</td>\n",
       "      <td>0</td>\n",
       "      <td>...</td>\n",
       "      <td>14331</td>\n",
       "      <td>14948</td>\n",
       "      <td>15549</td>\n",
       "      <td>1518</td>\n",
       "      <td>1500</td>\n",
       "      <td>1000</td>\n",
       "      <td>1000</td>\n",
       "      <td>1000</td>\n",
       "      <td>5000</td>\n",
       "      <td>0</td>\n",
       "    </tr>\n",
       "    <tr>\n",
       "      <th>3</th>\n",
       "      <td>4</td>\n",
       "      <td>50000</td>\n",
       "      <td>2</td>\n",
       "      <td>2</td>\n",
       "      <td>1</td>\n",
       "      <td>37</td>\n",
       "      <td>0</td>\n",
       "      <td>0</td>\n",
       "      <td>0</td>\n",
       "      <td>0</td>\n",
       "      <td>...</td>\n",
       "      <td>28314</td>\n",
       "      <td>28959</td>\n",
       "      <td>29547</td>\n",
       "      <td>2000</td>\n",
       "      <td>2019</td>\n",
       "      <td>1200</td>\n",
       "      <td>1100</td>\n",
       "      <td>1069</td>\n",
       "      <td>1000</td>\n",
       "      <td>0</td>\n",
       "    </tr>\n",
       "    <tr>\n",
       "      <th>4</th>\n",
       "      <td>5</td>\n",
       "      <td>50000</td>\n",
       "      <td>1</td>\n",
       "      <td>2</td>\n",
       "      <td>1</td>\n",
       "      <td>57</td>\n",
       "      <td>-1</td>\n",
       "      <td>0</td>\n",
       "      <td>-1</td>\n",
       "      <td>0</td>\n",
       "      <td>...</td>\n",
       "      <td>20940</td>\n",
       "      <td>19146</td>\n",
       "      <td>19131</td>\n",
       "      <td>2000</td>\n",
       "      <td>36681</td>\n",
       "      <td>10000</td>\n",
       "      <td>9000</td>\n",
       "      <td>689</td>\n",
       "      <td>679</td>\n",
       "      <td>0</td>\n",
       "    </tr>\n",
       "  </tbody>\n",
       "</table>\n",
       "<p>5 rows × 25 columns</p>\n",
       "</div>"
      ],
      "text/plain": [
       "   ID  LIMIT_BAL  SEX  EDUCATION  MARRIAGE  AGE  PAY_0  PAY_2  PAY_3  PAY_4  \\\n",
       "0   1      20000    2          2         1   24      2      2     -1     -1   \n",
       "1   2     120000    2          2         2   26     -1      2      0      0   \n",
       "2   3      90000    2          2         2   34      0      0      0      0   \n",
       "3   4      50000    2          2         1   37      0      0      0      0   \n",
       "4   5      50000    1          2         1   57     -1      0     -1      0   \n",
       "\n",
       "   ...  BILL_AMT4  BILL_AMT5  BILL_AMT6  PAY_AMT1  PAY_AMT2  PAY_AMT3  \\\n",
       "0  ...          0          0          0         0       689         0   \n",
       "1  ...       3272       3455       3261         0      1000      1000   \n",
       "2  ...      14331      14948      15549      1518      1500      1000   \n",
       "3  ...      28314      28959      29547      2000      2019      1200   \n",
       "4  ...      20940      19146      19131      2000     36681     10000   \n",
       "\n",
       "   PAY_AMT4  PAY_AMT5  PAY_AMT6  default payment next month  \n",
       "0         0         0         0                           1  \n",
       "1      1000         0      2000                           1  \n",
       "2      1000      1000      5000                           0  \n",
       "3      1100      1069      1000                           0  \n",
       "4      9000       689       679                           0  \n",
       "\n",
       "[5 rows x 25 columns]"
      ]
     },
     "execution_count": 75,
     "metadata": {},
     "output_type": "execute_result"
    }
   ],
   "source": [
    "df.head()"
   ]
  },
  {
   "cell_type": "code",
   "execution_count": 76,
   "metadata": {},
   "outputs": [],
   "source": [
    "X_train_1 = train.drop('default payment next month', axis = 1)"
   ]
  },
  {
   "cell_type": "code",
   "execution_count": 77,
   "metadata": {},
   "outputs": [
    {
     "data": {
      "text/html": [
       "<div>\n",
       "<style scoped>\n",
       "    .dataframe tbody tr th:only-of-type {\n",
       "        vertical-align: middle;\n",
       "    }\n",
       "\n",
       "    .dataframe tbody tr th {\n",
       "        vertical-align: top;\n",
       "    }\n",
       "\n",
       "    .dataframe thead th {\n",
       "        text-align: right;\n",
       "    }\n",
       "</style>\n",
       "<table border=\"1\" class=\"dataframe\">\n",
       "  <thead>\n",
       "    <tr style=\"text-align: right;\">\n",
       "      <th></th>\n",
       "      <th>ID</th>\n",
       "      <th>LIMIT_BAL</th>\n",
       "      <th>SEX</th>\n",
       "      <th>EDUCATION</th>\n",
       "      <th>MARRIAGE</th>\n",
       "      <th>AGE</th>\n",
       "      <th>PAY_0</th>\n",
       "      <th>PAY_2</th>\n",
       "      <th>PAY_3</th>\n",
       "      <th>PAY_4</th>\n",
       "      <th>...</th>\n",
       "      <th>BILL_AMT3</th>\n",
       "      <th>BILL_AMT4</th>\n",
       "      <th>BILL_AMT5</th>\n",
       "      <th>BILL_AMT6</th>\n",
       "      <th>PAY_AMT1</th>\n",
       "      <th>PAY_AMT2</th>\n",
       "      <th>PAY_AMT3</th>\n",
       "      <th>PAY_AMT4</th>\n",
       "      <th>PAY_AMT5</th>\n",
       "      <th>PAY_AMT6</th>\n",
       "    </tr>\n",
       "  </thead>\n",
       "  <tbody>\n",
       "    <tr>\n",
       "      <th>16310</th>\n",
       "      <td>16311</td>\n",
       "      <td>200000</td>\n",
       "      <td>2</td>\n",
       "      <td>2</td>\n",
       "      <td>1</td>\n",
       "      <td>36</td>\n",
       "      <td>0</td>\n",
       "      <td>0</td>\n",
       "      <td>0</td>\n",
       "      <td>0</td>\n",
       "      <td>...</td>\n",
       "      <td>189643</td>\n",
       "      <td>115046</td>\n",
       "      <td>24895</td>\n",
       "      <td>35410</td>\n",
       "      <td>12000</td>\n",
       "      <td>9427</td>\n",
       "      <td>5934</td>\n",
       "      <td>13000</td>\n",
       "      <td>11000</td>\n",
       "      <td>1320</td>\n",
       "    </tr>\n",
       "    <tr>\n",
       "      <th>4610</th>\n",
       "      <td>4611</td>\n",
       "      <td>30000</td>\n",
       "      <td>2</td>\n",
       "      <td>2</td>\n",
       "      <td>1</td>\n",
       "      <td>42</td>\n",
       "      <td>0</td>\n",
       "      <td>0</td>\n",
       "      <td>0</td>\n",
       "      <td>0</td>\n",
       "      <td>...</td>\n",
       "      <td>27699</td>\n",
       "      <td>28257</td>\n",
       "      <td>30695</td>\n",
       "      <td>30059</td>\n",
       "      <td>3671</td>\n",
       "      <td>1500</td>\n",
       "      <td>1018</td>\n",
       "      <td>2900</td>\n",
       "      <td>0</td>\n",
       "      <td>869</td>\n",
       "    </tr>\n",
       "    <tr>\n",
       "      <th>4387</th>\n",
       "      <td>4388</td>\n",
       "      <td>90000</td>\n",
       "      <td>1</td>\n",
       "      <td>2</td>\n",
       "      <td>1</td>\n",
       "      <td>35</td>\n",
       "      <td>8</td>\n",
       "      <td>7</td>\n",
       "      <td>6</td>\n",
       "      <td>5</td>\n",
       "      <td>...</td>\n",
       "      <td>108539</td>\n",
       "      <td>106001</td>\n",
       "      <td>103816</td>\n",
       "      <td>101878</td>\n",
       "      <td>0</td>\n",
       "      <td>0</td>\n",
       "      <td>0</td>\n",
       "      <td>0</td>\n",
       "      <td>0</td>\n",
       "      <td>0</td>\n",
       "    </tr>\n",
       "    <tr>\n",
       "      <th>25042</th>\n",
       "      <td>25043</td>\n",
       "      <td>20000</td>\n",
       "      <td>1</td>\n",
       "      <td>2</td>\n",
       "      <td>2</td>\n",
       "      <td>52</td>\n",
       "      <td>0</td>\n",
       "      <td>0</td>\n",
       "      <td>0</td>\n",
       "      <td>2</td>\n",
       "      <td>...</td>\n",
       "      <td>16029</td>\n",
       "      <td>15470</td>\n",
       "      <td>0</td>\n",
       "      <td>0</td>\n",
       "      <td>1238</td>\n",
       "      <td>2559</td>\n",
       "      <td>0</td>\n",
       "      <td>0</td>\n",
       "      <td>0</td>\n",
       "      <td>0</td>\n",
       "    </tr>\n",
       "    <tr>\n",
       "      <th>10226</th>\n",
       "      <td>10227</td>\n",
       "      <td>140000</td>\n",
       "      <td>2</td>\n",
       "      <td>3</td>\n",
       "      <td>1</td>\n",
       "      <td>51</td>\n",
       "      <td>0</td>\n",
       "      <td>0</td>\n",
       "      <td>0</td>\n",
       "      <td>0</td>\n",
       "      <td>...</td>\n",
       "      <td>59949</td>\n",
       "      <td>40979</td>\n",
       "      <td>42339</td>\n",
       "      <td>43529</td>\n",
       "      <td>3500</td>\n",
       "      <td>2000</td>\n",
       "      <td>1447</td>\n",
       "      <td>2000</td>\n",
       "      <td>2184</td>\n",
       "      <td>2000</td>\n",
       "    </tr>\n",
       "  </tbody>\n",
       "</table>\n",
       "<p>5 rows × 24 columns</p>\n",
       "</div>"
      ],
      "text/plain": [
       "          ID  LIMIT_BAL  SEX  EDUCATION  MARRIAGE  AGE  PAY_0  PAY_2  PAY_3  \\\n",
       "16310  16311     200000    2          2         1   36      0      0      0   \n",
       "4610    4611      30000    2          2         1   42      0      0      0   \n",
       "4387    4388      90000    1          2         1   35      8      7      6   \n",
       "25042  25043      20000    1          2         2   52      0      0      0   \n",
       "10226  10227     140000    2          3         1   51      0      0      0   \n",
       "\n",
       "       PAY_4  ...  BILL_AMT3  BILL_AMT4  BILL_AMT5  BILL_AMT6  PAY_AMT1  \\\n",
       "16310      0  ...     189643     115046      24895      35410     12000   \n",
       "4610       0  ...      27699      28257      30695      30059      3671   \n",
       "4387       5  ...     108539     106001     103816     101878         0   \n",
       "25042      2  ...      16029      15470          0          0      1238   \n",
       "10226      0  ...      59949      40979      42339      43529      3500   \n",
       "\n",
       "       PAY_AMT2  PAY_AMT3  PAY_AMT4  PAY_AMT5  PAY_AMT6  \n",
       "16310      9427      5934     13000     11000      1320  \n",
       "4610       1500      1018      2900         0       869  \n",
       "4387          0         0         0         0         0  \n",
       "25042      2559         0         0         0         0  \n",
       "10226      2000      1447      2000      2184      2000  \n",
       "\n",
       "[5 rows x 24 columns]"
      ]
     },
     "execution_count": 77,
     "metadata": {},
     "output_type": "execute_result"
    }
   ],
   "source": [
    "X_train_1.head()"
   ]
  },
  {
   "cell_type": "code",
   "execution_count": null,
   "metadata": {},
   "outputs": [],
   "source": []
  },
  {
   "cell_type": "code",
   "execution_count": null,
   "metadata": {},
   "outputs": [],
   "source": []
  },
  {
   "cell_type": "code",
   "execution_count": 78,
   "metadata": {},
   "outputs": [],
   "source": [
    "X_train, X_test, y_train, y_test = train_test_split(X_train_1, y, test_size=0.30, random_state=50)"
   ]
  },
  {
   "cell_type": "code",
   "execution_count": 79,
   "metadata": {},
   "outputs": [
    {
     "name": "stderr",
     "output_type": "stream",
     "text": [
      "/Users/davidgodinez/anaconda3/lib/python3.7/site-packages/sklearn/linear_model/_logistic.py:940: ConvergenceWarning: lbfgs failed to converge (status=1):\n",
      "STOP: TOTAL NO. of ITERATIONS REACHED LIMIT.\n",
      "\n",
      "Increase the number of iterations (max_iter) or scale the data as shown in:\n",
      "    https://scikit-learn.org/stable/modules/preprocessing.html\n",
      "Please also refer to the documentation for alternative solver options:\n",
      "    https://scikit-learn.org/stable/modules/linear_model.html#logistic-regression\n",
      "  extra_warning_msg=_LOGISTIC_SOLVER_CONVERGENCE_MSG)\n"
     ]
    },
    {
     "data": {
      "text/plain": [
       "LogisticRegression(C=1.0, class_weight=None, dual=False, fit_intercept=True,\n",
       "                   intercept_scaling=1, l1_ratio=None, max_iter=100,\n",
       "                   multi_class='auto', n_jobs=None, penalty='l2',\n",
       "                   random_state=None, solver='lbfgs', tol=0.0001, verbose=0,\n",
       "                   warm_start=False)"
      ]
     },
     "execution_count": 79,
     "metadata": {},
     "output_type": "execute_result"
    }
   ],
   "source": [
    "model.fit(X_train, y_train)"
   ]
  },
  {
   "cell_type": "code",
   "execution_count": 80,
   "metadata": {},
   "outputs": [
    {
     "data": {
      "text/plain": [
       "0.776984126984127"
      ]
     },
     "execution_count": 80,
     "metadata": {},
     "output_type": "execute_result"
    }
   ],
   "source": [
    "model.score(X_test,y_test)"
   ]
  },
  {
   "cell_type": "code",
   "execution_count": 81,
   "metadata": {},
   "outputs": [],
   "source": [
    "from sklearn.model_selection import cross_val_score, cross_val_predict\n",
    "from sklearn import metrics\n",
    "from sklearn.svm import SVC"
   ]
  },
  {
   "cell_type": "code",
   "execution_count": 82,
   "metadata": {},
   "outputs": [
    {
     "name": "stderr",
     "output_type": "stream",
     "text": [
      "/Users/davidgodinez/anaconda3/lib/python3.7/site-packages/sklearn/linear_model/_logistic.py:940: ConvergenceWarning: lbfgs failed to converge (status=1):\n",
      "STOP: TOTAL NO. of ITERATIONS REACHED LIMIT.\n",
      "\n",
      "Increase the number of iterations (max_iter) or scale the data as shown in:\n",
      "    https://scikit-learn.org/stable/modules/preprocessing.html\n",
      "Please also refer to the documentation for alternative solver options:\n",
      "    https://scikit-learn.org/stable/modules/linear_model.html#logistic-regression\n",
      "  extra_warning_msg=_LOGISTIC_SOLVER_CONVERGENCE_MSG)\n",
      "/Users/davidgodinez/anaconda3/lib/python3.7/site-packages/sklearn/linear_model/_logistic.py:940: ConvergenceWarning: lbfgs failed to converge (status=1):\n",
      "STOP: TOTAL NO. of ITERATIONS REACHED LIMIT.\n",
      "\n",
      "Increase the number of iterations (max_iter) or scale the data as shown in:\n",
      "    https://scikit-learn.org/stable/modules/preprocessing.html\n",
      "Please also refer to the documentation for alternative solver options:\n",
      "    https://scikit-learn.org/stable/modules/linear_model.html#logistic-regression\n",
      "  extra_warning_msg=_LOGISTIC_SOLVER_CONVERGENCE_MSG)\n",
      "/Users/davidgodinez/anaconda3/lib/python3.7/site-packages/sklearn/linear_model/_logistic.py:940: ConvergenceWarning: lbfgs failed to converge (status=1):\n",
      "STOP: TOTAL NO. of ITERATIONS REACHED LIMIT.\n",
      "\n",
      "Increase the number of iterations (max_iter) or scale the data as shown in:\n",
      "    https://scikit-learn.org/stable/modules/preprocessing.html\n",
      "Please also refer to the documentation for alternative solver options:\n",
      "    https://scikit-learn.org/stable/modules/linear_model.html#logistic-regression\n",
      "  extra_warning_msg=_LOGISTIC_SOLVER_CONVERGENCE_MSG)\n",
      "/Users/davidgodinez/anaconda3/lib/python3.7/site-packages/sklearn/linear_model/_logistic.py:940: ConvergenceWarning: lbfgs failed to converge (status=1):\n",
      "STOP: TOTAL NO. of ITERATIONS REACHED LIMIT.\n",
      "\n",
      "Increase the number of iterations (max_iter) or scale the data as shown in:\n",
      "    https://scikit-learn.org/stable/modules/preprocessing.html\n",
      "Please also refer to the documentation for alternative solver options:\n",
      "    https://scikit-learn.org/stable/modules/linear_model.html#logistic-regression\n",
      "  extra_warning_msg=_LOGISTIC_SOLVER_CONVERGENCE_MSG)\n"
     ]
    }
   ],
   "source": [
    "scores = cross_val_score(model, X_train,y_train)"
   ]
  },
  {
   "cell_type": "code",
   "execution_count": 135,
   "metadata": {},
   "outputs": [],
   "source": [
    "svm = SVC(C = 3)"
   ]
  },
  {
   "cell_type": "code",
   "execution_count": 136,
   "metadata": {},
   "outputs": [
    {
     "data": {
      "text/plain": [
       "SVC(C=3, break_ties=False, cache_size=200, class_weight=None, coef0=0.0,\n",
       "    decision_function_shape='ovr', degree=3, gamma='scale', kernel='rbf',\n",
       "    max_iter=-1, probability=False, random_state=None, shrinking=True,\n",
       "    tol=0.001, verbose=False)"
      ]
     },
     "execution_count": 136,
     "metadata": {},
     "output_type": "execute_result"
    }
   ],
   "source": [
    "svm.fit(X_train_1,y)"
   ]
  },
  {
   "cell_type": "code",
   "execution_count": 85,
   "metadata": {},
   "outputs": [],
   "source": [
    "new_df = df.drop('default payment next month', axis = 1)"
   ]
  },
  {
   "cell_type": "code",
   "execution_count": 86,
   "metadata": {},
   "outputs": [
    {
     "data": {
      "text/plain": [
       "0    1\n",
       "1    1\n",
       "2    0\n",
       "3    0\n",
       "4    0\n",
       "Name: default payment next month, dtype: int64"
      ]
     },
     "execution_count": 86,
     "metadata": {},
     "output_type": "execute_result"
    }
   ],
   "source": [
    "new_y = df['default payment next month']\n",
    "new_y.head()"
   ]
  },
  {
   "cell_type": "code",
   "execution_count": null,
   "metadata": {},
   "outputs": [],
   "source": []
  },
  {
   "cell_type": "code",
   "execution_count": null,
   "metadata": {},
   "outputs": [],
   "source": []
  },
  {
   "cell_type": "code",
   "execution_count": null,
   "metadata": {},
   "outputs": [],
   "source": []
  },
  {
   "cell_type": "code",
   "execution_count": 87,
   "metadata": {},
   "outputs": [],
   "source": [
    "X_train, X_test, y_train, y_test = train_test_split(new_df, new_y, test_size=0.30)"
   ]
  },
  {
   "cell_type": "code",
   "execution_count": 88,
   "metadata": {},
   "outputs": [
    {
     "name": "stderr",
     "output_type": "stream",
     "text": [
      "/Users/davidgodinez/anaconda3/lib/python3.7/site-packages/sklearn/linear_model/_logistic.py:940: ConvergenceWarning: lbfgs failed to converge (status=1):\n",
      "STOP: TOTAL NO. of ITERATIONS REACHED LIMIT.\n",
      "\n",
      "Increase the number of iterations (max_iter) or scale the data as shown in:\n",
      "    https://scikit-learn.org/stable/modules/preprocessing.html\n",
      "Please also refer to the documentation for alternative solver options:\n",
      "    https://scikit-learn.org/stable/modules/linear_model.html#logistic-regression\n",
      "  extra_warning_msg=_LOGISTIC_SOLVER_CONVERGENCE_MSG)\n"
     ]
    },
    {
     "data": {
      "text/plain": [
       "LogisticRegression(C=1.0, class_weight=None, dual=False, fit_intercept=True,\n",
       "                   intercept_scaling=1, l1_ratio=None, max_iter=100,\n",
       "                   multi_class='auto', n_jobs=None, penalty='l2',\n",
       "                   random_state=None, solver='lbfgs', tol=0.0001, verbose=0,\n",
       "                   warm_start=False)"
      ]
     },
     "execution_count": 88,
     "metadata": {},
     "output_type": "execute_result"
    }
   ],
   "source": [
    "model.fit(X_train,y_train)"
   ]
  },
  {
   "cell_type": "code",
   "execution_count": 89,
   "metadata": {},
   "outputs": [
    {
     "data": {
      "text/plain": [
       "0.7768888888888889"
      ]
     },
     "execution_count": 89,
     "metadata": {},
     "output_type": "execute_result"
    }
   ],
   "source": [
    "model.score(X_test,y_test)"
   ]
  },
  {
   "cell_type": "code",
   "execution_count": 90,
   "metadata": {},
   "outputs": [],
   "source": [
    "svm = SVC()"
   ]
  },
  {
   "cell_type": "code",
   "execution_count": 91,
   "metadata": {},
   "outputs": [
    {
     "data": {
      "text/plain": [
       "SVC(C=1.0, break_ties=False, cache_size=200, class_weight=None, coef0=0.0,\n",
       "    decision_function_shape='ovr', degree=3, gamma='scale', kernel='rbf',\n",
       "    max_iter=-1, probability=False, random_state=None, shrinking=True,\n",
       "    tol=0.001, verbose=False)"
      ]
     },
     "execution_count": 91,
     "metadata": {},
     "output_type": "execute_result"
    }
   ],
   "source": [
    "svm.fit(X_train,y_train)"
   ]
  },
  {
   "cell_type": "code",
   "execution_count": 92,
   "metadata": {},
   "outputs": [
    {
     "data": {
      "text/plain": [
       "0.7768888888888889"
      ]
     },
     "execution_count": 92,
     "metadata": {},
     "output_type": "execute_result"
    }
   ],
   "source": [
    "svm.score(X_test, y_test)"
   ]
  },
  {
   "cell_type": "code",
   "execution_count": null,
   "metadata": {},
   "outputs": [],
   "source": []
  },
  {
   "cell_type": "code",
   "execution_count": null,
   "metadata": {},
   "outputs": [],
   "source": []
  },
  {
   "cell_type": "code",
   "execution_count": null,
   "metadata": {},
   "outputs": [],
   "source": []
  },
  {
   "cell_type": "code",
   "execution_count": null,
   "metadata": {},
   "outputs": [],
   "source": []
  },
  {
   "cell_type": "code",
   "execution_count": null,
   "metadata": {},
   "outputs": [],
   "source": []
  },
  {
   "cell_type": "code",
   "execution_count": null,
   "metadata": {},
   "outputs": [],
   "source": []
  },
  {
   "cell_type": "code",
   "execution_count": null,
   "metadata": {},
   "outputs": [],
   "source": [
    "df_copy = df"
   ]
  },
  {
   "cell_type": "code",
   "execution_count": null,
   "metadata": {},
   "outputs": [],
   "source": [
    "df_copy.head()"
   ]
  },
  {
   "cell_type": "code",
   "execution_count": null,
   "metadata": {},
   "outputs": [],
   "source": [
    "X = df_copy.drop(['default payment next month'], axis = 1)"
   ]
  },
  {
   "cell_type": "code",
   "execution_count": null,
   "metadata": {},
   "outputs": [],
   "source": [
    "X.head()"
   ]
  },
  {
   "cell_type": "code",
   "execution_count": null,
   "metadata": {},
   "outputs": [],
   "source": []
  },
  {
   "cell_type": "code",
   "execution_count": null,
   "metadata": {},
   "outputs": [],
   "source": []
  },
  {
   "cell_type": "code",
   "execution_count": null,
   "metadata": {},
   "outputs": [],
   "source": [
    "df_copy.SEX.replace({1:0, 2:1})"
   ]
  },
  {
   "cell_type": "code",
   "execution_count": null,
   "metadata": {},
   "outputs": [],
   "source": [
    "df_copy.info()"
   ]
  },
  {
   "cell_type": "code",
   "execution_count": null,
   "metadata": {},
   "outputs": [],
   "source": []
  },
  {
   "cell_type": "code",
   "execution_count": null,
   "metadata": {},
   "outputs": [],
   "source": []
  },
  {
   "cell_type": "code",
   "execution_count": null,
   "metadata": {},
   "outputs": [],
   "source": []
  },
  {
   "cell_type": "code",
   "execution_count": null,
   "metadata": {},
   "outputs": [],
   "source": []
  },
  {
   "cell_type": "code",
   "execution_count": null,
   "metadata": {},
   "outputs": [],
   "source": [
    "df_copy.SEX.replace()"
   ]
  },
  {
   "cell_type": "code",
   "execution_count": null,
   "metadata": {},
   "outputs": [],
   "source": []
  },
  {
   "cell_type": "code",
   "execution_count": null,
   "metadata": {},
   "outputs": [],
   "source": [
    "df_copy.head()"
   ]
  },
  {
   "cell_type": "code",
   "execution_count": null,
   "metadata": {},
   "outputs": [],
   "source": [
    "y = df_copy['default payment next month']"
   ]
  },
  {
   "cell_type": "code",
   "execution_count": 95,
   "metadata": {},
   "outputs": [],
   "source": [
    "X_train, X_test, y_train, y_test = train_test_split(X, y, test_size=0.15)"
   ]
  },
  {
   "cell_type": "code",
   "execution_count": 96,
   "metadata": {},
   "outputs": [
    {
     "data": {
      "text/plain": [
       "LogisticRegression(C=1.0, class_weight=None, dual=False, fit_intercept=True,\n",
       "                   intercept_scaling=1, l1_ratio=None, max_iter=100,\n",
       "                   multi_class='auto', n_jobs=None, penalty='l2',\n",
       "                   random_state=None, solver='lbfgs', tol=0.0001, verbose=0,\n",
       "                   warm_start=False)"
      ]
     },
     "execution_count": 96,
     "metadata": {},
     "output_type": "execute_result"
    }
   ],
   "source": [
    "model.fit(X_train,y_train)"
   ]
  },
  {
   "cell_type": "code",
   "execution_count": 97,
   "metadata": {},
   "outputs": [],
   "source": [
    "y_pred = model.predict(X_test)"
   ]
  },
  {
   "cell_type": "code",
   "execution_count": 98,
   "metadata": {},
   "outputs": [
    {
     "data": {
      "text/plain": [
       "0.813015873015873"
      ]
     },
     "execution_count": 98,
     "metadata": {},
     "output_type": "execute_result"
    }
   ],
   "source": [
    "model.score(X_test,y_test)"
   ]
  },
  {
   "cell_type": "code",
   "execution_count": 99,
   "metadata": {},
   "outputs": [],
   "source": [
    "from sklearn.metrics import classification_report\n",
    "from sklearn.metrics import confusion_matrix"
   ]
  },
  {
   "cell_type": "code",
   "execution_count": 100,
   "metadata": {},
   "outputs": [
    {
     "name": "stdout",
     "output_type": "stream",
     "text": [
      "[[2316  112]\n",
      " [ 477  245]]\n"
     ]
    }
   ],
   "source": [
    "print(confusion_matrix(y_test,y_pred))"
   ]
  },
  {
   "cell_type": "code",
   "execution_count": 101,
   "metadata": {},
   "outputs": [
    {
     "name": "stdout",
     "output_type": "stream",
     "text": [
      "              precision    recall  f1-score   support\n",
      "\n",
      "           0       0.83      0.95      0.89      2428\n",
      "           1       0.69      0.34      0.45       722\n",
      "\n",
      "    accuracy                           0.81      3150\n",
      "   macro avg       0.76      0.65      0.67      3150\n",
      "weighted avg       0.80      0.81      0.79      3150\n",
      "\n"
     ]
    }
   ],
   "source": [
    "print(classification_report(y_test,y_pred))"
   ]
  },
  {
   "cell_type": "code",
   "execution_count": 102,
   "metadata": {},
   "outputs": [],
   "source": [
    "from sklearn.neighbors import KNeighborsClassifier"
   ]
  },
  {
   "cell_type": "code",
   "execution_count": 126,
   "metadata": {},
   "outputs": [],
   "source": [
    "knn = KNeighborsClassifier(n_neighbors = 3)"
   ]
  },
  {
   "cell_type": "code",
   "execution_count": 127,
   "metadata": {},
   "outputs": [
    {
     "data": {
      "text/plain": [
       "KNeighborsClassifier(algorithm='auto', leaf_size=30, metric='minkowski',\n",
       "                     metric_params=None, n_jobs=None, n_neighbors=3, p=2,\n",
       "                     weights='uniform')"
      ]
     },
     "execution_count": 127,
     "metadata": {},
     "output_type": "execute_result"
    }
   ],
   "source": [
    "knn.fit(X_train,y_train)"
   ]
  },
  {
   "cell_type": "code",
   "execution_count": 141,
   "metadata": {},
   "outputs": [
    {
     "data": {
      "text/plain": [
       "0.813015873015873"
      ]
     },
     "execution_count": 141,
     "metadata": {},
     "output_type": "execute_result"
    }
   ],
   "source": [
    "knn.score(X_test,y_test)"
   ]
  },
  {
   "cell_type": "code",
   "execution_count": 128,
   "metadata": {},
   "outputs": [],
   "source": [
    "knn_pred = knn.predict(X_test)"
   ]
  },
  {
   "cell_type": "code",
   "execution_count": 129,
   "metadata": {},
   "outputs": [
    {
     "name": "stdout",
     "output_type": "stream",
     "text": [
      "              precision    recall  f1-score   support\n",
      "\n",
      "           0       0.83      0.95      0.89      2428\n",
      "           1       0.69      0.34      0.45       722\n",
      "\n",
      "    accuracy                           0.81      3150\n",
      "   macro avg       0.76      0.65      0.67      3150\n",
      "weighted avg       0.80      0.81      0.79      3150\n",
      "\n"
     ]
    }
   ],
   "source": [
    "print(classification_report(y_test,knn_pred))"
   ]
  },
  {
   "cell_type": "code",
   "execution_count": 145,
   "metadata": {},
   "outputs": [
    {
     "name": "stdout",
     "output_type": "stream",
     "text": [
      "[[2317  111]\n",
      " [ 478  244]]\n"
     ]
    }
   ],
   "source": [
    "print(confusion_matrix(y_test,knn_pred))"
   ]
  },
  {
   "cell_type": "code",
   "execution_count": null,
   "metadata": {},
   "outputs": [],
   "source": []
  },
  {
   "cell_type": "code",
   "execution_count": 137,
   "metadata": {},
   "outputs": [
    {
     "data": {
      "text/plain": [
       "SVC(C=3, break_ties=False, cache_size=200, class_weight=None, coef0=0.0,\n",
       "    decision_function_shape='ovr', degree=3, gamma='scale', kernel='rbf',\n",
       "    max_iter=-1, probability=False, random_state=None, shrinking=True,\n",
       "    tol=0.001, verbose=False)"
      ]
     },
     "execution_count": 137,
     "metadata": {},
     "output_type": "execute_result"
    }
   ],
   "source": [
    "svm.fit(X_train,y_train)"
   ]
  },
  {
   "cell_type": "code",
   "execution_count": 109,
   "metadata": {},
   "outputs": [],
   "source": [
    "description = df.describe()"
   ]
  },
  {
   "cell_type": "code",
   "execution_count": null,
   "metadata": {},
   "outputs": [],
   "source": [
    "print(description)"
   ]
  },
  {
   "cell_type": "code",
   "execution_count": 143,
   "metadata": {},
   "outputs": [],
   "source": [
    "svm_pred = svm.predict(X_test)"
   ]
  },
  {
   "cell_type": "code",
   "execution_count": 144,
   "metadata": {},
   "outputs": [
    {
     "name": "stdout",
     "output_type": "stream",
     "text": [
      "[[2316  112]\n",
      " [ 477  245]]\n"
     ]
    }
   ],
   "source": [
    "print(confusion_matrix(y_test,svm_pred))"
   ]
  },
  {
   "cell_type": "code",
   "execution_count": 139,
   "metadata": {},
   "outputs": [
    {
     "name": "stdout",
     "output_type": "stream",
     "text": [
      "              precision    recall  f1-score   support\n",
      "\n",
      "           0       0.83      0.95      0.89      2428\n",
      "           1       0.69      0.34      0.45       722\n",
      "\n",
      "    accuracy                           0.81      3150\n",
      "   macro avg       0.76      0.65      0.67      3150\n",
      "weighted avg       0.80      0.81      0.79      3150\n",
      "\n"
     ]
    }
   ],
   "source": [
    "print(classification_report(y_test,svm_pred))"
   ]
  },
  {
   "cell_type": "code",
   "execution_count": null,
   "metadata": {},
   "outputs": [],
   "source": []
  },
  {
   "cell_type": "code",
   "execution_count": null,
   "metadata": {},
   "outputs": [],
   "source": []
  },
  {
   "cell_type": "code",
   "execution_count": null,
   "metadata": {},
   "outputs": [],
   "source": []
  },
  {
   "cell_type": "code",
   "execution_count": null,
   "metadata": {},
   "outputs": [],
   "source": []
  },
  {
   "cell_type": "code",
   "execution_count": null,
   "metadata": {},
   "outputs": [],
   "source": []
  }
 ],
 "metadata": {
  "kernelspec": {
   "display_name": "Python 3",
   "language": "python",
   "name": "python3"
  },
  "language_info": {
   "codemirror_mode": {
    "name": "ipython",
    "version": 3
   },
   "file_extension": ".py",
   "mimetype": "text/x-python",
   "name": "python",
   "nbconvert_exporter": "python",
   "pygments_lexer": "ipython3",
   "version": "3.7.3"
  }
 },
 "nbformat": 4,
 "nbformat_minor": 2
}
